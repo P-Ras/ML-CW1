{
 "cells": [
  {
   "cell_type": "code",
   "execution_count": 1,
   "metadata": {},
   "outputs": [],
   "source": [
    "import pandas as pd\n",
    "import numpy as np\n",
    "import seaborn as sns\n",
    "import matplotlib.pyplot as plt\n",
    "%matplotlib inline\n",
    "\n",
    "from sklearn.tree import DecisionTreeClassifier\n",
    "from sklearn.linear_model import LogisticRegression\n",
    "from sklearn.ensemble import RandomForestClassifier\n",
    "from sklearn import svm\n",
    "\n",
    "from sklearn.metrics import confusion_matrix\n",
    "from sklearn.metrics import accuracy_score\n",
    "from sklearn.metrics import roc_auc_score\n",
    "from sklearn.metrics import roc_curve\n",
    "from sklearn.metrics import classification_report\n",
    "from sklearn.metrics import recall_score\n",
    "from sklearn.metrics import average_precision_score\n",
    "from sklearn.metrics import precision_score\n",
    "from sklearn.metrics import f1_score\n",
    "from sklearn.metrics import plot_confusion_matrix, plot_roc_curve\n",
    "\n",
    "from sklearn.model_selection import train_test_split\n",
    "from sklearn.model_selection import GridSearchCV\n",
    "from sklearn.model_selection import RepeatedStratifiedKFold\n",
    "from sklearn.model_selection import RandomizedSearchCV\n",
    "\n",
    "from sklearn.preprocessing import MinMaxScaler\n",
    "\n",
    "from scipy.stats import loguniform\n",
    "from sklearn.decomposition import PCA\n",
    "from imblearn.over_sampling import RandomOverSampler\n",
    "from imblearn.under_sampling import CondensedNearestNeighbour \n",
    "from imblearn.under_sampling import RandomUnderSampler\n",
    "from collections import Counter\n",
    "from sklearn.utils import resample"
   ]
  },
  {
   "cell_type": "markdown",
   "metadata": {},
   "source": [
    "# Import Data"
   ]
  },
  {
   "cell_type": "code",
   "execution_count": 2,
   "metadata": {},
   "outputs": [],
   "source": [
    "df = pd.read_csv('dataset/dataCOMP0050Coursework1.csv')"
   ]
  },
  {
   "cell_type": "code",
   "execution_count": 3,
   "metadata": {},
   "outputs": [
    {
     "data": {
      "text/plain": [
       "(8929, 21)"
      ]
     },
     "execution_count": 3,
     "metadata": {},
     "output_type": "execute_result"
    }
   ],
   "source": [
    "df.shape"
   ]
  },
  {
   "cell_type": "code",
   "execution_count": 4,
   "metadata": {},
   "outputs": [
    {
     "name": "stdout",
     "output_type": "stream",
     "text": [
      "<class 'pandas.core.frame.DataFrame'>\n",
      "RangeIndex: 8929 entries, 0 to 8928\n",
      "Data columns (total 21 columns):\n",
      " #   Column                Non-Null Count  Dtype  \n",
      "---  ------                --------------  -----  \n",
      " 0   loan_amnt             8929 non-null   int64  \n",
      " 1   term                  8929 non-null   int64  \n",
      " 2   installment           8929 non-null   float64\n",
      " 3   emp_length            8504 non-null   float64\n",
      " 4   home_ownership        8929 non-null   object \n",
      " 5   verification_status   8929 non-null   object \n",
      " 6   issue_d               8929 non-null   object \n",
      " 7   purpose               8929 non-null   object \n",
      " 8   dti                   8929 non-null   float64\n",
      " 9   earliest_cr_line      8929 non-null   int64  \n",
      " 10  open_acc              8929 non-null   int64  \n",
      " 11  pub_rec               8929 non-null   int64  \n",
      " 12  revol_util            8915 non-null   float64\n",
      " 13  total_acc             8929 non-null   int64  \n",
      " 14  application_type      8929 non-null   object \n",
      " 15  mort_acc              7173 non-null   float64\n",
      " 16  pub_rec_bankruptcies  8912 non-null   float64\n",
      " 17  log_annual_inc        8929 non-null   float64\n",
      " 18  fico_score            8929 non-null   float64\n",
      " 19  log_revol_bal         8929 non-null   float64\n",
      " 20  charged_off           8929 non-null   int64  \n",
      "dtypes: float64(9), int64(7), object(5)\n",
      "memory usage: 1.4+ MB\n"
     ]
    }
   ],
   "source": [
    "df.info()"
   ]
  },
  {
   "cell_type": "code",
   "execution_count": 5,
   "metadata": {},
   "outputs": [
    {
     "data": {
      "text/html": [
       "<div>\n",
       "<style scoped>\n",
       "    .dataframe tbody tr th:only-of-type {\n",
       "        vertical-align: middle;\n",
       "    }\n",
       "\n",
       "    .dataframe tbody tr th {\n",
       "        vertical-align: top;\n",
       "    }\n",
       "\n",
       "    .dataframe thead th {\n",
       "        text-align: right;\n",
       "    }\n",
       "</style>\n",
       "<table border=\"1\" class=\"dataframe\">\n",
       "  <thead>\n",
       "    <tr style=\"text-align: right;\">\n",
       "      <th></th>\n",
       "      <th>loan_amnt</th>\n",
       "      <th>term</th>\n",
       "      <th>installment</th>\n",
       "      <th>emp_length</th>\n",
       "      <th>home_ownership</th>\n",
       "      <th>verification_status</th>\n",
       "      <th>issue_d</th>\n",
       "      <th>purpose</th>\n",
       "      <th>dti</th>\n",
       "      <th>earliest_cr_line</th>\n",
       "      <th>...</th>\n",
       "      <th>pub_rec</th>\n",
       "      <th>revol_util</th>\n",
       "      <th>total_acc</th>\n",
       "      <th>application_type</th>\n",
       "      <th>mort_acc</th>\n",
       "      <th>pub_rec_bankruptcies</th>\n",
       "      <th>log_annual_inc</th>\n",
       "      <th>fico_score</th>\n",
       "      <th>log_revol_bal</th>\n",
       "      <th>charged_off</th>\n",
       "    </tr>\n",
       "  </thead>\n",
       "  <tbody>\n",
       "    <tr>\n",
       "      <th>0</th>\n",
       "      <td>5675</td>\n",
       "      <td>36</td>\n",
       "      <td>189.56</td>\n",
       "      <td>2.0</td>\n",
       "      <td>RENT</td>\n",
       "      <td>Source Verified</td>\n",
       "      <td>14-Dec</td>\n",
       "      <td>car</td>\n",
       "      <td>15.55</td>\n",
       "      <td>1992</td>\n",
       "      <td>...</td>\n",
       "      <td>0</td>\n",
       "      <td>15.0</td>\n",
       "      <td>15</td>\n",
       "      <td>Individual</td>\n",
       "      <td>0.0</td>\n",
       "      <td>0.0</td>\n",
       "      <td>4.698979</td>\n",
       "      <td>697.0</td>\n",
       "      <td>3.464936</td>\n",
       "      <td>0</td>\n",
       "    </tr>\n",
       "    <tr>\n",
       "      <th>1</th>\n",
       "      <td>7000</td>\n",
       "      <td>36</td>\n",
       "      <td>242.63</td>\n",
       "      <td>1.0</td>\n",
       "      <td>RENT</td>\n",
       "      <td>Source Verified</td>\n",
       "      <td>14-Dec</td>\n",
       "      <td>car</td>\n",
       "      <td>6.78</td>\n",
       "      <td>2002</td>\n",
       "      <td>...</td>\n",
       "      <td>0</td>\n",
       "      <td>69.2</td>\n",
       "      <td>5</td>\n",
       "      <td>Individual</td>\n",
       "      <td>0.0</td>\n",
       "      <td>0.0</td>\n",
       "      <td>4.301052</td>\n",
       "      <td>717.0</td>\n",
       "      <td>3.431364</td>\n",
       "      <td>0</td>\n",
       "    </tr>\n",
       "    <tr>\n",
       "      <th>2</th>\n",
       "      <td>3500</td>\n",
       "      <td>36</td>\n",
       "      <td>116.24</td>\n",
       "      <td>10.0</td>\n",
       "      <td>MORTGAGE</td>\n",
       "      <td>Not Verified</td>\n",
       "      <td>14-Dec</td>\n",
       "      <td>car</td>\n",
       "      <td>10.65</td>\n",
       "      <td>1997</td>\n",
       "      <td>...</td>\n",
       "      <td>0</td>\n",
       "      <td>12.6</td>\n",
       "      <td>35</td>\n",
       "      <td>Individual</td>\n",
       "      <td>2.0</td>\n",
       "      <td>0.0</td>\n",
       "      <td>4.681250</td>\n",
       "      <td>742.0</td>\n",
       "      <td>3.765520</td>\n",
       "      <td>0</td>\n",
       "    </tr>\n",
       "    <tr>\n",
       "      <th>3</th>\n",
       "      <td>10000</td>\n",
       "      <td>36</td>\n",
       "      <td>316.47</td>\n",
       "      <td>10.0</td>\n",
       "      <td>MORTGAGE</td>\n",
       "      <td>Not Verified</td>\n",
       "      <td>14-Dec</td>\n",
       "      <td>car</td>\n",
       "      <td>21.74</td>\n",
       "      <td>1996</td>\n",
       "      <td>...</td>\n",
       "      <td>0</td>\n",
       "      <td>23.7</td>\n",
       "      <td>22</td>\n",
       "      <td>Individual</td>\n",
       "      <td>4.0</td>\n",
       "      <td>0.0</td>\n",
       "      <td>4.875067</td>\n",
       "      <td>707.0</td>\n",
       "      <td>3.424555</td>\n",
       "      <td>0</td>\n",
       "    </tr>\n",
       "    <tr>\n",
       "      <th>4</th>\n",
       "      <td>1500</td>\n",
       "      <td>36</td>\n",
       "      <td>46.31</td>\n",
       "      <td>2.0</td>\n",
       "      <td>OWN</td>\n",
       "      <td>Not Verified</td>\n",
       "      <td>14-Dec</td>\n",
       "      <td>car</td>\n",
       "      <td>12.17</td>\n",
       "      <td>1997</td>\n",
       "      <td>...</td>\n",
       "      <td>0</td>\n",
       "      <td>46.5</td>\n",
       "      <td>13</td>\n",
       "      <td>Individual</td>\n",
       "      <td>2.0</td>\n",
       "      <td>0.0</td>\n",
       "      <td>4.812920</td>\n",
       "      <td>712.0</td>\n",
       "      <td>4.448211</td>\n",
       "      <td>0</td>\n",
       "    </tr>\n",
       "  </tbody>\n",
       "</table>\n",
       "<p>5 rows × 21 columns</p>\n",
       "</div>"
      ],
      "text/plain": [
       "   loan_amnt  term  installment  emp_length home_ownership  \\\n",
       "0       5675    36       189.56         2.0           RENT   \n",
       "1       7000    36       242.63         1.0           RENT   \n",
       "2       3500    36       116.24        10.0       MORTGAGE   \n",
       "3      10000    36       316.47        10.0       MORTGAGE   \n",
       "4       1500    36        46.31         2.0            OWN   \n",
       "\n",
       "  verification_status issue_d purpose    dti  earliest_cr_line  ...  pub_rec  \\\n",
       "0     Source Verified  14-Dec     car  15.55              1992  ...        0   \n",
       "1     Source Verified  14-Dec     car   6.78              2002  ...        0   \n",
       "2        Not Verified  14-Dec     car  10.65              1997  ...        0   \n",
       "3        Not Verified  14-Dec     car  21.74              1996  ...        0   \n",
       "4        Not Verified  14-Dec     car  12.17              1997  ...        0   \n",
       "\n",
       "   revol_util  total_acc  application_type mort_acc  pub_rec_bankruptcies  \\\n",
       "0        15.0         15        Individual      0.0                   0.0   \n",
       "1        69.2          5        Individual      0.0                   0.0   \n",
       "2        12.6         35        Individual      2.0                   0.0   \n",
       "3        23.7         22        Individual      4.0                   0.0   \n",
       "4        46.5         13        Individual      2.0                   0.0   \n",
       "\n",
       "   log_annual_inc  fico_score  log_revol_bal  charged_off  \n",
       "0        4.698979       697.0       3.464936            0  \n",
       "1        4.301052       717.0       3.431364            0  \n",
       "2        4.681250       742.0       3.765520            0  \n",
       "3        4.875067       707.0       3.424555            0  \n",
       "4        4.812920       712.0       4.448211            0  \n",
       "\n",
       "[5 rows x 21 columns]"
      ]
     },
     "execution_count": 5,
     "metadata": {},
     "output_type": "execute_result"
    }
   ],
   "source": [
    "df.head()"
   ]
  },
  {
   "cell_type": "code",
   "execution_count": 6,
   "metadata": {},
   "outputs": [
    {
     "data": {
      "text/plain": [
       "Index(['loan_amnt', 'term', 'installment', 'emp_length', 'home_ownership',\n",
       "       'verification_status', 'issue_d', 'purpose', 'dti', 'earliest_cr_line',\n",
       "       'open_acc', 'pub_rec', 'revol_util', 'total_acc', 'application_type',\n",
       "       'mort_acc', 'pub_rec_bankruptcies', 'log_annual_inc', 'fico_score',\n",
       "       'log_revol_bal', 'charged_off'],\n",
       "      dtype='object')"
      ]
     },
     "execution_count": 6,
     "metadata": {},
     "output_type": "execute_result"
    }
   ],
   "source": [
    "df.columns"
   ]
  },
  {
   "cell_type": "markdown",
   "metadata": {},
   "source": [
    "# Data Analysis"
   ]
  },
  {
   "cell_type": "markdown",
   "metadata": {},
   "source": [
    "To analysis the staitsical property of features available in the dataset for further feature engineering process.\n",
    "Sayah (2021) gave a great example to analysis the data of p2p lending data. However, the origianal dataset contains many features that our dataset doesn't have. So subset of his analysis techniques will be reused to support this report. URL: https://www.kaggle.com/faressayah/lending-club-loan-defaulters-prediction"
   ]
  },
  {
   "cell_type": "code",
   "execution_count": 7,
   "metadata": {},
   "outputs": [
    {
     "name": "stderr",
     "output_type": "stream",
     "text": [
      "/home/null/anaconda3/lib/python3.8/site-packages/seaborn/_decorators.py:36: FutureWarning: Pass the following variable as a keyword arg: x. From version 0.12, the only valid positional argument will be `data`, and passing other arguments without an explicit keyword will result in an error or misinterpretation.\n",
      "  warnings.warn(\n"
     ]
    },
    {
     "data": {
      "text/plain": [
       "<AxesSubplot:xlabel='charged_off', ylabel='count'>"
      ]
     },
     "execution_count": 7,
     "metadata": {},
     "output_type": "execute_result"
    },
    {
     "data": {
      "image/png": "[encoded data removed]",
      "text/plain": [
       "<Figure size 432x288 with 1 Axes>"
      ]
     },
     "metadata": {
      "needs_background": "light"
     },
     "output_type": "display_data"
    }
   ],
   "source": [
    "# To see data points grouped by target variable 'charged_off'\n",
    "sns.countplot(df.charged_off)"
   ]
  },
  {
   "cell_type": "code",
   "execution_count": 8,
   "metadata": {},
   "outputs": [
    {
     "data": {
      "text/plain": [
       "0    7608\n",
       "1    1321\n",
       "Name: charged_off, dtype: int64"
      ]
     },
     "execution_count": 8,
     "metadata": {},
     "output_type": "execute_result"
    }
   ],
   "source": [
    "df.charged_off.value_counts()"
   ]
  },
  {
   "cell_type": "markdown",
   "metadata": {},
   "source": [
    "The analysis shows that data is unblanced with default labelled of 1321 but non-default has 7608 rows. So we need to handle this unbalanced dataset carefully. "
   ]
  },
  {
   "cell_type": "code",
   "execution_count": 9,
   "metadata": {},
   "outputs": [
    {
     "data": {
      "text/plain": [
       "<AxesSubplot:>"
      ]
     },
     "execution_count": 9,
     "metadata": {},
     "output_type": "execute_result"
    },
    {
     "data": {
      "image/png": "[encoded data removed]",
      "text/plain": [
       "<Figure size 864x576 with 2 Axes>"
      ]
     },
     "metadata": {
      "needs_background": "light"
     },
     "output_type": "display_data"
    }
   ],
   "source": [
    "# Plot the installment and loan_amnt features against charged_off variable\n",
    "plt.figure(figsize=(12, 8))\n",
    "sns.heatmap(df.corr(), annot=True, cmap='viridis')"
   ]
  },
  {
   "cell_type": "code",
   "execution_count": 10,
   "metadata": {},
   "outputs": [
    {
     "data": {
      "text/plain": [
       "<AxesSubplot:>"
      ]
     },
     "execution_count": 10,
     "metadata": {},
     "output_type": "execute_result"
    },
    {
     "data": {
      "image/png": "[encoded data removed]",
      "text/plain": [
       "<Figure size 576x360 with 1 Axes>"
      ]
     },
     "metadata": {
      "needs_background": "light"
     },
     "output_type": "display_data"
    }
   ],
   "source": [
    "# How numeric features correlate with the target variable?\n",
    "plt.figure(figsize=(8, 5))\n",
    "df.corr()['charged_off'].drop('charged_off').sort_values().plot(kind='barh')"
   ]
  },
  {
   "cell_type": "markdown",
   "metadata": {},
   "source": [
    "The correlation plot shows that there are no features that shows a strong positive or negative correaltion agaist charged_off feature. All features (except charged_off itself) have low correlation value less than 0.5 or -0.5. <br> \n",
    "However, there is a strong correation between few training features such as loan_amnt and installment with value of 0.96 which shows (almost) perfect positive correlation. This is an expected relationship as the lender decides the installment corresponding to the loan amount. "
   ]
  },
  {
   "cell_type": "code",
   "execution_count": 11,
   "metadata": {},
   "outputs": [
    {
     "data": {
      "text/plain": [
       "<AxesSubplot:xlabel='charged_off', ylabel='loan_amnt'>"
      ]
     },
     "execution_count": 11,
     "metadata": {},
     "output_type": "execute_result"
    },
    {
     "data": {
      "image/png": "[encoded data removed]",
      "text/plain": [
       "<Figure size 864x1440 with 4 Axes>"
      ]
     },
     "metadata": {
      "needs_background": "light"
     },
     "output_type": "display_data"
    }
   ],
   "source": [
    "# there is a high correlation (almost perfect) between installment and loan amount\n",
    "plt.figure(figsize=(12, 20))\n",
    "\n",
    "plt.subplot(4, 2, 1)\n",
    "df[df[\"charged_off\"] == 0][\"installment\"].hist(bins=35, color='blue', label='loan_status = Fully Paid', alpha=0.6)\n",
    "df[df[\"charged_off\"] == 1][\"installment\"].hist(bins=35, color='red', label='loan_status = Default', alpha=0.6)\n",
    "plt.legend()\n",
    "plt.xlabel(\"installment\")\n",
    "\n",
    "plt.subplot(4, 2, 2)\n",
    "df[df[\"charged_off\"] == 0][\"loan_amnt\"].hist(bins=35, color='blue', label='loan_status = Fully Paid', alpha=0.6)\n",
    "df[df[\"charged_off\"] == 1][\"loan_amnt\"].hist(bins=35, color='red', label='loan_status = Default', alpha=0.6)\n",
    "plt.legend()\n",
    "plt.xlabel(\"loan_amnt\")\n",
    "\n",
    "plt.subplot(4, 2, 3)\n",
    "sns.scatterplot(x='installment', y='loan_amnt', data=df)\n",
    "\n",
    "plt.subplot(4, 2, 4)\n",
    "sns.boxplot(x='charged_off', y='loan_amnt', data=df)"
   ]
  },
  {
   "cell_type": "code",
   "execution_count": 12,
   "metadata": {},
   "outputs": [
    {
     "data": {
      "text/html": [
       "<div>\n",
       "<style scoped>\n",
       "    .dataframe tbody tr th:only-of-type {\n",
       "        vertical-align: middle;\n",
       "    }\n",
       "\n",
       "    .dataframe tbody tr th {\n",
       "        vertical-align: top;\n",
       "    }\n",
       "\n",
       "    .dataframe thead th {\n",
       "        text-align: right;\n",
       "    }\n",
       "</style>\n",
       "<table border=\"1\" class=\"dataframe\">\n",
       "  <thead>\n",
       "    <tr style=\"text-align: right;\">\n",
       "      <th></th>\n",
       "      <th>count</th>\n",
       "      <th>mean</th>\n",
       "      <th>std</th>\n",
       "      <th>min</th>\n",
       "      <th>25%</th>\n",
       "      <th>50%</th>\n",
       "      <th>75%</th>\n",
       "      <th>max</th>\n",
       "    </tr>\n",
       "    <tr>\n",
       "      <th>charged_off</th>\n",
       "      <th></th>\n",
       "      <th></th>\n",
       "      <th></th>\n",
       "      <th></th>\n",
       "      <th></th>\n",
       "      <th></th>\n",
       "      <th></th>\n",
       "      <th></th>\n",
       "    </tr>\n",
       "  </thead>\n",
       "  <tbody>\n",
       "    <tr>\n",
       "      <th>0</th>\n",
       "      <td>7608.0</td>\n",
       "      <td>8294.601078</td>\n",
       "      <td>5784.174129</td>\n",
       "      <td>1000.0</td>\n",
       "      <td>4500.0</td>\n",
       "      <td>6500.0</td>\n",
       "      <td>10000.0</td>\n",
       "      <td>40000.0</td>\n",
       "    </tr>\n",
       "    <tr>\n",
       "      <th>1</th>\n",
       "      <td>1321.0</td>\n",
       "      <td>10282.021196</td>\n",
       "      <td>7222.812949</td>\n",
       "      <td>1000.0</td>\n",
       "      <td>5000.0</td>\n",
       "      <td>8000.0</td>\n",
       "      <td>14000.0</td>\n",
       "      <td>35000.0</td>\n",
       "    </tr>\n",
       "  </tbody>\n",
       "</table>\n",
       "</div>"
      ],
      "text/plain": [
       "              count          mean          std     min     25%     50%  \\\n",
       "charged_off                                                              \n",
       "0            7608.0   8294.601078  5784.174129  1000.0  4500.0  6500.0   \n",
       "1            1321.0  10282.021196  7222.812949  1000.0  5000.0  8000.0   \n",
       "\n",
       "                 75%      max  \n",
       "charged_off                    \n",
       "0            10000.0  40000.0  \n",
       "1            14000.0  35000.0  "
      ]
     },
     "execution_count": 12,
     "metadata": {},
     "output_type": "execute_result"
    }
   ],
   "source": [
    "df.groupby(by='charged_off')['loan_amnt'].describe()"
   ]
  },
  {
   "cell_type": "markdown",
   "metadata": {},
   "source": [
    "When the lender issue the loan, they always consider the annual income of borrower, length of employments as critical factors."
   ]
  },
  {
   "cell_type": "code",
   "execution_count": 13,
   "metadata": {},
   "outputs": [
    {
     "data": {
      "text/plain": [
       "Text(0.5, 0, 'log_annual_inc')"
      ]
     },
     "execution_count": 13,
     "metadata": {},
     "output_type": "execute_result"
    },
    {
     "data": {
      "image/png": "[encoded data removed]",
      "text/plain": [
       "<Figure size 432x288 with 1 Axes>"
      ]
     },
     "metadata": {
      "needs_background": "light"
     },
     "output_type": "display_data"
    }
   ],
   "source": [
    "df[df[\"charged_off\"] == 0][\"log_annual_inc\"].hist(bins=10, color='blue', label='loan_status = Fully Paid', alpha=0.6)\n",
    "df[df[\"charged_off\"] == 1][\"log_annual_inc\"].hist(bins=10, color='red', label='loan_status = Default', alpha=0.6)\n",
    "plt.legend()\n",
    "plt.xlabel(\"log_annual_inc\")"
   ]
  },
  {
   "cell_type": "code",
   "execution_count": 14,
   "metadata": {},
   "outputs": [
    {
     "data": {
      "text/plain": [
       "Text(0.5, 0, 'emp_length')"
      ]
     },
     "execution_count": 14,
     "metadata": {},
     "output_type": "execute_result"
    },
    {
     "data": {
      "image/png": "[encoded data removed]",
      "text/plain": [
       "<Figure size 432x288 with 1 Axes>"
      ]
     },
     "metadata": {
      "needs_background": "light"
     },
     "output_type": "display_data"
    }
   ],
   "source": [
    "df[df[\"charged_off\"] == 0][\"emp_length\"].hist(bins=10, color='blue', label='loan_status = Fully Paid', alpha=0.6)\n",
    "df[df[\"charged_off\"] == 1][\"emp_length\"].hist(bins=10, color='red', label='loan_status = Default', alpha=0.6)\n",
    "plt.legend()\n",
    "plt.xlabel(\"emp_length\")"
   ]
  },
  {
   "cell_type": "code",
   "execution_count": 15,
   "metadata": {},
   "outputs": [
    {
     "data": {
      "text/plain": [
       "(425, 21)"
      ]
     },
     "execution_count": 15,
     "metadata": {},
     "output_type": "execute_result"
    }
   ],
   "source": [
    "df[df.emp_length.isnull()].shape"
   ]
  },
  {
   "cell_type": "markdown",
   "metadata": {},
   "source": [
    "Surprisingly, there are 425 rows have null value for emp_length."
   ]
  },
  {
   "cell_type": "markdown",
   "metadata": {},
   "source": [
    "Now, lookinng other other numerical attributes that may affect the charged_off prediction"
   ]
  },
  {
   "cell_type": "code",
   "execution_count": 16,
   "metadata": {},
   "outputs": [
    {
     "data": {
      "text/plain": [
       "Text(0.5, 0, 'fico_score')"
      ]
     },
     "execution_count": 16,
     "metadata": {},
     "output_type": "execute_result"
    },
    {
     "data": {
      "image/png": "[encoded data removed]",
      "text/plain": [
       "<Figure size 1080x2160 with 6 Axes>"
      ]
     },
     "metadata": {
      "needs_background": "light"
     },
     "output_type": "display_data"
    }
   ],
   "source": [
    "plt.figure(figsize=(15, 30))\n",
    "\n",
    "plt.subplot(6, 2, 1)\n",
    "df[df[\"charged_off\"] == 0][\"dti\"].value_counts().hist(bins=35, color='blue', \n",
    "                                                                     label='loan_status = Fully Paid', alpha=0.6)\n",
    "df[df[\"charged_off\"] == 1][\"dti\"].value_counts().hist(bins=35, color='red', \n",
    "                                                                      label='loan_status = Default', alpha=0.6)\n",
    "plt.legend()\n",
    "plt.xlabel(\"dti\")\n",
    "\n",
    "plt.subplot(6, 2, 2)\n",
    "df[df[\"charged_off\"] == 0][\"open_acc\"].hist(bins=35, color='blue', label='loan_status = Fully Paid', alpha=0.6)\n",
    "df[df[\"charged_off\"] == 1][\"open_acc\"].hist(bins=35, color='red', label='loan_status = Default', alpha=0.6)\n",
    "plt.legend()\n",
    "plt.xlabel(\"open_acc\")\n",
    "\n",
    "plt.subplot(6, 2, 3)\n",
    "df[df[\"charged_off\"] == 0][\"log_revol_bal\"].hist(bins=35, color='blue', label='loan_status = Fully Paid', alpha=0.6)\n",
    "df[df[\"charged_off\"] == 1][\"log_revol_bal\"].hist(bins=35, color='red', label='loan_status = Default', alpha=0.6)\n",
    "plt.legend()\n",
    "plt.xlabel(\"log_revol_bal\")\n",
    "\n",
    "plt.subplot(6, 2, 4)\n",
    "df[df[\"charged_off\"] == 0][\"log_annual_inc\"].hist(bins=35, color='blue', label='loan_status = Fully Paid', alpha=0.6)\n",
    "df[df[\"charged_off\"] == 1][\"log_annual_inc\"].hist(bins=35, color='red', label='loan_status = Default', alpha=0.6)\n",
    "plt.legend()\n",
    "plt.xlabel(\"log_annual_inc\")\n",
    "\n",
    "plt.subplot(6, 2, 5)\n",
    "df[df[\"charged_off\"] == 0][\"total_acc\"].hist(bins=35, color='blue', label='loan_status = Fully Paid', alpha=0.6)\n",
    "df[df[\"charged_off\"] == 1][\"total_acc\"].hist(bins=35, color='red', label='loan_status = Default', alpha=0.6)\n",
    "plt.legend()\n",
    "plt.xlabel(\"total_acc\")\n",
    "\n",
    "plt.subplot(6, 2, 6)\n",
    "df[df[\"charged_off\"] == 0][\"fico_score\"].hist(bins=35, color='blue', label='loan_status = Fully Paid', alpha=0.6)\n",
    "df[df[\"charged_off\"] == 1][\"fico_score\"].hist(bins=35, color='red', label='loan_status = Default', alpha=0.6)\n",
    "plt.legend()\n",
    "plt.xlabel(\"fico_score\")"
   ]
  },
  {
   "cell_type": "code",
   "execution_count": 17,
   "metadata": {},
   "outputs": [
    {
     "data": {
      "text/plain": [
       "<AxesSubplot:xlabel='pub_rec_bankruptcies', ylabel='count'>"
      ]
     },
     "execution_count": 17,
     "metadata": {},
     "output_type": "execute_result"
    },
    {
     "data": {
      "image/png": "[encoded data removed]",
      "text/plain": [
       "<Figure size 864x2160 with 4 Axes>"
      ]
     },
     "metadata": {
      "needs_background": "light"
     },
     "output_type": "display_data"
    }
   ],
   "source": [
    "plt.figure(figsize=(12, 30))\n",
    "\n",
    "plt.subplot(6, 2, 1)\n",
    "sns.countplot(x='pub_rec', data=df, hue='charged_off')\n",
    "\n",
    "plt.subplot(6, 2, 2)\n",
    "sns.countplot(x='term', data=df, hue='charged_off')\n",
    "\n",
    "plt.subplot(6, 2, 3)\n",
    "sns.countplot(x='mort_acc', data=df, hue='charged_off')\n",
    "\n",
    "plt.subplot(6, 2, 4)\n",
    "sns.countplot(x='pub_rec_bankruptcies', data=df, hue='charged_off')"
   ]
  },
  {
   "cell_type": "code",
   "execution_count": 18,
   "metadata": {},
   "outputs": [
    {
     "data": {
      "text/plain": [
       "<matplotlib.legend.Legend at 0x7ff1d3fd5fd0>"
      ]
     },
     "execution_count": 18,
     "metadata": {},
     "output_type": "execute_result"
    },
    {
     "data": {
      "image/png": "[encoded data removed]",
      "text/plain": [
       "<Figure size 432x288 with 1 Axes>"
      ]
     },
     "metadata": {
      "needs_background": "light"
     },
     "output_type": "display_data"
    }
   ],
   "source": [
    "df[df[\"charged_off\"] == 0][\"revol_util\"].hist(bins=10, color='blue', label='loan_status = Fully Paid', alpha=0.6)\n",
    "df[df[\"charged_off\"] == 1][\"revol_util\"].hist(bins=10, color='red', label='loan_status = Default', alpha=0.6)\n",
    "plt.legend()"
   ]
  },
  {
   "cell_type": "markdown",
   "metadata": {},
   "source": [
    "From the previous correlation plot, it doesn't show the correlation of the categorical features. So we should look on the relationship between these features and charged_off variable"
   ]
  },
  {
   "cell_type": "code",
   "execution_count": 19,
   "metadata": {},
   "outputs": [
    {
     "data": {
      "text/html": [
       "<div>\n",
       "<style scoped>\n",
       "    .dataframe tbody tr th:only-of-type {\n",
       "        vertical-align: middle;\n",
       "    }\n",
       "\n",
       "    .dataframe tbody tr th {\n",
       "        vertical-align: top;\n",
       "    }\n",
       "\n",
       "    .dataframe thead th {\n",
       "        text-align: right;\n",
       "    }\n",
       "</style>\n",
       "<table border=\"1\" class=\"dataframe\">\n",
       "  <thead>\n",
       "    <tr style=\"text-align: right;\">\n",
       "      <th></th>\n",
       "      <th>home_ownership</th>\n",
       "      <th>verification_status</th>\n",
       "      <th>issue_d</th>\n",
       "      <th>purpose</th>\n",
       "      <th>application_type</th>\n",
       "    </tr>\n",
       "  </thead>\n",
       "  <tbody>\n",
       "    <tr>\n",
       "      <th>count</th>\n",
       "      <td>8929</td>\n",
       "      <td>8929</td>\n",
       "      <td>8929</td>\n",
       "      <td>8929</td>\n",
       "      <td>8929</td>\n",
       "    </tr>\n",
       "    <tr>\n",
       "      <th>unique</th>\n",
       "      <td>3</td>\n",
       "      <td>3</td>\n",
       "      <td>120</td>\n",
       "      <td>1</td>\n",
       "      <td>2</td>\n",
       "    </tr>\n",
       "    <tr>\n",
       "      <th>top</th>\n",
       "      <td>RENT</td>\n",
       "      <td>Not Verified</td>\n",
       "      <td>14-Oct</td>\n",
       "      <td>car</td>\n",
       "      <td>Individual</td>\n",
       "    </tr>\n",
       "    <tr>\n",
       "      <th>freq</th>\n",
       "      <td>4011</td>\n",
       "      <td>4006</td>\n",
       "      <td>269</td>\n",
       "      <td>8929</td>\n",
       "      <td>8908</td>\n",
       "    </tr>\n",
       "  </tbody>\n",
       "</table>\n",
       "</div>"
      ],
      "text/plain": [
       "       home_ownership verification_status issue_d purpose application_type\n",
       "count            8929                8929    8929    8929             8929\n",
       "unique              3                   3     120       1                2\n",
       "top              RENT        Not Verified  14-Oct     car       Individual\n",
       "freq             4011                4006     269    8929             8908"
      ]
     },
     "execution_count": 19,
     "metadata": {},
     "output_type": "execute_result"
    }
   ],
   "source": [
    "# Shows the categorical columns\n",
    "df.describe(include=['O'])"
   ]
  },
  {
   "cell_type": "code",
   "execution_count": 20,
   "metadata": {},
   "outputs": [
    {
     "data": {
      "image/png": "[encoded data removed]",
      "text/plain": [
       "<Figure size 1080x1440 with 4 Axes>"
      ]
     },
     "metadata": {
      "needs_background": "light"
     },
     "output_type": "display_data"
    }
   ],
   "source": [
    "# visualisation of categorical columns (except issue_d)\n",
    "plt.figure(figsize=(15, 20))\n",
    "\n",
    "plt.subplot(4, 2, 1)\n",
    "sns.countplot(x='home_ownership', data=df, hue='charged_off')\n",
    "\n",
    "plt.subplot(4, 2, 2)\n",
    "sns.countplot(x='verification_status', data=df, hue='charged_off')\n",
    "\n",
    "plt.subplot(4, 2, 3)\n",
    "sns.countplot(x='purpose', data=df, hue='charged_off')\n",
    "\n",
    "plt.subplot(4, 2, 4)\n",
    "g = sns.countplot(x='application_type', data=df, hue='charged_off')\n",
    "g.set_xticklabels(g.get_xticklabels(), rotation=90);"
   ]
  },
  {
   "cell_type": "markdown",
   "metadata": {},
   "source": [
    "Now we notice that the purpose column has only one value of 'car' so we can disregard during feature engineering process."
   ]
  },
  {
   "cell_type": "markdown",
   "metadata": {},
   "source": [
    "Issue_d was marked as categorical type as it contains an object of timestamp with month and year. We can visualise the count of fully paid and default loan by extracting year. Similar to earliest_cr_line column which contain numerical value of year. "
   ]
  },
  {
   "cell_type": "code",
   "execution_count": 21,
   "metadata": {},
   "outputs": [
    {
     "data": {
      "text/plain": [
       "<matplotlib.legend.Legend at 0x7ff1d37bb5b0>"
      ]
     },
     "execution_count": 21,
     "metadata": {},
     "output_type": "execute_result"
    },
    {
     "data": {
      "image/png": "[encoded data removed]",
      "text/plain": [
       "<Figure size 1080x864 with 2 Axes>"
      ]
     },
     "metadata": {
      "needs_background": "light"
     },
     "output_type": "display_data"
    }
   ],
   "source": [
    "plt.figure(figsize=(15, 12))\n",
    "\n",
    "plt.subplot(2, 2, 1)\n",
    "df[df[\"charged_off\"] == 0].issue_d.str.split('-').str[0].astype(int).value_counts().sort_index().plot(color='blue', label='loan_status = Fully Paid', alpha=0.6)\n",
    "df[df[\"charged_off\"] == 1].issue_d.str.split('-').str[0].astype(int).value_counts().sort_index().plot(color='red', label='loan_status = Default', alpha=0.6)\n",
    "\n",
    "plt.subplot(2, 2, 2)\n",
    "df[df[\"charged_off\"] == 0].earliest_cr_line.value_counts().sort_index().plot(color='blue', label='loan_status = Fully Paid', alpha=0.6)\n",
    "df[df[\"charged_off\"] == 1].earliest_cr_line.value_counts().sort_index().plot(color='red', label='loan_status = Default', alpha=0.6)\n",
    "\n",
    "plt.legend()"
   ]
  },
  {
   "cell_type": "markdown",
   "metadata": {},
   "source": [
    "There is a peak between 2014 and 2016 that for defaulting loan based on issue_d. However, we should not consider this issue_d into our prediction model because it doesn't give any significant value when we use the model to classify new input with latest issue_d."
   ]
  },
  {
   "cell_type": "markdown",
   "metadata": {},
   "source": [
    "Meanwhile, earliest_cr_line should be taken into account as it tell when borrower's earliest reported credit line was opened  "
   ]
  },
  {
   "cell_type": "markdown",
   "metadata": {},
   "source": [
    "Overall, there are two types of features available for this dataset. There are features that related to applicants such as length of employment and feature of loan characteristics, e.g., total amount of loan. "
   ]
  },
  {
   "cell_type": "markdown",
   "metadata": {},
   "source": [
    "# Data Preprocessing"
   ]
  },
  {
   "cell_type": "markdown",
   "metadata": {},
   "source": [
    "## Missing Data handling"
   ]
  },
  {
   "cell_type": "code",
   "execution_count": 22,
   "metadata": {},
   "outputs": [],
   "source": [
    "def show_missing(df):\n",
    "    for column in df.columns:\n",
    "        if df[column].isnull().sum() != 0:\n",
    "            total_missing = df[column].isna().sum()\n",
    "            portion = (total_missing / df.shape[0]) * 100\n",
    "            print(f\"'{column}': number of missing values '{total_missing}' ==> '{portion:.3f}%'\")"
   ]
  },
  {
   "cell_type": "code",
   "execution_count": 23,
   "metadata": {},
   "outputs": [
    {
     "name": "stdout",
     "output_type": "stream",
     "text": [
      "'emp_length': number of missing values '425' ==> '4.760%'\n",
      "'revol_util': number of missing values '14' ==> '0.157%'\n",
      "'mort_acc': number of missing values '1756' ==> '19.666%'\n",
      "'pub_rec_bankruptcies': number of missing values '17' ==> '0.190%'\n"
     ]
    }
   ],
   "source": [
    "show_missing(df)"
   ]
  },
  {
   "cell_type": "markdown",
   "metadata": {},
   "source": [
    "There are 4 columns with missing values."
   ]
  },
  {
   "cell_type": "code",
   "execution_count": 24,
   "metadata": {},
   "outputs": [],
   "source": [
    "# Fill missing emp_length with zero value\n",
    "df['emp_length'].fillna(0, inplace = True)"
   ]
  },
  {
   "cell_type": "markdown",
   "metadata": {},
   "source": [
    "To handle mort_acc, we look at the earlier correlation table which shows a positive correlation value of 0.43 with total_acc. To fill missing value, we will use the mean group by total_acc feature."
   ]
  },
  {
   "cell_type": "code",
   "execution_count": 25,
   "metadata": {},
   "outputs": [],
   "source": [
    "total_acc_avg = df.groupby(by='total_acc').mean().mort_acc"
   ]
  },
  {
   "cell_type": "code",
   "execution_count": 26,
   "metadata": {},
   "outputs": [],
   "source": [
    "def fill_mort_acc(total_acc, mort_acc):\n",
    "    if np.isnan(mort_acc):\n",
    "        return total_acc_avg[total_acc].round()\n",
    "    else:\n",
    "        return mort_acc"
   ]
  },
  {
   "cell_type": "code",
   "execution_count": 27,
   "metadata": {},
   "outputs": [],
   "source": [
    "df['mort_acc'] = df.apply(lambda x: fill_mort_acc(x['total_acc'], x['mort_acc']), axis=1)"
   ]
  },
  {
   "cell_type": "code",
   "execution_count": 28,
   "metadata": {},
   "outputs": [
    {
     "data": {
      "text/plain": [
       "0"
      ]
     },
     "execution_count": 28,
     "metadata": {},
     "output_type": "execute_result"
    }
   ],
   "source": [
    "# Check if there is any missing data\n",
    "df.mort_acc.isnull().sum()"
   ]
  },
  {
   "cell_type": "markdown",
   "metadata": {},
   "source": [
    "revol_util and pub_rec_bankruptcies columns also have missing data. Both columns have missing values which count less than 0.20% of dataset. We can safely remove missing rows from dataset."
   ]
  },
  {
   "cell_type": "code",
   "execution_count": 29,
   "metadata": {},
   "outputs": [
    {
     "name": "stdout",
     "output_type": "stream",
     "text": [
      "'revol_util': number of missing values '14' ==> '0.157%'\n",
      "'pub_rec_bankruptcies': number of missing values '17' ==> '0.190%'\n"
     ]
    }
   ],
   "source": [
    "show_missing(df)"
   ]
  },
  {
   "cell_type": "code",
   "execution_count": 30,
   "metadata": {},
   "outputs": [],
   "source": [
    "df.dropna(inplace=True)"
   ]
  },
  {
   "cell_type": "code",
   "execution_count": 31,
   "metadata": {},
   "outputs": [
    {
     "data": {
      "text/plain": [
       "loan_amnt               0\n",
       "term                    0\n",
       "installment             0\n",
       "emp_length              0\n",
       "home_ownership          0\n",
       "verification_status     0\n",
       "issue_d                 0\n",
       "purpose                 0\n",
       "dti                     0\n",
       "earliest_cr_line        0\n",
       "open_acc                0\n",
       "pub_rec                 0\n",
       "revol_util              0\n",
       "total_acc               0\n",
       "application_type        0\n",
       "mort_acc                0\n",
       "pub_rec_bankruptcies    0\n",
       "log_annual_inc          0\n",
       "fico_score              0\n",
       "log_revol_bal           0\n",
       "charged_off             0\n",
       "dtype: int64"
      ]
     },
     "execution_count": 31,
     "metadata": {},
     "output_type": "execute_result"
    }
   ],
   "source": [
    "# Check if there is any column has missing values\n",
    "df.isnull().sum()"
   ]
  },
  {
   "cell_type": "code",
   "execution_count": 32,
   "metadata": {},
   "outputs": [
    {
     "data": {
      "text/plain": [
       "(8898, 21)"
      ]
     },
     "execution_count": 32,
     "metadata": {},
     "output_type": "execute_result"
    }
   ],
   "source": [
    "df.shape"
   ]
  },
  {
   "cell_type": "markdown",
   "metadata": {},
   "source": [
    "The data is reduced to 8898 from 8929 rows"
   ]
  },
  {
   "cell_type": "markdown",
   "metadata": {},
   "source": [
    "## Categorical data handling"
   ]
  },
  {
   "cell_type": "code",
   "execution_count": 33,
   "metadata": {},
   "outputs": [
    {
     "data": {
      "text/plain": [
       "['home_ownership',\n",
       " 'verification_status',\n",
       " 'issue_d',\n",
       " 'purpose',\n",
       " 'application_type']"
      ]
     },
     "execution_count": 33,
     "metadata": {},
     "output_type": "execute_result"
    }
   ],
   "source": [
    "list(df.describe(include=['O']).columns)"
   ]
  },
  {
   "cell_type": "markdown",
   "metadata": {},
   "source": [
    "Every rows has the same purpose 'car' value so we can safely remove this column from the dataset as it will not affect the default loan prediction."
   ]
  },
  {
   "cell_type": "code",
   "execution_count": 34,
   "metadata": {},
   "outputs": [
    {
     "data": {
      "text/plain": [
       "car    8898\n",
       "Name: purpose, dtype: int64"
      ]
     },
     "execution_count": 34,
     "metadata": {},
     "output_type": "execute_result"
    }
   ],
   "source": [
    "df.purpose.value_counts()"
   ]
  },
  {
   "cell_type": "code",
   "execution_count": 35,
   "metadata": {},
   "outputs": [],
   "source": [
    "df.drop('purpose', axis=1, inplace=True)"
   ]
  },
  {
   "cell_type": "code",
   "execution_count": 36,
   "metadata": {},
   "outputs": [
    {
     "data": {
      "text/plain": [
       "(8898, 20)"
      ]
     },
     "execution_count": 36,
     "metadata": {},
     "output_type": "execute_result"
    }
   ],
   "source": [
    "# number of features remove from 20 to 19 with the same total rows\n",
    "df.shape"
   ]
  },
  {
   "cell_type": "markdown",
   "metadata": {},
   "source": [
    "As explained previously, we should not consider issue date of loan. This column will be dropped. "
   ]
  },
  {
   "cell_type": "code",
   "execution_count": 37,
   "metadata": {},
   "outputs": [
    {
     "data": {
      "text/plain": [
       "(8898, 19)"
      ]
     },
     "execution_count": 37,
     "metadata": {},
     "output_type": "execute_result"
    }
   ],
   "source": [
    "df.drop('issue_d', axis=1, inplace=True)\n",
    "\n",
    "df.shape"
   ]
  },
  {
   "cell_type": "code",
   "execution_count": 38,
   "metadata": {},
   "outputs": [],
   "source": [
    "# Reset Index of dataFrame\n",
    "df.reset_index(drop=True, inplace=True)"
   ]
  },
  {
   "cell_type": "markdown",
   "metadata": {},
   "source": [
    "There are other three categorical features, i.e., home_ownership, verification_status and application_type. There are two techniques can be used to converted text data to numberical value such as LabelEncoder and OneHotEncoder."
   ]
  },
  {
   "cell_type": "code",
   "execution_count": 39,
   "metadata": {},
   "outputs": [],
   "source": [
    "# # LabelEncoder - The matrix gives lower value than OneHotEncoder technique\n",
    "# from sklearn.preprocessing import LabelEncoder\n",
    "# encoder = LabelEncoder()\n",
    "\n",
    "# df['home_ownership'] = encoder.fit_transform(df['home_ownership'])\n",
    "# df['verification_status'] = encoder.fit_transform(df['verification_status'])\n",
    "# df['application_type'] = encoder.fit_transform(df['application_type'])"
   ]
  },
  {
   "cell_type": "code",
   "execution_count": 40,
   "metadata": {},
   "outputs": [
    {
     "data": {
      "text/html": [
       "<div>\n",
       "<style scoped>\n",
       "    .dataframe tbody tr th:only-of-type {\n",
       "        vertical-align: middle;\n",
       "    }\n",
       "\n",
       "    .dataframe tbody tr th {\n",
       "        vertical-align: top;\n",
       "    }\n",
       "\n",
       "    .dataframe thead th {\n",
       "        text-align: right;\n",
       "    }\n",
       "</style>\n",
       "<table border=\"1\" class=\"dataframe\">\n",
       "  <thead>\n",
       "    <tr style=\"text-align: right;\">\n",
       "      <th></th>\n",
       "      <th>loan_amnt</th>\n",
       "      <th>term</th>\n",
       "      <th>installment</th>\n",
       "      <th>emp_length</th>\n",
       "      <th>home_ownership</th>\n",
       "      <th>verification_status</th>\n",
       "      <th>dti</th>\n",
       "      <th>earliest_cr_line</th>\n",
       "      <th>open_acc</th>\n",
       "      <th>pub_rec</th>\n",
       "      <th>...</th>\n",
       "      <th>application_type</th>\n",
       "      <th>mort_acc</th>\n",
       "      <th>pub_rec_bankruptcies</th>\n",
       "      <th>log_annual_inc</th>\n",
       "      <th>fico_score</th>\n",
       "      <th>log_revol_bal</th>\n",
       "      <th>charged_off</th>\n",
       "      <th>verification_status_0</th>\n",
       "      <th>verification_status_1</th>\n",
       "      <th>verification_status_2</th>\n",
       "    </tr>\n",
       "  </thead>\n",
       "  <tbody>\n",
       "    <tr>\n",
       "      <th>0</th>\n",
       "      <td>5675</td>\n",
       "      <td>36</td>\n",
       "      <td>189.56</td>\n",
       "      <td>2.0</td>\n",
       "      <td>RENT</td>\n",
       "      <td>Source Verified</td>\n",
       "      <td>15.55</td>\n",
       "      <td>1992</td>\n",
       "      <td>7</td>\n",
       "      <td>0</td>\n",
       "      <td>...</td>\n",
       "      <td>Individual</td>\n",
       "      <td>0.0</td>\n",
       "      <td>0.0</td>\n",
       "      <td>4.698979</td>\n",
       "      <td>697.0</td>\n",
       "      <td>3.464936</td>\n",
       "      <td>0</td>\n",
       "      <td>0.0</td>\n",
       "      <td>1.0</td>\n",
       "      <td>0.0</td>\n",
       "    </tr>\n",
       "    <tr>\n",
       "      <th>1</th>\n",
       "      <td>7000</td>\n",
       "      <td>36</td>\n",
       "      <td>242.63</td>\n",
       "      <td>1.0</td>\n",
       "      <td>RENT</td>\n",
       "      <td>Source Verified</td>\n",
       "      <td>6.78</td>\n",
       "      <td>2002</td>\n",
       "      <td>3</td>\n",
       "      <td>0</td>\n",
       "      <td>...</td>\n",
       "      <td>Individual</td>\n",
       "      <td>0.0</td>\n",
       "      <td>0.0</td>\n",
       "      <td>4.301052</td>\n",
       "      <td>717.0</td>\n",
       "      <td>3.431364</td>\n",
       "      <td>0</td>\n",
       "      <td>0.0</td>\n",
       "      <td>1.0</td>\n",
       "      <td>0.0</td>\n",
       "    </tr>\n",
       "    <tr>\n",
       "      <th>2</th>\n",
       "      <td>3500</td>\n",
       "      <td>36</td>\n",
       "      <td>116.24</td>\n",
       "      <td>10.0</td>\n",
       "      <td>MORTGAGE</td>\n",
       "      <td>Not Verified</td>\n",
       "      <td>10.65</td>\n",
       "      <td>1997</td>\n",
       "      <td>16</td>\n",
       "      <td>0</td>\n",
       "      <td>...</td>\n",
       "      <td>Individual</td>\n",
       "      <td>2.0</td>\n",
       "      <td>0.0</td>\n",
       "      <td>4.681250</td>\n",
       "      <td>742.0</td>\n",
       "      <td>3.765520</td>\n",
       "      <td>0</td>\n",
       "      <td>1.0</td>\n",
       "      <td>0.0</td>\n",
       "      <td>0.0</td>\n",
       "    </tr>\n",
       "    <tr>\n",
       "      <th>3</th>\n",
       "      <td>10000</td>\n",
       "      <td>36</td>\n",
       "      <td>316.47</td>\n",
       "      <td>10.0</td>\n",
       "      <td>MORTGAGE</td>\n",
       "      <td>Not Verified</td>\n",
       "      <td>21.74</td>\n",
       "      <td>1996</td>\n",
       "      <td>7</td>\n",
       "      <td>0</td>\n",
       "      <td>...</td>\n",
       "      <td>Individual</td>\n",
       "      <td>4.0</td>\n",
       "      <td>0.0</td>\n",
       "      <td>4.875067</td>\n",
       "      <td>707.0</td>\n",
       "      <td>3.424555</td>\n",
       "      <td>0</td>\n",
       "      <td>1.0</td>\n",
       "      <td>0.0</td>\n",
       "      <td>0.0</td>\n",
       "    </tr>\n",
       "    <tr>\n",
       "      <th>4</th>\n",
       "      <td>1500</td>\n",
       "      <td>36</td>\n",
       "      <td>46.31</td>\n",
       "      <td>2.0</td>\n",
       "      <td>OWN</td>\n",
       "      <td>Not Verified</td>\n",
       "      <td>12.17</td>\n",
       "      <td>1997</td>\n",
       "      <td>8</td>\n",
       "      <td>0</td>\n",
       "      <td>...</td>\n",
       "      <td>Individual</td>\n",
       "      <td>2.0</td>\n",
       "      <td>0.0</td>\n",
       "      <td>4.812920</td>\n",
       "      <td>712.0</td>\n",
       "      <td>4.448211</td>\n",
       "      <td>0</td>\n",
       "      <td>1.0</td>\n",
       "      <td>0.0</td>\n",
       "      <td>0.0</td>\n",
       "    </tr>\n",
       "  </tbody>\n",
       "</table>\n",
       "<p>5 rows × 22 columns</p>\n",
       "</div>"
      ],
      "text/plain": [
       "   loan_amnt  term  installment  emp_length home_ownership  \\\n",
       "0       5675    36       189.56         2.0           RENT   \n",
       "1       7000    36       242.63         1.0           RENT   \n",
       "2       3500    36       116.24        10.0       MORTGAGE   \n",
       "3      10000    36       316.47        10.0       MORTGAGE   \n",
       "4       1500    36        46.31         2.0            OWN   \n",
       "\n",
       "  verification_status    dti  earliest_cr_line  open_acc  pub_rec  ...  \\\n",
       "0     Source Verified  15.55              1992         7        0  ...   \n",
       "1     Source Verified   6.78              2002         3        0  ...   \n",
       "2        Not Verified  10.65              1997        16        0  ...   \n",
       "3        Not Verified  21.74              1996         7        0  ...   \n",
       "4        Not Verified  12.17              1997         8        0  ...   \n",
       "\n",
       "   application_type  mort_acc pub_rec_bankruptcies  log_annual_inc  \\\n",
       "0        Individual       0.0                  0.0        4.698979   \n",
       "1        Individual       0.0                  0.0        4.301052   \n",
       "2        Individual       2.0                  0.0        4.681250   \n",
       "3        Individual       4.0                  0.0        4.875067   \n",
       "4        Individual       2.0                  0.0        4.812920   \n",
       "\n",
       "   fico_score  log_revol_bal  charged_off  verification_status_0  \\\n",
       "0       697.0       3.464936            0                    0.0   \n",
       "1       717.0       3.431364            0                    0.0   \n",
       "2       742.0       3.765520            0                    1.0   \n",
       "3       707.0       3.424555            0                    1.0   \n",
       "4       712.0       4.448211            0                    1.0   \n",
       "\n",
       "   verification_status_1  verification_status_2  \n",
       "0                    1.0                    0.0  \n",
       "1                    1.0                    0.0  \n",
       "2                    0.0                    0.0  \n",
       "3                    0.0                    0.0  \n",
       "4                    0.0                    0.0  \n",
       "\n",
       "[5 rows x 22 columns]"
      ]
     },
     "execution_count": 40,
     "metadata": {},
     "output_type": "execute_result"
    }
   ],
   "source": [
    "# OneHotEncoder\n",
    "from sklearn.preprocessing import OneHotEncoder\n",
    "\n",
    "# verification_status\n",
    "enc = OneHotEncoder()\n",
    "enc_df = pd.DataFrame(enc.fit_transform(df[['verification_status']]).toarray())\n",
    "\n",
    "enc_df.columns = ['verification_status_0', 'verification_status_1', 'verification_status_2']\n",
    "enc_df.head()\n",
    "\n",
    "df = df.join(enc_df)\n",
    "df.head()"
   ]
  },
  {
   "cell_type": "code",
   "execution_count": 41,
   "metadata": {},
   "outputs": [
    {
     "data": {
      "text/html": [
       "<div>\n",
       "<style scoped>\n",
       "    .dataframe tbody tr th:only-of-type {\n",
       "        vertical-align: middle;\n",
       "    }\n",
       "\n",
       "    .dataframe tbody tr th {\n",
       "        vertical-align: top;\n",
       "    }\n",
       "\n",
       "    .dataframe thead th {\n",
       "        text-align: right;\n",
       "    }\n",
       "</style>\n",
       "<table border=\"1\" class=\"dataframe\">\n",
       "  <thead>\n",
       "    <tr style=\"text-align: right;\">\n",
       "      <th></th>\n",
       "      <th>loan_amnt</th>\n",
       "      <th>term</th>\n",
       "      <th>installment</th>\n",
       "      <th>emp_length</th>\n",
       "      <th>home_ownership</th>\n",
       "      <th>verification_status</th>\n",
       "      <th>dti</th>\n",
       "      <th>earliest_cr_line</th>\n",
       "      <th>open_acc</th>\n",
       "      <th>pub_rec</th>\n",
       "      <th>...</th>\n",
       "      <th>log_annual_inc</th>\n",
       "      <th>fico_score</th>\n",
       "      <th>log_revol_bal</th>\n",
       "      <th>charged_off</th>\n",
       "      <th>verification_status_0</th>\n",
       "      <th>verification_status_1</th>\n",
       "      <th>verification_status_2</th>\n",
       "      <th>home_ownership_0</th>\n",
       "      <th>home_ownership_1</th>\n",
       "      <th>home_ownership_2</th>\n",
       "    </tr>\n",
       "  </thead>\n",
       "  <tbody>\n",
       "    <tr>\n",
       "      <th>0</th>\n",
       "      <td>5675</td>\n",
       "      <td>36</td>\n",
       "      <td>189.56</td>\n",
       "      <td>2.0</td>\n",
       "      <td>RENT</td>\n",
       "      <td>Source Verified</td>\n",
       "      <td>15.55</td>\n",
       "      <td>1992</td>\n",
       "      <td>7</td>\n",
       "      <td>0</td>\n",
       "      <td>...</td>\n",
       "      <td>4.698979</td>\n",
       "      <td>697.0</td>\n",
       "      <td>3.464936</td>\n",
       "      <td>0</td>\n",
       "      <td>0.0</td>\n",
       "      <td>1.0</td>\n",
       "      <td>0.0</td>\n",
       "      <td>0.0</td>\n",
       "      <td>0.0</td>\n",
       "      <td>1.0</td>\n",
       "    </tr>\n",
       "    <tr>\n",
       "      <th>1</th>\n",
       "      <td>7000</td>\n",
       "      <td>36</td>\n",
       "      <td>242.63</td>\n",
       "      <td>1.0</td>\n",
       "      <td>RENT</td>\n",
       "      <td>Source Verified</td>\n",
       "      <td>6.78</td>\n",
       "      <td>2002</td>\n",
       "      <td>3</td>\n",
       "      <td>0</td>\n",
       "      <td>...</td>\n",
       "      <td>4.301052</td>\n",
       "      <td>717.0</td>\n",
       "      <td>3.431364</td>\n",
       "      <td>0</td>\n",
       "      <td>0.0</td>\n",
       "      <td>1.0</td>\n",
       "      <td>0.0</td>\n",
       "      <td>0.0</td>\n",
       "      <td>0.0</td>\n",
       "      <td>1.0</td>\n",
       "    </tr>\n",
       "    <tr>\n",
       "      <th>2</th>\n",
       "      <td>3500</td>\n",
       "      <td>36</td>\n",
       "      <td>116.24</td>\n",
       "      <td>10.0</td>\n",
       "      <td>MORTGAGE</td>\n",
       "      <td>Not Verified</td>\n",
       "      <td>10.65</td>\n",
       "      <td>1997</td>\n",
       "      <td>16</td>\n",
       "      <td>0</td>\n",
       "      <td>...</td>\n",
       "      <td>4.681250</td>\n",
       "      <td>742.0</td>\n",
       "      <td>3.765520</td>\n",
       "      <td>0</td>\n",
       "      <td>1.0</td>\n",
       "      <td>0.0</td>\n",
       "      <td>0.0</td>\n",
       "      <td>1.0</td>\n",
       "      <td>0.0</td>\n",
       "      <td>0.0</td>\n",
       "    </tr>\n",
       "    <tr>\n",
       "      <th>3</th>\n",
       "      <td>10000</td>\n",
       "      <td>36</td>\n",
       "      <td>316.47</td>\n",
       "      <td>10.0</td>\n",
       "      <td>MORTGAGE</td>\n",
       "      <td>Not Verified</td>\n",
       "      <td>21.74</td>\n",
       "      <td>1996</td>\n",
       "      <td>7</td>\n",
       "      <td>0</td>\n",
       "      <td>...</td>\n",
       "      <td>4.875067</td>\n",
       "      <td>707.0</td>\n",
       "      <td>3.424555</td>\n",
       "      <td>0</td>\n",
       "      <td>1.0</td>\n",
       "      <td>0.0</td>\n",
       "      <td>0.0</td>\n",
       "      <td>1.0</td>\n",
       "      <td>0.0</td>\n",
       "      <td>0.0</td>\n",
       "    </tr>\n",
       "    <tr>\n",
       "      <th>4</th>\n",
       "      <td>1500</td>\n",
       "      <td>36</td>\n",
       "      <td>46.31</td>\n",
       "      <td>2.0</td>\n",
       "      <td>OWN</td>\n",
       "      <td>Not Verified</td>\n",
       "      <td>12.17</td>\n",
       "      <td>1997</td>\n",
       "      <td>8</td>\n",
       "      <td>0</td>\n",
       "      <td>...</td>\n",
       "      <td>4.812920</td>\n",
       "      <td>712.0</td>\n",
       "      <td>4.448211</td>\n",
       "      <td>0</td>\n",
       "      <td>1.0</td>\n",
       "      <td>0.0</td>\n",
       "      <td>0.0</td>\n",
       "      <td>0.0</td>\n",
       "      <td>1.0</td>\n",
       "      <td>0.0</td>\n",
       "    </tr>\n",
       "  </tbody>\n",
       "</table>\n",
       "<p>5 rows × 25 columns</p>\n",
       "</div>"
      ],
      "text/plain": [
       "   loan_amnt  term  installment  emp_length home_ownership  \\\n",
       "0       5675    36       189.56         2.0           RENT   \n",
       "1       7000    36       242.63         1.0           RENT   \n",
       "2       3500    36       116.24        10.0       MORTGAGE   \n",
       "3      10000    36       316.47        10.0       MORTGAGE   \n",
       "4       1500    36        46.31         2.0            OWN   \n",
       "\n",
       "  verification_status    dti  earliest_cr_line  open_acc  pub_rec  ...  \\\n",
       "0     Source Verified  15.55              1992         7        0  ...   \n",
       "1     Source Verified   6.78              2002         3        0  ...   \n",
       "2        Not Verified  10.65              1997        16        0  ...   \n",
       "3        Not Verified  21.74              1996         7        0  ...   \n",
       "4        Not Verified  12.17              1997         8        0  ...   \n",
       "\n",
       "   log_annual_inc  fico_score log_revol_bal  charged_off  \\\n",
       "0        4.698979       697.0      3.464936            0   \n",
       "1        4.301052       717.0      3.431364            0   \n",
       "2        4.681250       742.0      3.765520            0   \n",
       "3        4.875067       707.0      3.424555            0   \n",
       "4        4.812920       712.0      4.448211            0   \n",
       "\n",
       "   verification_status_0  verification_status_1  verification_status_2  \\\n",
       "0                    0.0                    1.0                    0.0   \n",
       "1                    0.0                    1.0                    0.0   \n",
       "2                    1.0                    0.0                    0.0   \n",
       "3                    1.0                    0.0                    0.0   \n",
       "4                    1.0                    0.0                    0.0   \n",
       "\n",
       "   home_ownership_0  home_ownership_1  home_ownership_2  \n",
       "0               0.0               0.0               1.0  \n",
       "1               0.0               0.0               1.0  \n",
       "2               1.0               0.0               0.0  \n",
       "3               1.0               0.0               0.0  \n",
       "4               0.0               1.0               0.0  \n",
       "\n",
       "[5 rows x 25 columns]"
      ]
     },
     "execution_count": 41,
     "metadata": {},
     "output_type": "execute_result"
    }
   ],
   "source": [
    "enc = OneHotEncoder()\n",
    "enc_df = pd.DataFrame(enc.fit_transform(df[['home_ownership']]).toarray())\n",
    "\n",
    "# home_ownership\n",
    "enc_df.columns = ['home_ownership_0', 'home_ownership_1', 'home_ownership_2']\n",
    "enc_df.head()\n",
    "\n",
    "df = df.join(enc_df)\n",
    "df.head()"
   ]
  },
  {
   "cell_type": "code",
   "execution_count": 42,
   "metadata": {},
   "outputs": [
    {
     "data": {
      "text/html": [
       "<div>\n",
       "<style scoped>\n",
       "    .dataframe tbody tr th:only-of-type {\n",
       "        vertical-align: middle;\n",
       "    }\n",
       "\n",
       "    .dataframe tbody tr th {\n",
       "        vertical-align: top;\n",
       "    }\n",
       "\n",
       "    .dataframe thead th {\n",
       "        text-align: right;\n",
       "    }\n",
       "</style>\n",
       "<table border=\"1\" class=\"dataframe\">\n",
       "  <thead>\n",
       "    <tr style=\"text-align: right;\">\n",
       "      <th></th>\n",
       "      <th>loan_amnt</th>\n",
       "      <th>term</th>\n",
       "      <th>installment</th>\n",
       "      <th>emp_length</th>\n",
       "      <th>home_ownership</th>\n",
       "      <th>verification_status</th>\n",
       "      <th>dti</th>\n",
       "      <th>earliest_cr_line</th>\n",
       "      <th>open_acc</th>\n",
       "      <th>pub_rec</th>\n",
       "      <th>...</th>\n",
       "      <th>log_revol_bal</th>\n",
       "      <th>charged_off</th>\n",
       "      <th>verification_status_0</th>\n",
       "      <th>verification_status_1</th>\n",
       "      <th>verification_status_2</th>\n",
       "      <th>home_ownership_0</th>\n",
       "      <th>home_ownership_1</th>\n",
       "      <th>home_ownership_2</th>\n",
       "      <th>application_type_0</th>\n",
       "      <th>application_type_1</th>\n",
       "    </tr>\n",
       "  </thead>\n",
       "  <tbody>\n",
       "    <tr>\n",
       "      <th>0</th>\n",
       "      <td>5675</td>\n",
       "      <td>36</td>\n",
       "      <td>189.56</td>\n",
       "      <td>2.0</td>\n",
       "      <td>RENT</td>\n",
       "      <td>Source Verified</td>\n",
       "      <td>15.55</td>\n",
       "      <td>1992</td>\n",
       "      <td>7</td>\n",
       "      <td>0</td>\n",
       "      <td>...</td>\n",
       "      <td>3.464936</td>\n",
       "      <td>0</td>\n",
       "      <td>0.0</td>\n",
       "      <td>1.0</td>\n",
       "      <td>0.0</td>\n",
       "      <td>0.0</td>\n",
       "      <td>0.0</td>\n",
       "      <td>1.0</td>\n",
       "      <td>1.0</td>\n",
       "      <td>0.0</td>\n",
       "    </tr>\n",
       "    <tr>\n",
       "      <th>1</th>\n",
       "      <td>7000</td>\n",
       "      <td>36</td>\n",
       "      <td>242.63</td>\n",
       "      <td>1.0</td>\n",
       "      <td>RENT</td>\n",
       "      <td>Source Verified</td>\n",
       "      <td>6.78</td>\n",
       "      <td>2002</td>\n",
       "      <td>3</td>\n",
       "      <td>0</td>\n",
       "      <td>...</td>\n",
       "      <td>3.431364</td>\n",
       "      <td>0</td>\n",
       "      <td>0.0</td>\n",
       "      <td>1.0</td>\n",
       "      <td>0.0</td>\n",
       "      <td>0.0</td>\n",
       "      <td>0.0</td>\n",
       "      <td>1.0</td>\n",
       "      <td>1.0</td>\n",
       "      <td>0.0</td>\n",
       "    </tr>\n",
       "    <tr>\n",
       "      <th>2</th>\n",
       "      <td>3500</td>\n",
       "      <td>36</td>\n",
       "      <td>116.24</td>\n",
       "      <td>10.0</td>\n",
       "      <td>MORTGAGE</td>\n",
       "      <td>Not Verified</td>\n",
       "      <td>10.65</td>\n",
       "      <td>1997</td>\n",
       "      <td>16</td>\n",
       "      <td>0</td>\n",
       "      <td>...</td>\n",
       "      <td>3.765520</td>\n",
       "      <td>0</td>\n",
       "      <td>1.0</td>\n",
       "      <td>0.0</td>\n",
       "      <td>0.0</td>\n",
       "      <td>1.0</td>\n",
       "      <td>0.0</td>\n",
       "      <td>0.0</td>\n",
       "      <td>1.0</td>\n",
       "      <td>0.0</td>\n",
       "    </tr>\n",
       "    <tr>\n",
       "      <th>3</th>\n",
       "      <td>10000</td>\n",
       "      <td>36</td>\n",
       "      <td>316.47</td>\n",
       "      <td>10.0</td>\n",
       "      <td>MORTGAGE</td>\n",
       "      <td>Not Verified</td>\n",
       "      <td>21.74</td>\n",
       "      <td>1996</td>\n",
       "      <td>7</td>\n",
       "      <td>0</td>\n",
       "      <td>...</td>\n",
       "      <td>3.424555</td>\n",
       "      <td>0</td>\n",
       "      <td>1.0</td>\n",
       "      <td>0.0</td>\n",
       "      <td>0.0</td>\n",
       "      <td>1.0</td>\n",
       "      <td>0.0</td>\n",
       "      <td>0.0</td>\n",
       "      <td>1.0</td>\n",
       "      <td>0.0</td>\n",
       "    </tr>\n",
       "    <tr>\n",
       "      <th>4</th>\n",
       "      <td>1500</td>\n",
       "      <td>36</td>\n",
       "      <td>46.31</td>\n",
       "      <td>2.0</td>\n",
       "      <td>OWN</td>\n",
       "      <td>Not Verified</td>\n",
       "      <td>12.17</td>\n",
       "      <td>1997</td>\n",
       "      <td>8</td>\n",
       "      <td>0</td>\n",
       "      <td>...</td>\n",
       "      <td>4.448211</td>\n",
       "      <td>0</td>\n",
       "      <td>1.0</td>\n",
       "      <td>0.0</td>\n",
       "      <td>0.0</td>\n",
       "      <td>0.0</td>\n",
       "      <td>1.0</td>\n",
       "      <td>0.0</td>\n",
       "      <td>1.0</td>\n",
       "      <td>0.0</td>\n",
       "    </tr>\n",
       "  </tbody>\n",
       "</table>\n",
       "<p>5 rows × 27 columns</p>\n",
       "</div>"
      ],
      "text/plain": [
       "   loan_amnt  term  installment  emp_length home_ownership  \\\n",
       "0       5675    36       189.56         2.0           RENT   \n",
       "1       7000    36       242.63         1.0           RENT   \n",
       "2       3500    36       116.24        10.0       MORTGAGE   \n",
       "3      10000    36       316.47        10.0       MORTGAGE   \n",
       "4       1500    36        46.31         2.0            OWN   \n",
       "\n",
       "  verification_status    dti  earliest_cr_line  open_acc  pub_rec  ...  \\\n",
       "0     Source Verified  15.55              1992         7        0  ...   \n",
       "1     Source Verified   6.78              2002         3        0  ...   \n",
       "2        Not Verified  10.65              1997        16        0  ...   \n",
       "3        Not Verified  21.74              1996         7        0  ...   \n",
       "4        Not Verified  12.17              1997         8        0  ...   \n",
       "\n",
       "   log_revol_bal  charged_off verification_status_0  verification_status_1  \\\n",
       "0       3.464936            0                   0.0                    1.0   \n",
       "1       3.431364            0                   0.0                    1.0   \n",
       "2       3.765520            0                   1.0                    0.0   \n",
       "3       3.424555            0                   1.0                    0.0   \n",
       "4       4.448211            0                   1.0                    0.0   \n",
       "\n",
       "   verification_status_2  home_ownership_0  home_ownership_1  \\\n",
       "0                    0.0               0.0               0.0   \n",
       "1                    0.0               0.0               0.0   \n",
       "2                    0.0               1.0               0.0   \n",
       "3                    0.0               1.0               0.0   \n",
       "4                    0.0               0.0               1.0   \n",
       "\n",
       "   home_ownership_2  application_type_0  application_type_1  \n",
       "0               1.0                 1.0                 0.0  \n",
       "1               1.0                 1.0                 0.0  \n",
       "2               0.0                 1.0                 0.0  \n",
       "3               0.0                 1.0                 0.0  \n",
       "4               0.0                 1.0                 0.0  \n",
       "\n",
       "[5 rows x 27 columns]"
      ]
     },
     "execution_count": 42,
     "metadata": {},
     "output_type": "execute_result"
    }
   ],
   "source": [
    "enc = OneHotEncoder ()\n",
    "enc_df = pd.DataFrame(enc.fit_transform(df[['application_type']]).toarray())\n",
    "\n",
    "#application_type\n",
    "enc_df.columns = ['application_type_0', 'application_type_1']\n",
    "enc_df.head()\n",
    "\n",
    "df = df.join(enc_df)\n",
    "df.head()"
   ]
  },
  {
   "cell_type": "code",
   "execution_count": 43,
   "metadata": {},
   "outputs": [],
   "source": [
    "# Drop the original categorical columns\n",
    "categorical_columns = list(df.describe(include=['O']).columns) \n",
    "df.drop(categorical_columns, axis=1, inplace=True)"
   ]
  },
  {
   "cell_type": "code",
   "execution_count": 44,
   "metadata": {},
   "outputs": [],
   "source": [
    "# Reset Index of dataFrame\n",
    "df.reset_index(drop=True, inplace=True)"
   ]
  },
  {
   "cell_type": "code",
   "execution_count": 45,
   "metadata": {},
   "outputs": [
    {
     "data": {
      "text/html": [
       "<div>\n",
       "<style scoped>\n",
       "    .dataframe tbody tr th:only-of-type {\n",
       "        vertical-align: middle;\n",
       "    }\n",
       "\n",
       "    .dataframe tbody tr th {\n",
       "        vertical-align: top;\n",
       "    }\n",
       "\n",
       "    .dataframe thead th {\n",
       "        text-align: right;\n",
       "    }\n",
       "</style>\n",
       "<table border=\"1\" class=\"dataframe\">\n",
       "  <thead>\n",
       "    <tr style=\"text-align: right;\">\n",
       "      <th></th>\n",
       "      <th>loan_amnt</th>\n",
       "      <th>term</th>\n",
       "      <th>installment</th>\n",
       "      <th>emp_length</th>\n",
       "      <th>dti</th>\n",
       "      <th>earliest_cr_line</th>\n",
       "      <th>open_acc</th>\n",
       "      <th>pub_rec</th>\n",
       "      <th>revol_util</th>\n",
       "      <th>total_acc</th>\n",
       "      <th>...</th>\n",
       "      <th>log_revol_bal</th>\n",
       "      <th>charged_off</th>\n",
       "      <th>verification_status_0</th>\n",
       "      <th>verification_status_1</th>\n",
       "      <th>verification_status_2</th>\n",
       "      <th>home_ownership_0</th>\n",
       "      <th>home_ownership_1</th>\n",
       "      <th>home_ownership_2</th>\n",
       "      <th>application_type_0</th>\n",
       "      <th>application_type_1</th>\n",
       "    </tr>\n",
       "  </thead>\n",
       "  <tbody>\n",
       "    <tr>\n",
       "      <th>0</th>\n",
       "      <td>5675</td>\n",
       "      <td>36</td>\n",
       "      <td>189.56</td>\n",
       "      <td>2.0</td>\n",
       "      <td>15.55</td>\n",
       "      <td>1992</td>\n",
       "      <td>7</td>\n",
       "      <td>0</td>\n",
       "      <td>15.0</td>\n",
       "      <td>15</td>\n",
       "      <td>...</td>\n",
       "      <td>3.464936</td>\n",
       "      <td>0</td>\n",
       "      <td>0.0</td>\n",
       "      <td>1.0</td>\n",
       "      <td>0.0</td>\n",
       "      <td>0.0</td>\n",
       "      <td>0.0</td>\n",
       "      <td>1.0</td>\n",
       "      <td>1.0</td>\n",
       "      <td>0.0</td>\n",
       "    </tr>\n",
       "    <tr>\n",
       "      <th>1</th>\n",
       "      <td>7000</td>\n",
       "      <td>36</td>\n",
       "      <td>242.63</td>\n",
       "      <td>1.0</td>\n",
       "      <td>6.78</td>\n",
       "      <td>2002</td>\n",
       "      <td>3</td>\n",
       "      <td>0</td>\n",
       "      <td>69.2</td>\n",
       "      <td>5</td>\n",
       "      <td>...</td>\n",
       "      <td>3.431364</td>\n",
       "      <td>0</td>\n",
       "      <td>0.0</td>\n",
       "      <td>1.0</td>\n",
       "      <td>0.0</td>\n",
       "      <td>0.0</td>\n",
       "      <td>0.0</td>\n",
       "      <td>1.0</td>\n",
       "      <td>1.0</td>\n",
       "      <td>0.0</td>\n",
       "    </tr>\n",
       "    <tr>\n",
       "      <th>2</th>\n",
       "      <td>3500</td>\n",
       "      <td>36</td>\n",
       "      <td>116.24</td>\n",
       "      <td>10.0</td>\n",
       "      <td>10.65</td>\n",
       "      <td>1997</td>\n",
       "      <td>16</td>\n",
       "      <td>0</td>\n",
       "      <td>12.6</td>\n",
       "      <td>35</td>\n",
       "      <td>...</td>\n",
       "      <td>3.765520</td>\n",
       "      <td>0</td>\n",
       "      <td>1.0</td>\n",
       "      <td>0.0</td>\n",
       "      <td>0.0</td>\n",
       "      <td>1.0</td>\n",
       "      <td>0.0</td>\n",
       "      <td>0.0</td>\n",
       "      <td>1.0</td>\n",
       "      <td>0.0</td>\n",
       "    </tr>\n",
       "    <tr>\n",
       "      <th>3</th>\n",
       "      <td>10000</td>\n",
       "      <td>36</td>\n",
       "      <td>316.47</td>\n",
       "      <td>10.0</td>\n",
       "      <td>21.74</td>\n",
       "      <td>1996</td>\n",
       "      <td>7</td>\n",
       "      <td>0</td>\n",
       "      <td>23.7</td>\n",
       "      <td>22</td>\n",
       "      <td>...</td>\n",
       "      <td>3.424555</td>\n",
       "      <td>0</td>\n",
       "      <td>1.0</td>\n",
       "      <td>0.0</td>\n",
       "      <td>0.0</td>\n",
       "      <td>1.0</td>\n",
       "      <td>0.0</td>\n",
       "      <td>0.0</td>\n",
       "      <td>1.0</td>\n",
       "      <td>0.0</td>\n",
       "    </tr>\n",
       "    <tr>\n",
       "      <th>4</th>\n",
       "      <td>1500</td>\n",
       "      <td>36</td>\n",
       "      <td>46.31</td>\n",
       "      <td>2.0</td>\n",
       "      <td>12.17</td>\n",
       "      <td>1997</td>\n",
       "      <td>8</td>\n",
       "      <td>0</td>\n",
       "      <td>46.5</td>\n",
       "      <td>13</td>\n",
       "      <td>...</td>\n",
       "      <td>4.448211</td>\n",
       "      <td>0</td>\n",
       "      <td>1.0</td>\n",
       "      <td>0.0</td>\n",
       "      <td>0.0</td>\n",
       "      <td>0.0</td>\n",
       "      <td>1.0</td>\n",
       "      <td>0.0</td>\n",
       "      <td>1.0</td>\n",
       "      <td>0.0</td>\n",
       "    </tr>\n",
       "  </tbody>\n",
       "</table>\n",
       "<p>5 rows × 24 columns</p>\n",
       "</div>"
      ],
      "text/plain": [
       "   loan_amnt  term  installment  emp_length    dti  earliest_cr_line  \\\n",
       "0       5675    36       189.56         2.0  15.55              1992   \n",
       "1       7000    36       242.63         1.0   6.78              2002   \n",
       "2       3500    36       116.24        10.0  10.65              1997   \n",
       "3      10000    36       316.47        10.0  21.74              1996   \n",
       "4       1500    36        46.31         2.0  12.17              1997   \n",
       "\n",
       "   open_acc  pub_rec  revol_util  total_acc  ...  log_revol_bal  charged_off  \\\n",
       "0         7        0        15.0         15  ...       3.464936            0   \n",
       "1         3        0        69.2          5  ...       3.431364            0   \n",
       "2        16        0        12.6         35  ...       3.765520            0   \n",
       "3         7        0        23.7         22  ...       3.424555            0   \n",
       "4         8        0        46.5         13  ...       4.448211            0   \n",
       "\n",
       "   verification_status_0  verification_status_1  verification_status_2  \\\n",
       "0                    0.0                    1.0                    0.0   \n",
       "1                    0.0                    1.0                    0.0   \n",
       "2                    1.0                    0.0                    0.0   \n",
       "3                    1.0                    0.0                    0.0   \n",
       "4                    1.0                    0.0                    0.0   \n",
       "\n",
       "   home_ownership_0  home_ownership_1  home_ownership_2  application_type_0  \\\n",
       "0               0.0               0.0               1.0                 1.0   \n",
       "1               0.0               0.0               1.0                 1.0   \n",
       "2               1.0               0.0               0.0                 1.0   \n",
       "3               1.0               0.0               0.0                 1.0   \n",
       "4               0.0               1.0               0.0                 1.0   \n",
       "\n",
       "   application_type_1  \n",
       "0                 0.0  \n",
       "1                 0.0  \n",
       "2                 0.0  \n",
       "3                 0.0  \n",
       "4                 0.0  \n",
       "\n",
       "[5 rows x 24 columns]"
      ]
     },
     "execution_count": 45,
     "metadata": {},
     "output_type": "execute_result"
    }
   ],
   "source": [
    "df.head()"
   ]
  },
  {
   "cell_type": "code",
   "execution_count": 46,
   "metadata": {},
   "outputs": [
    {
     "data": {
      "text/plain": [
       "(8898, 24)"
      ]
     },
     "execution_count": 46,
     "metadata": {},
     "output_type": "execute_result"
    }
   ],
   "source": [
    "df.shape"
   ]
  },
  {
   "cell_type": "markdown",
   "metadata": {},
   "source": [
    "## Duplicate Data"
   ]
  },
  {
   "cell_type": "code",
   "execution_count": 47,
   "metadata": {},
   "outputs": [
    {
     "name": "stdout",
     "output_type": "stream",
     "text": [
      "Data shape: (8898, 24)\n",
      "Data shape: (8898, 24)\n"
     ]
    }
   ],
   "source": [
    "print(f\"Data shape: {df.shape}\")\n",
    "\n",
    "# Remove duplicate Features\n",
    "df = df.T.drop_duplicates()\n",
    "df = df.T\n",
    "\n",
    "# Remove Duplicate Rows\n",
    "df.drop_duplicates(inplace=True)\n",
    "\n",
    "print(f\"Data shape: {df.shape}\")"
   ]
  },
  {
   "cell_type": "markdown",
   "metadata": {},
   "source": [
    "There is no duplicate datat points"
   ]
  },
  {
   "cell_type": "markdown",
   "metadata": {},
   "source": [
    "# Unbalanced Dataset With Random Forest"
   ]
  },
  {
   "cell_type": "markdown",
   "metadata": {},
   "source": [
    "Now we want to apply simple Random Forest model to see the performance of defaulting classification on unbalanced dataset."
   ]
  },
  {
   "cell_type": "code",
   "execution_count": 48,
   "metadata": {},
   "outputs": [
    {
     "name": "stdout",
     "output_type": "stream",
     "text": [
      "Non-Defaulting 0.8522139806698135\n",
      "Defaulting 0.14778601933018656\n"
     ]
    }
   ],
   "source": [
    "non_default_prop = df.charged_off.value_counts()[0] / df.shape[0]\n",
    "default_prop = df.charged_off.value_counts()[1] / df.shape[0]\n",
    "\n",
    "print(f\"Non-Defaulting {non_default_prop}\")\n",
    "print(f\"Defaulting {default_prop}\")"
   ]
  },
  {
   "cell_type": "code",
   "execution_count": 49,
   "metadata": {},
   "outputs": [
    {
     "name": "stdout",
     "output_type": "stream",
     "text": [
      "(8008, 23)\n",
      "(890, 23)\n",
      "(8008,)\n",
      "(890,)\n"
     ]
    }
   ],
   "source": [
    "X = df.drop('charged_off', axis=1)\n",
    "y = df.charged_off\n",
    "\n",
    "#Train 90% and Test 10% of dataset\n",
    "X_train, X_test, y_train, y_test = train_test_split(X, y, test_size=0.1, random_state=0, shuffle=True)\n",
    "\n",
    "print(X_train.shape)\n",
    "print(X_test.shape)\n",
    "print(y_train.shape)\n",
    "print(y_test.shape)"
   ]
  },
  {
   "cell_type": "code",
   "execution_count": 50,
   "metadata": {},
   "outputs": [],
   "source": [
    "# Normalise the data\n",
    "scaler = MinMaxScaler()\n",
    "X_train = scaler.fit_transform(X_train)\n",
    "X_test = scaler.transform(X_test)\n",
    "\n",
    "X_train = np.array(X_train).astype(np.float32)\n",
    "X_test = np.array(X_test).astype(np.float32)\n",
    "y_train = np.array(y_train).astype(np.float32)\n",
    "y_test = np.array(y_test).astype(np.float32)"
   ]
  },
  {
   "cell_type": "code",
   "execution_count": 51,
   "metadata": {},
   "outputs": [],
   "source": [
    "model = RandomForestClassifier()\n",
    "model.fit(X_train, y_train)\n",
    "\n",
    "y_train_pred = model.predict(X_train)\n",
    "y_pred = model.predict(X_test)"
   ]
  },
  {
   "cell_type": "code",
   "execution_count": 52,
   "metadata": {},
   "outputs": [],
   "source": [
    "def print_score(true, pred, train=True):\n",
    "    if train:\n",
    "        clf_report = pd.DataFrame(classification_report(true, pred, output_dict=True))\n",
    "        print(\"Train Result:\\n================================================\")\n",
    "        print(f\"Classification Report:\\n{clf_report}\")\n",
    "        print(\"_______________________________________________\")\n",
    "        print(f\"Confusion Matrix: \\n {confusion_matrix(true, pred)}\\n\")\n",
    "        print(\"_______________________________________________\")\n",
    "        print(f\"AUC: \\n {roc_auc_score(true, pred)}\\n\")\n",
    "        print(f\"Accuracy: \\n {accuracy_score(true, pred)}\\n\")\n",
    "        \n",
    "    elif train==False:\n",
    "        clf_report = pd.DataFrame(classification_report(true, pred, output_dict=True))\n",
    "        print(\"Test Result:\\n================================================\")        \n",
    "        print(f\"Classification Report:\\n{clf_report}\")\n",
    "        print(\"_______________________________________________\")\n",
    "        print(f\"Confusion Matrix: \\n {confusion_matrix(true, pred)}\\n\")\n",
    "        print(\"_______________________________________________\")\n",
    "        print(f\"AUC: \\n {roc_auc_score(true, pred)}\\n\")\n",
    "        print(f\"Accuracy: \\n {accuracy_score(true, pred)}\\n\")"
   ]
  },
  {
   "cell_type": "code",
   "execution_count": 53,
   "metadata": {},
   "outputs": [
    {
     "name": "stdout",
     "output_type": "stream",
     "text": [
      "Train Result:\n",
      "================================================\n",
      "Classification Report:\n",
      "              0.0     1.0  accuracy  macro avg  weighted avg\n",
      "precision     1.0     1.0       1.0        1.0           1.0\n",
      "recall        1.0     1.0       1.0        1.0           1.0\n",
      "f1-score      1.0     1.0       1.0        1.0           1.0\n",
      "support    6808.0  1200.0       1.0     8008.0        8008.0\n",
      "_______________________________________________\n",
      "Confusion Matrix: \n",
      " [[6808    0]\n",
      " [   0 1200]]\n",
      "\n",
      "_______________________________________________\n",
      "AUC: \n",
      " 1.0\n",
      "\n",
      "Accuracy: \n",
      " 1.0\n",
      "\n",
      "Test Result:\n",
      "================================================\n",
      "Classification Report:\n",
      "                  0.0         1.0  accuracy   macro avg  weighted avg\n",
      "precision    0.872460    0.500000  0.870787    0.686230      0.824334\n",
      "recall       0.997419    0.017391  0.870787    0.507405      0.870787\n",
      "f1-score     0.930765    0.033613  0.870787    0.482189      0.814841\n",
      "support    775.000000  115.000000  0.870787  890.000000    890.000000\n",
      "_______________________________________________\n",
      "Confusion Matrix: \n",
      " [[773   2]\n",
      " [113   2]]\n",
      "\n",
      "_______________________________________________\n",
      "AUC: \n",
      " 0.5074053295932678\n",
      "\n",
      "Accuracy: \n",
      " 0.8707865168539326\n",
      "\n"
     ]
    }
   ],
   "source": [
    "print_score(y_train, y_train_pred, train=True)\n",
    "print_score(y_test, y_pred, train=False)"
   ]
  },
  {
   "cell_type": "markdown",
   "metadata": {},
   "source": [
    "# Balanced Dataset"
   ]
  },
  {
   "cell_type": "markdown",
   "metadata": {},
   "source": [
    "The above result shows that the model underperform on unbalanced dataset as expected. So we need to balance training dataset before feeding to classification model. There are various technique can be used. One is the oversampling techniques, using Boyle's code (2019). URL: https://towardsdatascience.com/methods-for-dealing-with-imbalanced-data-5b761be45a18 and SMOTE technique. The code of oversampling can be undo and comment SMOTE code part to run the model with oversampling technique."
   ]
  },
  {
   "cell_type": "code",
   "execution_count": 54,
   "metadata": {},
   "outputs": [
    {
     "data": {
      "text/plain": [
       "0.0    6808\n",
       "1.0    1200\n",
       "Name: charged_off, dtype: int64"
      ]
     },
     "execution_count": 54,
     "metadata": {},
     "output_type": "execute_result"
    }
   ],
   "source": [
    "X = df.drop('charged_off', axis=1)\n",
    "y = df.charged_off\n",
    "\n",
    "X_train, X_test, y_train, y_test = train_test_split(X, y, test_size=0.10, random_state=0, shuffle=True)\n",
    "y_train.value_counts()"
   ]
  },
  {
   "cell_type": "code",
   "execution_count": 55,
   "metadata": {},
   "outputs": [
    {
     "data": {
      "text/plain": [
       "1.0    6808\n",
       "0.0    6808\n",
       "Name: charged_off, dtype: int64"
      ]
     },
     "execution_count": 55,
     "metadata": {},
     "output_type": "execute_result"
    }
   ],
   "source": [
    "from imblearn.over_sampling import SMOTE\n",
    "\n",
    "sm = SMOTE(random_state=0, sampling_strategy=1.0)\n",
    "X_train, y_train = sm.fit_sample(X_train, y_train)\n",
    "y_train.value_counts()"
   ]
  },
  {
   "cell_type": "code",
   "execution_count": 56,
   "metadata": {},
   "outputs": [],
   "source": [
    "# # Combine training dataset with target variable 'charged_off' from y_train\n",
    "# train = pd.concat([X_train, y_train], axis=1)\n",
    "\n",
    "# non_default = train[train.charged_off==0]\n",
    "# default = train[train.charged_off==1]\n",
    "\n",
    "# # upsample minority to match the number of majority class (non_default)\n",
    "# default_upsampled = resample(default,\n",
    "#                           replace=True, \n",
    "#                           n_samples=len(non_default),\n",
    "#                           random_state=0) \n",
    "\n",
    "# # combine non_default and upsampled default\n",
    "# upsampled = pd.concat([non_default, default_upsampled])\n",
    "\n",
    "# print(upsampled.charged_off.value_counts())\n",
    "\n",
    "# # separate to X and y of training dataset\n",
    "# X_train = upsampled.drop('charged_off', axis=1)\n",
    "# y_train = upsampled.charged_off"
   ]
  },
  {
   "cell_type": "code",
   "execution_count": 57,
   "metadata": {},
   "outputs": [],
   "source": [
    "# Normalise data\n",
    "scaler = MinMaxScaler()\n",
    "X_train = scaler.fit_transform(X_train)\n",
    "X_test = scaler.transform(X_test)\n",
    "\n",
    "X_train = np.array(X_train).astype(np.float32)\n",
    "X_test = np.array(X_test).astype(np.float32)\n",
    "y_train = np.array(y_train).astype(np.float32)\n",
    "y_test = np.array(y_test).astype(np.float32)"
   ]
  },
  {
   "cell_type": "code",
   "execution_count": 58,
   "metadata": {},
   "outputs": [
    {
     "name": "stdout",
     "output_type": "stream",
     "text": [
      "Train Result:\n",
      "================================================\n",
      "Classification Report:\n",
      "              0.0     1.0  accuracy  macro avg  weighted avg\n",
      "precision     1.0     1.0       1.0        1.0           1.0\n",
      "recall        1.0     1.0       1.0        1.0           1.0\n",
      "f1-score      1.0     1.0       1.0        1.0           1.0\n",
      "support    6808.0  6808.0       1.0    13616.0       13616.0\n",
      "_______________________________________________\n",
      "Confusion Matrix: \n",
      " [[6808    0]\n",
      " [   0 6808]]\n",
      "\n",
      "_______________________________________________\n",
      "AUC: \n",
      " 1.0\n",
      "\n",
      "Accuracy: \n",
      " 1.0\n",
      "\n",
      "Test Result:\n",
      "================================================\n",
      "Classification Report:\n",
      "                  0.0         1.0  accuracy   macro avg  weighted avg\n",
      "precision    0.879310    0.500000  0.870787    0.689655      0.830298\n",
      "recall       0.987097    0.086957  0.870787    0.537027      0.870787\n",
      "f1-score     0.930091    0.148148  0.870787    0.539120      0.829054\n",
      "support    775.000000  115.000000  0.870787  890.000000    890.000000\n",
      "_______________________________________________\n",
      "Confusion Matrix: \n",
      " [[765  10]\n",
      " [105  10]]\n",
      "\n",
      "_______________________________________________\n",
      "AUC: \n",
      " 0.5370266479663394\n",
      "\n",
      "Accuracy: \n",
      " 0.8707865168539326\n",
      "\n"
     ]
    }
   ],
   "source": [
    "# Without grid search\n",
    "model = RandomForestClassifier()\n",
    "model.fit(X_train, y_train)\n",
    "\n",
    "y_train_pred = model.predict(X_train)\n",
    "y_pred = model.predict(X_test)\n",
    "\n",
    "print_score(y_train, y_train_pred, train=True)\n",
    "print_score(y_test, y_pred, train=False)"
   ]
  },
  {
   "cell_type": "markdown",
   "metadata": {},
   "source": [
    "# Logistics Regression"
   ]
  },
  {
   "cell_type": "code",
   "execution_count": 59,
   "metadata": {},
   "outputs": [
    {
     "name": "stdout",
     "output_type": "stream",
     "text": [
      "Best Score: 0.6838191057715647\n",
      "Best Hyperparameters: {'C': 42.93807693006186, 'penalty': 'l2', 'solver': 'lbfgs'}\n"
     ]
    },
    {
     "name": "stderr",
     "output_type": "stream",
     "text": [
      "/home/null/anaconda3/lib/python3.8/site-packages/sklearn/linear_model/_logistic.py:762: ConvergenceWarning: lbfgs failed to converge (status=1):\n",
      "STOP: TOTAL NO. of ITERATIONS REACHED LIMIT.\n",
      "\n",
      "Increase the number of iterations (max_iter) or scale the data as shown in:\n",
      "    https://scikit-learn.org/stable/modules/preprocessing.html\n",
      "Please also refer to the documentation for alternative solver options:\n",
      "    https://scikit-learn.org/stable/modules/linear_model.html#logistic-regression\n",
      "  n_iter_i = _check_optimize_result(\n"
     ]
    }
   ],
   "source": [
    "model = LogisticRegression()\n",
    "\n",
    "# define evaluation\n",
    "cv = RepeatedStratifiedKFold(n_splits=10, n_repeats=3, random_state=1)\n",
    "# define search space\n",
    "space = dict()\n",
    "space['solver'] = ['newton-cg', 'lbfgs', 'liblinear']\n",
    "space['penalty'] = ['none', 'l1', 'l2', 'elasticnet']\n",
    "space['C'] = loguniform(1e-5, 100)\n",
    "\n",
    "search = RandomizedSearchCV(model, space, n_iter=1000, scoring='f1', n_jobs=-1, cv=cv, random_state=1)\n",
    "result = search.fit(X_train, y_train)\n",
    "\n",
    "# summarize result\n",
    "print('Best Score: %s' % result.best_score_)\n",
    "print('Best Hyperparameters: %s' % result.best_params_)"
   ]
  },
  {
   "cell_type": "code",
   "execution_count": 60,
   "metadata": {},
   "outputs": [],
   "source": [
    "best_estimator = result.best_estimator_\n",
    "best_C = result.best_params_['C']\n",
    "best_penalty = result.best_params_['penalty']\n",
    "best_solver = result.best_params_['solver']"
   ]
  },
  {
   "cell_type": "code",
   "execution_count": 61,
   "metadata": {},
   "outputs": [
    {
     "name": "stderr",
     "output_type": "stream",
     "text": [
      "/home/null/anaconda3/lib/python3.8/site-packages/sklearn/linear_model/_logistic.py:762: ConvergenceWarning: lbfgs failed to converge (status=1):\n",
      "STOP: TOTAL NO. of ITERATIONS REACHED LIMIT.\n",
      "\n",
      "Increase the number of iterations (max_iter) or scale the data as shown in:\n",
      "    https://scikit-learn.org/stable/modules/preprocessing.html\n",
      "Please also refer to the documentation for alternative solver options:\n",
      "    https://scikit-learn.org/stable/modules/linear_model.html#logistic-regression\n",
      "  n_iter_i = _check_optimize_result(\n"
     ]
    }
   ],
   "source": [
    "logreg = LogisticRegression(C = best_C, penalty = best_penalty, solver = best_solver)\n",
    "logreg.fit(X_train, y_train)\n",
    "\n",
    "y_train_pred = logreg.predict(X_train)\n",
    "y_pred = logreg.predict(X_test)"
   ]
  },
  {
   "cell_type": "code",
   "execution_count": 62,
   "metadata": {},
   "outputs": [
    {
     "name": "stdout",
     "output_type": "stream",
     "text": [
      "Train Result:\n",
      "================================================\n",
      "Classification Report:\n",
      "                   0.0          1.0  accuracy     macro avg  weighted avg\n",
      "precision     0.686139     0.664362  0.674574      0.675251      0.675251\n",
      "recall        0.643508     0.705640  0.674574      0.674574      0.674574\n",
      "f1-score      0.664140     0.684379  0.674574      0.674260      0.674260\n",
      "support    6808.000000  6808.000000  0.674574  13616.000000  13616.000000\n",
      "_______________________________________________\n",
      "Confusion Matrix: \n",
      " [[4381 2427]\n",
      " [2004 4804]]\n",
      "\n",
      "_______________________________________________\n",
      "AUC: \n",
      " 0.6745740305522914\n",
      "\n",
      "Accuracy: \n",
      " 0.6745740305522914\n",
      "\n",
      "Test Result:\n",
      "================================================\n",
      "Classification Report:\n",
      "                  0.0         1.0  accuracy   macro avg  weighted avg\n",
      "precision    0.929924    0.215470  0.639326    0.572697      0.837607\n",
      "recall       0.633548    0.678261  0.639326    0.655905      0.639326\n",
      "f1-score     0.753645    0.327044  0.639326    0.540345      0.698523\n",
      "support    775.000000  115.000000  0.639326  890.000000    890.000000\n",
      "_______________________________________________\n",
      "Confusion Matrix: \n",
      " [[491 284]\n",
      " [ 37  78]]\n",
      "\n",
      "_______________________________________________\n",
      "AUC: \n",
      " 0.6559046283309957\n",
      "\n",
      "Accuracy: \n",
      " 0.6393258426966292\n",
      "\n"
     ]
    }
   ],
   "source": [
    "print_score(y_train, y_train_pred, train=True)\n",
    "print_score(y_test, y_pred, train=False)"
   ]
  },
  {
   "cell_type": "code",
   "execution_count": 63,
   "metadata": {},
   "outputs": [
    {
     "name": "stdout",
     "output_type": "stream",
     "text": [
      "Train Result:\n",
      "================================================\n",
      "Classification Report:\n",
      "                   0.0          1.0  accuracy     macro avg  weighted avg\n",
      "precision     0.686139     0.664362  0.674574      0.675251      0.675251\n",
      "recall        0.643508     0.705640  0.674574      0.674574      0.674574\n",
      "f1-score      0.664140     0.684379  0.674574      0.674260      0.674260\n",
      "support    6808.000000  6808.000000  0.674574  13616.000000  13616.000000\n",
      "_______________________________________________\n",
      "Confusion Matrix: \n",
      " [[4381 2427]\n",
      " [2004 4804]]\n",
      "\n",
      "_______________________________________________\n",
      "AUC: \n",
      " 0.6745740305522914\n",
      "\n",
      "Accuracy: \n",
      " 0.6745740305522914\n",
      "\n",
      "Test Result:\n",
      "================================================\n",
      "Classification Report:\n",
      "                  0.0         1.0  accuracy   macro avg  weighted avg\n",
      "precision    0.943478    0.206977   0.58764    0.575228      0.848312\n",
      "recall       0.560000    0.773913   0.58764    0.666957      0.587640\n",
      "f1-score     0.702834    0.326606   0.58764    0.514720      0.654220\n",
      "support    775.000000  115.000000   0.58764  890.000000    890.000000\n",
      "_______________________________________________\n",
      "Confusion Matrix: \n",
      " [[434 341]\n",
      " [ 26  89]]\n",
      "\n",
      "_______________________________________________\n",
      "AUC: \n",
      " 0.6669565217391304\n",
      "\n",
      "Accuracy: \n",
      " 0.5876404494382023\n",
      "\n"
     ]
    },
    {
     "name": "stderr",
     "output_type": "stream",
     "text": [
      "/home/null/anaconda3/lib/python3.8/site-packages/sklearn/linear_model/_logistic.py:762: ConvergenceWarning: lbfgs failed to converge (status=1):\n",
      "STOP: TOTAL NO. of ITERATIONS REACHED LIMIT.\n",
      "\n",
      "Increase the number of iterations (max_iter) or scale the data as shown in:\n",
      "    https://scikit-learn.org/stable/modules/preprocessing.html\n",
      "Please also refer to the documentation for alternative solver options:\n",
      "    https://scikit-learn.org/stable/modules/linear_model.html#logistic-regression\n",
      "  n_iter_i = _check_optimize_result(\n"
     ]
    }
   ],
   "source": [
    "# change of threshold from 0.5 to another threshold\n",
    "threshold = 0.45\n",
    "\n",
    "logreg = LogisticRegression(C = best_C, penalty = best_penalty, solver = best_solver)\n",
    "logreg.fit(X_train, y_train)\n",
    "predicted_proba = logreg.predict_proba(X_test)\n",
    "predicted = (predicted_proba [:,1] >= threshold).astype('int')\n",
    "\n",
    "print_score(y_train, y_train_pred, train=True)\n",
    "print_score(y_test, predicted, train=False)"
   ]
  },
  {
   "cell_type": "markdown",
   "metadata": {},
   "source": [
    "# Decision Tree"
   ]
  },
  {
   "cell_type": "code",
   "execution_count": 64,
   "metadata": {},
   "outputs": [
    {
     "name": "stderr",
     "output_type": "stream",
     "text": [
      "/home/null/anaconda3/lib/python3.8/site-packages/sklearn/model_selection/_search.py:278: UserWarning: The total space of parameters 648 is smaller than n_iter=1000. Running 648 iterations. For exhaustive searches, use GridSearchCV.\n",
      "  warnings.warn(\n"
     ]
    },
    {
     "name": "stdout",
     "output_type": "stream",
     "text": [
      "Best Score: 0.8261288577487734\n",
      "Best Hyperparameters: {'min_samples_split': 8, 'min_samples_leaf': 4, 'max_depth': 9, 'criterion': 'gini'}\n"
     ]
    }
   ],
   "source": [
    "model = DecisionTreeClassifier()\n",
    "\n",
    "cv = RepeatedStratifiedKFold(n_splits=10, n_repeats=3, random_state=1)\n",
    "space = dict({\n",
    "    \"criterion\": ['gini', 'entropy'],\n",
    "    \"max_depth\": range(1, 10),\n",
    "    \"min_samples_split\": range(1, 10),\n",
    "    \"min_samples_leaf\": range(1, 5)\n",
    "})\n",
    "\n",
    "search = RandomizedSearchCV(model, space, n_iter=1000, scoring='f1', n_jobs=-1, cv=cv, random_state=1)\n",
    "result = search.fit(X_train, y_train)\n",
    "\n",
    "print('Best Score: %s' % result.best_score_)\n",
    "print('Best Hyperparameters: %s' % result.best_params_)"
   ]
  },
  {
   "cell_type": "code",
   "execution_count": 65,
   "metadata": {},
   "outputs": [],
   "source": [
    "best_estimator = result.best_estimator_\n",
    "best_min_samples_split = result.best_params_['min_samples_split']\n",
    "best_min_samples_leaf = result.best_params_['min_samples_leaf']\n",
    "best_max_depth = result.best_params_['max_depth']\n",
    "best_criterion = result.best_params_['criterion']"
   ]
  },
  {
   "cell_type": "code",
   "execution_count": 66,
   "metadata": {},
   "outputs": [],
   "source": [
    "decision_tree = DecisionTreeClassifier(criterion=best_criterion, max_depth = best_max_depth, min_samples_leaf= best_min_samples_leaf, min_samples_split= best_min_samples_split)\n",
    "decision_tree.fit(X_train, y_train)\n",
    "\n",
    "y_train_pred = decision_tree.predict(X_train)\n",
    "y_pred = decision_tree.predict(X_test)"
   ]
  },
  {
   "cell_type": "code",
   "execution_count": 67,
   "metadata": {},
   "outputs": [
    {
     "name": "stdout",
     "output_type": "stream",
     "text": [
      "Train Result:\n",
      "================================================\n",
      "Classification Report:\n",
      "                   0.0          1.0  accuracy     macro avg  weighted avg\n",
      "precision     0.801929     0.955592  0.863176      0.878761      0.878761\n",
      "recall        0.964600     0.761751  0.863176      0.863176      0.863176\n",
      "f1-score      0.875775     0.847732  0.863176      0.861754      0.861754\n",
      "support    6808.000000  6808.000000  0.863176  13616.000000  13616.000000\n",
      "_______________________________________________\n",
      "Confusion Matrix: \n",
      " [[6567  241]\n",
      " [1622 5186]]\n",
      "\n",
      "_______________________________________________\n",
      "AUC: \n",
      " 0.8631756756756757\n",
      "\n",
      "Accuracy: \n",
      " 0.8631756756756757\n",
      "\n",
      "Test Result:\n",
      "================================================\n",
      "Classification Report:\n",
      "                  0.0         1.0  accuracy   macro avg  weighted avg\n",
      "precision    0.872771    0.163265  0.833708    0.518018      0.781093\n",
      "recall       0.947097    0.069565  0.833708    0.508331      0.833708\n",
      "f1-score     0.908416    0.097561  0.833708    0.502988      0.803642\n",
      "support    775.000000  115.000000  0.833708  890.000000    890.000000\n",
      "_______________________________________________\n",
      "Confusion Matrix: \n",
      " [[734  41]\n",
      " [107   8]]\n",
      "\n",
      "_______________________________________________\n",
      "AUC: \n",
      " 0.5083309957924265\n",
      "\n",
      "Accuracy: \n",
      " 0.8337078651685393\n",
      "\n"
     ]
    }
   ],
   "source": [
    "print_score(y_train, y_train_pred, train=True)\n",
    "print_score(y_test, y_pred, train=False)"
   ]
  },
  {
   "cell_type": "markdown",
   "metadata": {},
   "source": [
    "# Random Forest"
   ]
  },
  {
   "cell_type": "code",
   "execution_count": 68,
   "metadata": {},
   "outputs": [
    {
     "name": "stdout",
     "output_type": "stream",
     "text": [
      "Best Score: 0.8602399740832217\n",
      "Best Hyperparameters: {'max_depth': 8, 'max_features': 'sqrt', 'n_estimators': 1000}\n"
     ]
    }
   ],
   "source": [
    "model = RandomForestClassifier()\n",
    "\n",
    "n_estimators = [100, 500, 1000]\n",
    "max_depth = [3, 5, 8]\n",
    "max_features = [\"sqrt\", 0.5]\n",
    "space = dict(\n",
    "    n_estimators = n_estimators,\n",
    "    max_depth = max_depth,  \n",
    "    max_features = max_features\n",
    ")\n",
    "\n",
    "cv = RepeatedStratifiedKFold(n_splits=10, n_repeats=3, random_state=1)\n",
    "search = GridSearchCV(model, space, scoring='f1', n_jobs=-1, cv=cv)\n",
    "result = search.fit(X_train, y_train)\n",
    "\n",
    "print('Best Score: %s' % result.best_score_)\n",
    "print('Best Hyperparameters: %s' % result.best_params_)"
   ]
  },
  {
   "cell_type": "code",
   "execution_count": 69,
   "metadata": {},
   "outputs": [],
   "source": [
    "best_estimator = result.best_estimator_\n",
    "best_n_estimators = result.best_params_['n_estimators']\n",
    "best_max_depth = result.best_params_['max_depth']\n",
    "best_max_features = result.best_params_['max_features']"
   ]
  },
  {
   "cell_type": "code",
   "execution_count": 70,
   "metadata": {},
   "outputs": [],
   "source": [
    "random_forest = RandomForestClassifier(\n",
    "    n_estimators = best_n_estimators,\n",
    "    class_weight='balanced',\n",
    "    max_depth = best_max_depth,\n",
    "    max_features = best_max_features\n",
    ")\n",
    "random_forest.fit(X_train, y_train)\n",
    "\n",
    "y_train_pred = random_forest.predict(X_train)\n",
    "y_pred = random_forest.predict(X_test)"
   ]
  },
  {
   "cell_type": "code",
   "execution_count": 71,
   "metadata": {},
   "outputs": [
    {
     "name": "stdout",
     "output_type": "stream",
     "text": [
      "Train Result:\n",
      "================================================\n",
      "Classification Report:\n",
      "                   0.0          1.0  accuracy     macro avg  weighted avg\n",
      "precision     0.828568     0.959486  0.883152      0.894027      0.894027\n",
      "recall        0.966216     0.800088  0.883152      0.883152      0.883152\n",
      "f1-score      0.892114     0.872567  0.883152      0.882340      0.882340\n",
      "support    6808.000000  6808.000000  0.883152  13616.000000  13616.000000\n",
      "_______________________________________________\n",
      "Confusion Matrix: \n",
      " [[6578  230]\n",
      " [1361 5447]]\n",
      "\n",
      "_______________________________________________\n",
      "AUC: \n",
      " 0.8831521739130435\n",
      "\n",
      "Accuracy: \n",
      " 0.8831521739130435\n",
      "\n",
      "Test Result:\n",
      "================================================\n",
      "Classification Report:\n",
      "                  0.0         1.0  accuracy   macro avg  weighted avg\n",
      "precision    0.884161    0.386364  0.859551    0.635262      0.819839\n",
      "recall       0.965161    0.147826  0.859551    0.556494      0.859551\n",
      "f1-score     0.922887    0.213836  0.859551    0.568362      0.831268\n",
      "support    775.000000  115.000000  0.859551  890.000000    890.000000\n",
      "_______________________________________________\n",
      "Confusion Matrix: \n",
      " [[748  27]\n",
      " [ 98  17]]\n",
      "\n",
      "_______________________________________________\n",
      "AUC: \n",
      " 0.5564936886395513\n",
      "\n",
      "Accuracy: \n",
      " 0.8595505617977528\n",
      "\n"
     ]
    }
   ],
   "source": [
    "print_score(y_train, y_train_pred, train=True)\n",
    "print_score(y_test, y_pred, train=False)"
   ]
  },
  {
   "cell_type": "markdown",
   "metadata": {},
   "source": [
    "# SVM"
   ]
  },
  {
   "cell_type": "code",
   "execution_count": 72,
   "metadata": {},
   "outputs": [
    {
     "name": "stdout",
     "output_type": "stream",
     "text": [
      "Best Score: 0.837401932071593\n",
      "Best Hyperparameters: {'C': 50, 'gamma': 'scale', 'kernel': 'rbf'}\n"
     ]
    }
   ],
   "source": [
    "model = svm.SVC()\n",
    "\n",
    "kernel = ['poly', 'rbf', 'sigmoid']\n",
    "C = [50, 10, 1.0, 0.1, 0.01]\n",
    "gamma = ['scale']\n",
    "space = dict(kernel=kernel,C=C,gamma=gamma)\n",
    "\n",
    "cv = RepeatedStratifiedKFold(n_splits=10, n_repeats=3, random_state=1)\n",
    "\n",
    "search = GridSearchCV(model, space, scoring='f1', n_jobs=-1, cv=cv)\n",
    "result = search.fit(X_train, y_train)\n",
    "\n",
    "print('Best Score: %s' % result.best_score_)\n",
    "print('Best Hyperparameters: %s' % result.best_params_)"
   ]
  },
  {
   "cell_type": "code",
   "execution_count": 73,
   "metadata": {},
   "outputs": [],
   "source": [
    "best_estimator = result.best_estimator_\n",
    "best_C = result.best_params_['C']\n",
    "best_gamma = result.best_params_['gamma']\n",
    "best_kernel = result.best_params_['kernel']"
   ]
  },
  {
   "cell_type": "code",
   "execution_count": 74,
   "metadata": {},
   "outputs": [],
   "source": [
    "clf = svm.SVC(C = best_C, gamma = best_gamma, kernel = best_kernel, probability=True)\n",
    "clf.fit(X_train, y_train)\n",
    "\n",
    "y_train_pred = clf.predict(X_train)\n",
    "y_pred = clf.predict(X_test)"
   ]
  },
  {
   "cell_type": "code",
   "execution_count": 75,
   "metadata": {},
   "outputs": [
    {
     "name": "stdout",
     "output_type": "stream",
     "text": [
      "Train Result:\n",
      "================================================\n",
      "Classification Report:\n",
      "                   0.0          1.0  accuracy     macro avg  weighted avg\n",
      "precision     0.809193     0.968415  0.872503      0.888804      0.888804\n",
      "recall        0.974882     0.770123  0.872503      0.872503      0.872503\n",
      "f1-score      0.884344     0.857961  0.872503      0.871152      0.871152\n",
      "support    6808.000000  6808.000000  0.872503  13616.000000  13616.000000\n",
      "_______________________________________________\n",
      "Confusion Matrix: \n",
      " [[6637  171]\n",
      " [1565 5243]]\n",
      "\n",
      "_______________________________________________\n",
      "AUC: \n",
      " 0.8725029377203289\n",
      "\n",
      "Accuracy: \n",
      " 0.872502937720329\n",
      "\n",
      "Test Result:\n",
      "================================================\n",
      "Classification Report:\n",
      "                  0.0         1.0  accuracy   macro avg  weighted avg\n",
      "precision    0.877336    0.294118  0.855056    0.585727      0.801977\n",
      "recall       0.969032    0.086957  0.855056    0.527994      0.855056\n",
      "f1-score     0.920907    0.134228  0.855056    0.527568      0.819258\n",
      "support    775.000000  115.000000  0.855056  890.000000    890.000000\n",
      "_______________________________________________\n",
      "Confusion Matrix: \n",
      " [[751  24]\n",
      " [105  10]]\n",
      "\n",
      "_______________________________________________\n",
      "AUC: \n",
      " 0.5279943899018232\n",
      "\n",
      "Accuracy: \n",
      " 0.8550561797752809\n",
      "\n"
     ]
    }
   ],
   "source": [
    "print_score(y_train, y_train_pred, train=True)\n",
    "print_score(y_test, y_pred, train=False)"
   ]
  },
  {
   "cell_type": "code",
   "execution_count": null,
   "metadata": {},
   "outputs": [],
   "source": []
  }
 ],
 "metadata": {
  "kernelspec": {
   "display_name": "Python 3",
   "language": "python",
   "name": "python3"
  },
  "language_info": {
   "codemirror_mode": {
    "name": "ipython",
    "version": 3
   },
   "file_extension": ".py",
   "mimetype": "text/x-python",
   "name": "python",
   "nbconvert_exporter": "python",
   "pygments_lexer": "ipython3",
   "version": "3.8.5"
  }
 },
 "nbformat": 4,
 "nbformat_minor": 5
}

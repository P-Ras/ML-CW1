{
 "cells": [
  {
   "cell_type": "code",
   "execution_count": 91,
   "metadata": {},
   "outputs": [],
   "source": [
    "import pandas as pd\n",
    "import numpy as np\n",
    "import seaborn as sns\n",
    "import matplotlib.pyplot as plt\n",
    "%matplotlib inline\n",
    "\n",
    "from sklearn.tree import DecisionTreeClassifier\n",
    "from sklearn.linear_model import LogisticRegression\n",
    "from sklearn.ensemble import RandomForestClassifier\n",
    "from sklearn import svm\n",
    "\n",
    "from sklearn.metrics import confusion_matrix\n",
    "from sklearn.metrics import roc_auc_score\n",
    "from sklearn.metrics import accuracy_score\n",
    "from sklearn.metrics import roc_curve\n",
    "from sklearn.metrics import classification_report\n",
    "from sklearn.metrics import recall_score\n",
    "from sklearn.metrics import average_precision_score\n",
    "from sklearn.metrics import precision_score\n",
    "from sklearn.metrics import f1_score\n",
    "from sklearn.metrics import plot_confusion_matrix, plot_roc_curve\n",
    "\n",
    "from sklearn.model_selection import train_test_split\n",
    "from sklearn.model_selection import GridSearchCV\n",
    "from sklearn.model_selection import RepeatedStratifiedKFold\n",
    "from sklearn.model_selection import RandomizedSearchCV\n",
    "\n",
    "from sklearn.preprocessing import MinMaxScaler\n",
    "\n",
    "from scipy.stats import loguniform\n",
    "from sklearn.decomposition import PCA\n",
    "from imblearn.over_sampling import RandomOverSampler\n",
    "from imblearn.under_sampling import CondensedNearestNeighbour \n",
    "from imblearn.under_sampling import RandomUnderSampler\n",
    "from collections import Counter\n",
    "from sklearn.utils import resample"
   ]
  },
  {
   "cell_type": "markdown",
   "metadata": {},
   "source": [
    "# Import Data"
   ]
  },
  {
   "cell_type": "code",
   "execution_count": 34,
   "metadata": {},
   "outputs": [],
   "source": [
    "df = pd.read_csv('dataset/dataCOMP0050Coursework1.csv')"
   ]
  },
  {
   "cell_type": "code",
   "execution_count": 35,
   "metadata": {},
   "outputs": [
    {
     "data": {
      "text/plain": [
       "(8929, 21)"
      ]
     },
     "execution_count": 35,
     "metadata": {},
     "output_type": "execute_result"
    }
   ],
   "source": [
    "df.shape"
   ]
  },
  {
   "cell_type": "code",
   "execution_count": 36,
   "metadata": {},
   "outputs": [
    {
     "name": "stdout",
     "output_type": "stream",
     "text": [
      "<class 'pandas.core.frame.DataFrame'>\n",
      "RangeIndex: 8929 entries, 0 to 8928\n",
      "Data columns (total 21 columns):\n",
      " #   Column                Non-Null Count  Dtype  \n",
      "---  ------                --------------  -----  \n",
      " 0   loan_amnt             8929 non-null   int64  \n",
      " 1   term                  8929 non-null   int64  \n",
      " 2   installment           8929 non-null   float64\n",
      " 3   emp_length            8504 non-null   float64\n",
      " 4   home_ownership        8929 non-null   object \n",
      " 5   verification_status   8929 non-null   object \n",
      " 6   issue_d               8929 non-null   object \n",
      " 7   purpose               8929 non-null   object \n",
      " 8   dti                   8929 non-null   float64\n",
      " 9   earliest_cr_line      8929 non-null   int64  \n",
      " 10  open_acc              8929 non-null   int64  \n",
      " 11  pub_rec               8929 non-null   int64  \n",
      " 12  revol_util            8915 non-null   float64\n",
      " 13  total_acc             8929 non-null   int64  \n",
      " 14  application_type      8929 non-null   object \n",
      " 15  mort_acc              7173 non-null   float64\n",
      " 16  pub_rec_bankruptcies  8912 non-null   float64\n",
      " 17  log_annual_inc        8929 non-null   float64\n",
      " 18  fico_score            8929 non-null   float64\n",
      " 19  log_revol_bal         8929 non-null   float64\n",
      " 20  charged_off           8929 non-null   int64  \n",
      "dtypes: float64(9), int64(7), object(5)\n",
      "memory usage: 1.4+ MB\n"
     ]
    }
   ],
   "source": [
    "df.info()"
   ]
  },
  {
   "cell_type": "code",
   "execution_count": 37,
   "metadata": {},
   "outputs": [
    {
     "data": {
      "text/html": [
       "<div>\n",
       "<style scoped>\n",
       "    .dataframe tbody tr th:only-of-type {\n",
       "        vertical-align: middle;\n",
       "    }\n",
       "\n",
       "    .dataframe tbody tr th {\n",
       "        vertical-align: top;\n",
       "    }\n",
       "\n",
       "    .dataframe thead th {\n",
       "        text-align: right;\n",
       "    }\n",
       "</style>\n",
       "<table border=\"1\" class=\"dataframe\">\n",
       "  <thead>\n",
       "    <tr style=\"text-align: right;\">\n",
       "      <th></th>\n",
       "      <th>loan_amnt</th>\n",
       "      <th>term</th>\n",
       "      <th>installment</th>\n",
       "      <th>emp_length</th>\n",
       "      <th>home_ownership</th>\n",
       "      <th>verification_status</th>\n",
       "      <th>issue_d</th>\n",
       "      <th>purpose</th>\n",
       "      <th>dti</th>\n",
       "      <th>earliest_cr_line</th>\n",
       "      <th>...</th>\n",
       "      <th>pub_rec</th>\n",
       "      <th>revol_util</th>\n",
       "      <th>total_acc</th>\n",
       "      <th>application_type</th>\n",
       "      <th>mort_acc</th>\n",
       "      <th>pub_rec_bankruptcies</th>\n",
       "      <th>log_annual_inc</th>\n",
       "      <th>fico_score</th>\n",
       "      <th>log_revol_bal</th>\n",
       "      <th>charged_off</th>\n",
       "    </tr>\n",
       "  </thead>\n",
       "  <tbody>\n",
       "    <tr>\n",
       "      <th>0</th>\n",
       "      <td>5675</td>\n",
       "      <td>36</td>\n",
       "      <td>189.56</td>\n",
       "      <td>2.0</td>\n",
       "      <td>RENT</td>\n",
       "      <td>Source Verified</td>\n",
       "      <td>14-Dec</td>\n",
       "      <td>car</td>\n",
       "      <td>15.55</td>\n",
       "      <td>1992</td>\n",
       "      <td>...</td>\n",
       "      <td>0</td>\n",
       "      <td>15.0</td>\n",
       "      <td>15</td>\n",
       "      <td>Individual</td>\n",
       "      <td>0.0</td>\n",
       "      <td>0.0</td>\n",
       "      <td>4.698979</td>\n",
       "      <td>697.0</td>\n",
       "      <td>3.464936</td>\n",
       "      <td>0</td>\n",
       "    </tr>\n",
       "    <tr>\n",
       "      <th>1</th>\n",
       "      <td>7000</td>\n",
       "      <td>36</td>\n",
       "      <td>242.63</td>\n",
       "      <td>1.0</td>\n",
       "      <td>RENT</td>\n",
       "      <td>Source Verified</td>\n",
       "      <td>14-Dec</td>\n",
       "      <td>car</td>\n",
       "      <td>6.78</td>\n",
       "      <td>2002</td>\n",
       "      <td>...</td>\n",
       "      <td>0</td>\n",
       "      <td>69.2</td>\n",
       "      <td>5</td>\n",
       "      <td>Individual</td>\n",
       "      <td>0.0</td>\n",
       "      <td>0.0</td>\n",
       "      <td>4.301052</td>\n",
       "      <td>717.0</td>\n",
       "      <td>3.431364</td>\n",
       "      <td>0</td>\n",
       "    </tr>\n",
       "    <tr>\n",
       "      <th>2</th>\n",
       "      <td>3500</td>\n",
       "      <td>36</td>\n",
       "      <td>116.24</td>\n",
       "      <td>10.0</td>\n",
       "      <td>MORTGAGE</td>\n",
       "      <td>Not Verified</td>\n",
       "      <td>14-Dec</td>\n",
       "      <td>car</td>\n",
       "      <td>10.65</td>\n",
       "      <td>1997</td>\n",
       "      <td>...</td>\n",
       "      <td>0</td>\n",
       "      <td>12.6</td>\n",
       "      <td>35</td>\n",
       "      <td>Individual</td>\n",
       "      <td>2.0</td>\n",
       "      <td>0.0</td>\n",
       "      <td>4.681250</td>\n",
       "      <td>742.0</td>\n",
       "      <td>3.765520</td>\n",
       "      <td>0</td>\n",
       "    </tr>\n",
       "    <tr>\n",
       "      <th>3</th>\n",
       "      <td>10000</td>\n",
       "      <td>36</td>\n",
       "      <td>316.47</td>\n",
       "      <td>10.0</td>\n",
       "      <td>MORTGAGE</td>\n",
       "      <td>Not Verified</td>\n",
       "      <td>14-Dec</td>\n",
       "      <td>car</td>\n",
       "      <td>21.74</td>\n",
       "      <td>1996</td>\n",
       "      <td>...</td>\n",
       "      <td>0</td>\n",
       "      <td>23.7</td>\n",
       "      <td>22</td>\n",
       "      <td>Individual</td>\n",
       "      <td>4.0</td>\n",
       "      <td>0.0</td>\n",
       "      <td>4.875067</td>\n",
       "      <td>707.0</td>\n",
       "      <td>3.424555</td>\n",
       "      <td>0</td>\n",
       "    </tr>\n",
       "    <tr>\n",
       "      <th>4</th>\n",
       "      <td>1500</td>\n",
       "      <td>36</td>\n",
       "      <td>46.31</td>\n",
       "      <td>2.0</td>\n",
       "      <td>OWN</td>\n",
       "      <td>Not Verified</td>\n",
       "      <td>14-Dec</td>\n",
       "      <td>car</td>\n",
       "      <td>12.17</td>\n",
       "      <td>1997</td>\n",
       "      <td>...</td>\n",
       "      <td>0</td>\n",
       "      <td>46.5</td>\n",
       "      <td>13</td>\n",
       "      <td>Individual</td>\n",
       "      <td>2.0</td>\n",
       "      <td>0.0</td>\n",
       "      <td>4.812920</td>\n",
       "      <td>712.0</td>\n",
       "      <td>4.448211</td>\n",
       "      <td>0</td>\n",
       "    </tr>\n",
       "  </tbody>\n",
       "</table>\n",
       "<p>5 rows × 21 columns</p>\n",
       "</div>"
      ],
      "text/plain": [
       "   loan_amnt  term  installment  emp_length home_ownership  \\\n",
       "0       5675    36       189.56         2.0           RENT   \n",
       "1       7000    36       242.63         1.0           RENT   \n",
       "2       3500    36       116.24        10.0       MORTGAGE   \n",
       "3      10000    36       316.47        10.0       MORTGAGE   \n",
       "4       1500    36        46.31         2.0            OWN   \n",
       "\n",
       "  verification_status issue_d purpose    dti  earliest_cr_line  ...  pub_rec  \\\n",
       "0     Source Verified  14-Dec     car  15.55              1992  ...        0   \n",
       "1     Source Verified  14-Dec     car   6.78              2002  ...        0   \n",
       "2        Not Verified  14-Dec     car  10.65              1997  ...        0   \n",
       "3        Not Verified  14-Dec     car  21.74              1996  ...        0   \n",
       "4        Not Verified  14-Dec     car  12.17              1997  ...        0   \n",
       "\n",
       "   revol_util  total_acc  application_type mort_acc  pub_rec_bankruptcies  \\\n",
       "0        15.0         15        Individual      0.0                   0.0   \n",
       "1        69.2          5        Individual      0.0                   0.0   \n",
       "2        12.6         35        Individual      2.0                   0.0   \n",
       "3        23.7         22        Individual      4.0                   0.0   \n",
       "4        46.5         13        Individual      2.0                   0.0   \n",
       "\n",
       "   log_annual_inc  fico_score  log_revol_bal  charged_off  \n",
       "0        4.698979       697.0       3.464936            0  \n",
       "1        4.301052       717.0       3.431364            0  \n",
       "2        4.681250       742.0       3.765520            0  \n",
       "3        4.875067       707.0       3.424555            0  \n",
       "4        4.812920       712.0       4.448211            0  \n",
       "\n",
       "[5 rows x 21 columns]"
      ]
     },
     "execution_count": 37,
     "metadata": {},
     "output_type": "execute_result"
    }
   ],
   "source": [
    "df.head()"
   ]
  },
  {
   "cell_type": "code",
   "execution_count": 38,
   "metadata": {},
   "outputs": [
    {
     "data": {
      "text/plain": [
       "Index(['loan_amnt', 'term', 'installment', 'emp_length', 'home_ownership',\n",
       "       'verification_status', 'issue_d', 'purpose', 'dti', 'earliest_cr_line',\n",
       "       'open_acc', 'pub_rec', 'revol_util', 'total_acc', 'application_type',\n",
       "       'mort_acc', 'pub_rec_bankruptcies', 'log_annual_inc', 'fico_score',\n",
       "       'log_revol_bal', 'charged_off'],\n",
       "      dtype='object')"
      ]
     },
     "execution_count": 38,
     "metadata": {},
     "output_type": "execute_result"
    }
   ],
   "source": [
    "df.columns"
   ]
  },
  {
   "cell_type": "markdown",
   "metadata": {},
   "source": [
    "# Data Analysis"
   ]
  },
  {
   "cell_type": "markdown",
   "metadata": {},
   "source": [
    "To analysis the staitsical property of features available in the dataset for further feature engineering process.\n",
    "Sayah (2021) gave a great example to analysis the data of p2p lending data. However, the origianal dataset contains many features that our dataset doesn't have. So subset of his analysis techniques will be reused to support this report. URL: https://www.kaggle.com/faressayah/lending-club-loan-defaulters-prediction"
   ]
  },
  {
   "cell_type": "code",
   "execution_count": 39,
   "metadata": {},
   "outputs": [
    {
     "name": "stderr",
     "output_type": "stream",
     "text": [
      "/home/null/anaconda3/lib/python3.8/site-packages/seaborn/_decorators.py:36: FutureWarning: Pass the following variable as a keyword arg: x. From version 0.12, the only valid positional argument will be `data`, and passing other arguments without an explicit keyword will result in an error or misinterpretation.\n",
      "  warnings.warn(\n"
     ]
    },
    {
     "data": {
      "text/plain": [
       "<AxesSubplot:xlabel='charged_off', ylabel='count'>"
      ]
     },
     "execution_count": 39,
     "metadata": {},
     "output_type": "execute_result"
    },
    {
     "data": {
      "image/png": "[encoded data removed]",
      "text/plain": [
       "<Figure size 432x288 with 1 Axes>"
      ]
     },
     "metadata": {
      "needs_background": "light"
     },
     "output_type": "display_data"
    }
   ],
   "source": [
    "# To see data points grouped by target variable 'charged_off'\n",
    "sns.countplot(df.charged_off)"
   ]
  },
  {
   "cell_type": "code",
   "execution_count": 40,
   "metadata": {},
   "outputs": [
    {
     "data": {
      "text/plain": [
       "0    7608\n",
       "1    1321\n",
       "Name: charged_off, dtype: int64"
      ]
     },
     "execution_count": 40,
     "metadata": {},
     "output_type": "execute_result"
    }
   ],
   "source": [
    "df.charged_off.value_counts()"
   ]
  },
  {
   "cell_type": "markdown",
   "metadata": {},
   "source": [
    "The analysis shows that data is unblanced with default labelled of 1321 but non-default has 7608 rows. So we need to handle this unbalanced dataset carefully. "
   ]
  },
  {
   "cell_type": "code",
   "execution_count": 41,
   "metadata": {},
   "outputs": [
    {
     "data": {
      "text/plain": [
       "<AxesSubplot:>"
      ]
     },
     "execution_count": 41,
     "metadata": {},
     "output_type": "execute_result"
    },
    {
     "data": {
      "image/png": "[encoded data removed]",
      "text/plain": [
       "<Figure size 864x576 with 2 Axes>"
      ]
     },
     "metadata": {
      "needs_background": "light"
     },
     "output_type": "display_data"
    }
   ],
   "source": [
    "# Plot the installment and loan_amnt features against charged_off variable\n",
    "plt.figure(figsize=(12, 8))\n",
    "sns.heatmap(df.corr(), annot=True, cmap='viridis')"
   ]
  },
  {
   "cell_type": "code",
   "execution_count": 42,
   "metadata": {},
   "outputs": [
    {
     "data": {
      "text/plain": [
       "<AxesSubplot:>"
      ]
     },
     "execution_count": 42,
     "metadata": {},
     "output_type": "execute_result"
    },
    {
     "data": {
      "image/png": "[encoded data removed]",
      "text/plain": [
       "<Figure size 576x360 with 1 Axes>"
      ]
     },
     "metadata": {
      "needs_background": "light"
     },
     "output_type": "display_data"
    }
   ],
   "source": [
    "# How numeric features correlate with the target variable?\n",
    "plt.figure(figsize=(8, 5))\n",
    "df.corr()['charged_off'].drop('charged_off').sort_values().plot(kind='barh')"
   ]
  },
  {
   "cell_type": "markdown",
   "metadata": {},
   "source": [
    "The correlation plot shows that there are no features that shows a strong positive or negative correaltion agaist charged_off feature. All features (except charged_off itself) have low correlation value less than 0.5 or -0.5. <br> \n",
    "However, there is a strong correation between few training features such as loan_amnt and installment with value of 0.96 which shows (almost) perfect positive correlation. This is an expected relationship as the lender decides the installment corresponding to the loan amount. "
   ]
  },
  {
   "cell_type": "code",
   "execution_count": 43,
   "metadata": {},
   "outputs": [
    {
     "data": {
      "text/plain": [
       "<AxesSubplot:xlabel='charged_off', ylabel='loan_amnt'>"
      ]
     },
     "execution_count": 43,
     "metadata": {},
     "output_type": "execute_result"
    },
    {
     "data": {
      "image/png": "[encoded data removed]",
      "text/plain": [
       "<Figure size 864x1440 with 4 Axes>"
      ]
     },
     "metadata": {
      "needs_background": "light"
     },
     "output_type": "display_data"
    }
   ],
   "source": [
    "# there is a high correlation (almost perfect) between installment and loan amount\n",
    "plt.figure(figsize=(12, 20))\n",
    "\n",
    "plt.subplot(4, 2, 1)\n",
    "df[df[\"charged_off\"] == 0][\"installment\"].hist(bins=35, color='blue', label='loan_status = Fully Paid', alpha=0.6)\n",
    "df[df[\"charged_off\"] == 1][\"installment\"].hist(bins=35, color='red', label='loan_status = Default', alpha=0.6)\n",
    "plt.legend()\n",
    "plt.xlabel(\"installment\")\n",
    "\n",
    "plt.subplot(4, 2, 2)\n",
    "df[df[\"charged_off\"] == 0][\"loan_amnt\"].hist(bins=35, color='blue', label='loan_status = Fully Paid', alpha=0.6)\n",
    "df[df[\"charged_off\"] == 1][\"loan_amnt\"].hist(bins=35, color='red', label='loan_status = Default', alpha=0.6)\n",
    "plt.legend()\n",
    "plt.xlabel(\"loan_amnt\")\n",
    "\n",
    "plt.subplot(4, 2, 3)\n",
    "sns.scatterplot(x='installment', y='loan_amnt', data=df)\n",
    "\n",
    "plt.subplot(4, 2, 4)\n",
    "sns.boxplot(x='charged_off', y='loan_amnt', data=df)"
   ]
  },
  {
   "cell_type": "code",
   "execution_count": 44,
   "metadata": {},
   "outputs": [
    {
     "data": {
      "text/html": [
       "<div>\n",
       "<style scoped>\n",
       "    .dataframe tbody tr th:only-of-type {\n",
       "        vertical-align: middle;\n",
       "    }\n",
       "\n",
       "    .dataframe tbody tr th {\n",
       "        vertical-align: top;\n",
       "    }\n",
       "\n",
       "    .dataframe thead th {\n",
       "        text-align: right;\n",
       "    }\n",
       "</style>\n",
       "<table border=\"1\" class=\"dataframe\">\n",
       "  <thead>\n",
       "    <tr style=\"text-align: right;\">\n",
       "      <th></th>\n",
       "      <th>count</th>\n",
       "      <th>mean</th>\n",
       "      <th>std</th>\n",
       "      <th>min</th>\n",
       "      <th>25%</th>\n",
       "      <th>50%</th>\n",
       "      <th>75%</th>\n",
       "      <th>max</th>\n",
       "    </tr>\n",
       "    <tr>\n",
       "      <th>charged_off</th>\n",
       "      <th></th>\n",
       "      <th></th>\n",
       "      <th></th>\n",
       "      <th></th>\n",
       "      <th></th>\n",
       "      <th></th>\n",
       "      <th></th>\n",
       "      <th></th>\n",
       "    </tr>\n",
       "  </thead>\n",
       "  <tbody>\n",
       "    <tr>\n",
       "      <th>0</th>\n",
       "      <td>7608.0</td>\n",
       "      <td>8294.601078</td>\n",
       "      <td>5784.174129</td>\n",
       "      <td>1000.0</td>\n",
       "      <td>4500.0</td>\n",
       "      <td>6500.0</td>\n",
       "      <td>10000.0</td>\n",
       "      <td>40000.0</td>\n",
       "    </tr>\n",
       "    <tr>\n",
       "      <th>1</th>\n",
       "      <td>1321.0</td>\n",
       "      <td>10282.021196</td>\n",
       "      <td>7222.812949</td>\n",
       "      <td>1000.0</td>\n",
       "      <td>5000.0</td>\n",
       "      <td>8000.0</td>\n",
       "      <td>14000.0</td>\n",
       "      <td>35000.0</td>\n",
       "    </tr>\n",
       "  </tbody>\n",
       "</table>\n",
       "</div>"
      ],
      "text/plain": [
       "              count          mean          std     min     25%     50%  \\\n",
       "charged_off                                                              \n",
       "0            7608.0   8294.601078  5784.174129  1000.0  4500.0  6500.0   \n",
       "1            1321.0  10282.021196  7222.812949  1000.0  5000.0  8000.0   \n",
       "\n",
       "                 75%      max  \n",
       "charged_off                    \n",
       "0            10000.0  40000.0  \n",
       "1            14000.0  35000.0  "
      ]
     },
     "execution_count": 44,
     "metadata": {},
     "output_type": "execute_result"
    }
   ],
   "source": [
    "df.groupby(by='charged_off')['loan_amnt'].describe()"
   ]
  },
  {
   "cell_type": "markdown",
   "metadata": {},
   "source": [
    "When the lender issue the loan, they always consider the annual income of borrower, length of employments as critical factors."
   ]
  },
  {
   "cell_type": "code",
   "execution_count": 45,
   "metadata": {},
   "outputs": [
    {
     "data": {
      "text/plain": [
       "Text(0.5, 0, 'log_annual_inc')"
      ]
     },
     "execution_count": 45,
     "metadata": {},
     "output_type": "execute_result"
    },
    {
     "data": {
      "image/png": "[encoded data removed]",
      "text/plain": [
       "<Figure size 432x288 with 1 Axes>"
      ]
     },
     "metadata": {
      "needs_background": "light"
     },
     "output_type": "display_data"
    }
   ],
   "source": [
    "df[df[\"charged_off\"] == 0][\"log_annual_inc\"].hist(bins=10, color='blue', label='loan_status = Fully Paid', alpha=0.6)\n",
    "df[df[\"charged_off\"] == 1][\"log_annual_inc\"].hist(bins=10, color='red', label='loan_status = Default', alpha=0.6)\n",
    "plt.legend()\n",
    "plt.xlabel(\"log_annual_inc\")"
   ]
  },
  {
   "cell_type": "code",
   "execution_count": 46,
   "metadata": {},
   "outputs": [
    {
     "data": {
      "text/plain": [
       "Text(0.5, 0, 'emp_length')"
      ]
     },
     "execution_count": 46,
     "metadata": {},
     "output_type": "execute_result"
    },
    {
     "data": {
      "image/png": "[encoded data removed]",
      "text/plain": [
       "<Figure size 432x288 with 1 Axes>"
      ]
     },
     "metadata": {
      "needs_background": "light"
     },
     "output_type": "display_data"
    }
   ],
   "source": [
    "df[df[\"charged_off\"] == 0][\"emp_length\"].hist(bins=10, color='blue', label='loan_status = Fully Paid', alpha=0.6)\n",
    "df[df[\"charged_off\"] == 1][\"emp_length\"].hist(bins=10, color='red', label='loan_status = Default', alpha=0.6)\n",
    "plt.legend()\n",
    "plt.xlabel(\"emp_length\")"
   ]
  },
  {
   "cell_type": "code",
   "execution_count": 47,
   "metadata": {},
   "outputs": [
    {
     "data": {
      "text/plain": [
       "(425, 21)"
      ]
     },
     "execution_count": 47,
     "metadata": {},
     "output_type": "execute_result"
    }
   ],
   "source": [
    "df[df.emp_length.isnull()].shape"
   ]
  },
  {
   "cell_type": "markdown",
   "metadata": {},
   "source": [
    "Surprisingly, there are 425 rows have null value for emp_length."
   ]
  },
  {
   "cell_type": "markdown",
   "metadata": {},
   "source": [
    "Now, lookinng other other numerical attributes that may affect the charged_off prediction"
   ]
  },
  {
   "cell_type": "code",
   "execution_count": 48,
   "metadata": {},
   "outputs": [
    {
     "data": {
      "text/plain": [
       "Text(0.5, 0, 'fico_score')"
      ]
     },
     "execution_count": 48,
     "metadata": {},
     "output_type": "execute_result"
    },
    {
     "data": {
      "image/png": "[encoded data removed]",
      "text/plain": [
       "<Figure size 1080x2160 with 6 Axes>"
      ]
     },
     "metadata": {
      "needs_background": "light"
     },
     "output_type": "display_data"
    }
   ],
   "source": [
    "plt.figure(figsize=(15, 30))\n",
    "\n",
    "plt.subplot(6, 2, 1)\n",
    "df[df[\"charged_off\"] == 0][\"dti\"].value_counts().hist(bins=35, color='blue', \n",
    "                                                                     label='loan_status = Fully Paid', alpha=0.6)\n",
    "df[df[\"charged_off\"] == 1][\"dti\"].value_counts().hist(bins=35, color='red', \n",
    "                                                                      label='loan_status = Default', alpha=0.6)\n",
    "plt.legend()\n",
    "plt.xlabel(\"dti\")\n",
    "\n",
    "plt.subplot(6, 2, 2)\n",
    "df[df[\"charged_off\"] == 0][\"open_acc\"].hist(bins=35, color='blue', label='loan_status = Fully Paid', alpha=0.6)\n",
    "df[df[\"charged_off\"] == 1][\"open_acc\"].hist(bins=35, color='red', label='loan_status = Default', alpha=0.6)\n",
    "plt.legend()\n",
    "plt.xlabel(\"open_acc\")\n",
    "\n",
    "plt.subplot(6, 2, 3)\n",
    "df[df[\"charged_off\"] == 0][\"log_revol_bal\"].hist(bins=35, color='blue', label='loan_status = Fully Paid', alpha=0.6)\n",
    "df[df[\"charged_off\"] == 1][\"log_revol_bal\"].hist(bins=35, color='red', label='loan_status = Default', alpha=0.6)\n",
    "plt.legend()\n",
    "plt.xlabel(\"log_revol_bal\")\n",
    "\n",
    "plt.subplot(6, 2, 4)\n",
    "df[df[\"charged_off\"] == 0][\"log_annual_inc\"].hist(bins=35, color='blue', label='loan_status = Fully Paid', alpha=0.6)\n",
    "df[df[\"charged_off\"] == 1][\"log_annual_inc\"].hist(bins=35, color='red', label='loan_status = Default', alpha=0.6)\n",
    "plt.legend()\n",
    "plt.xlabel(\"log_annual_inc\")\n",
    "\n",
    "plt.subplot(6, 2, 5)\n",
    "df[df[\"charged_off\"] == 0][\"total_acc\"].hist(bins=35, color='blue', label='loan_status = Fully Paid', alpha=0.6)\n",
    "df[df[\"charged_off\"] == 1][\"total_acc\"].hist(bins=35, color='red', label='loan_status = Default', alpha=0.6)\n",
    "plt.legend()\n",
    "plt.xlabel(\"total_acc\")\n",
    "\n",
    "plt.subplot(6, 2, 6)\n",
    "df[df[\"charged_off\"] == 0][\"fico_score\"].hist(bins=35, color='blue', label='loan_status = Fully Paid', alpha=0.6)\n",
    "df[df[\"charged_off\"] == 1][\"fico_score\"].hist(bins=35, color='red', label='loan_status = Default', alpha=0.6)\n",
    "plt.legend()\n",
    "plt.xlabel(\"fico_score\")"
   ]
  },
  {
   "cell_type": "code",
   "execution_count": 49,
   "metadata": {},
   "outputs": [
    {
     "data": {
      "text/plain": [
       "<AxesSubplot:xlabel='pub_rec_bankruptcies', ylabel='count'>"
      ]
     },
     "execution_count": 49,
     "metadata": {},
     "output_type": "execute_result"
    },
    {
     "data": {
      "image/png": "[encoded data removed]",
      "text/plain": [
       "<Figure size 864x2160 with 4 Axes>"
      ]
     },
     "metadata": {
      "needs_background": "light"
     },
     "output_type": "display_data"
    }
   ],
   "source": [
    "plt.figure(figsize=(12, 30))\n",
    "\n",
    "plt.subplot(6, 2, 1)\n",
    "sns.countplot(x='pub_rec', data=df, hue='charged_off')\n",
    "\n",
    "plt.subplot(6, 2, 2)\n",
    "sns.countplot(x='term', data=df, hue='charged_off')\n",
    "\n",
    "plt.subplot(6, 2, 3)\n",
    "sns.countplot(x='mort_acc', data=df, hue='charged_off')\n",
    "\n",
    "plt.subplot(6, 2, 4)\n",
    "sns.countplot(x='pub_rec_bankruptcies', data=df, hue='charged_off')"
   ]
  },
  {
   "cell_type": "code",
   "execution_count": 50,
   "metadata": {},
   "outputs": [
    {
     "data": {
      "text/plain": [
       "<matplotlib.legend.Legend at 0x7f1e8e130100>"
      ]
     },
     "execution_count": 50,
     "metadata": {},
     "output_type": "execute_result"
    },
    {
     "data": {
      "image/png": "[encoded data removed]",
      "text/plain": [
       "<Figure size 432x288 with 1 Axes>"
      ]
     },
     "metadata": {
      "needs_background": "light"
     },
     "output_type": "display_data"
    }
   ],
   "source": [
    "df[df[\"charged_off\"] == 0][\"revol_util\"].hist(bins=10, color='blue', label='loan_status = Fully Paid', alpha=0.6)\n",
    "df[df[\"charged_off\"] == 1][\"revol_util\"].hist(bins=10, color='red', label='loan_status = Default', alpha=0.6)\n",
    "plt.legend()"
   ]
  },
  {
   "cell_type": "markdown",
   "metadata": {},
   "source": [
    "From the previous correlation plot, it doesn't show the correlation of the categorical features. So we should look on the relationship between these features and charged_off variable"
   ]
  },
  {
   "cell_type": "code",
   "execution_count": 51,
   "metadata": {},
   "outputs": [
    {
     "data": {
      "text/html": [
       "<div>\n",
       "<style scoped>\n",
       "    .dataframe tbody tr th:only-of-type {\n",
       "        vertical-align: middle;\n",
       "    }\n",
       "\n",
       "    .dataframe tbody tr th {\n",
       "        vertical-align: top;\n",
       "    }\n",
       "\n",
       "    .dataframe thead th {\n",
       "        text-align: right;\n",
       "    }\n",
       "</style>\n",
       "<table border=\"1\" class=\"dataframe\">\n",
       "  <thead>\n",
       "    <tr style=\"text-align: right;\">\n",
       "      <th></th>\n",
       "      <th>home_ownership</th>\n",
       "      <th>verification_status</th>\n",
       "      <th>issue_d</th>\n",
       "      <th>purpose</th>\n",
       "      <th>application_type</th>\n",
       "    </tr>\n",
       "  </thead>\n",
       "  <tbody>\n",
       "    <tr>\n",
       "      <th>count</th>\n",
       "      <td>8929</td>\n",
       "      <td>8929</td>\n",
       "      <td>8929</td>\n",
       "      <td>8929</td>\n",
       "      <td>8929</td>\n",
       "    </tr>\n",
       "    <tr>\n",
       "      <th>unique</th>\n",
       "      <td>3</td>\n",
       "      <td>3</td>\n",
       "      <td>120</td>\n",
       "      <td>1</td>\n",
       "      <td>2</td>\n",
       "    </tr>\n",
       "    <tr>\n",
       "      <th>top</th>\n",
       "      <td>RENT</td>\n",
       "      <td>Not Verified</td>\n",
       "      <td>14-Oct</td>\n",
       "      <td>car</td>\n",
       "      <td>Individual</td>\n",
       "    </tr>\n",
       "    <tr>\n",
       "      <th>freq</th>\n",
       "      <td>4011</td>\n",
       "      <td>4006</td>\n",
       "      <td>269</td>\n",
       "      <td>8929</td>\n",
       "      <td>8908</td>\n",
       "    </tr>\n",
       "  </tbody>\n",
       "</table>\n",
       "</div>"
      ],
      "text/plain": [
       "       home_ownership verification_status issue_d purpose application_type\n",
       "count            8929                8929    8929    8929             8929\n",
       "unique              3                   3     120       1                2\n",
       "top              RENT        Not Verified  14-Oct     car       Individual\n",
       "freq             4011                4006     269    8929             8908"
      ]
     },
     "execution_count": 51,
     "metadata": {},
     "output_type": "execute_result"
    }
   ],
   "source": [
    "# Shows the categorical columns\n",
    "df.describe(include=['O'])"
   ]
  },
  {
   "cell_type": "code",
   "execution_count": 52,
   "metadata": {},
   "outputs": [
    {
     "data": {
      "image/png": "[encoded data removed]",
      "text/plain": [
       "<Figure size 1080x1440 with 4 Axes>"
      ]
     },
     "metadata": {
      "needs_background": "light"
     },
     "output_type": "display_data"
    }
   ],
   "source": [
    "# visualisation of categorical columns (except issue_d)\n",
    "plt.figure(figsize=(15, 20))\n",
    "\n",
    "plt.subplot(4, 2, 1)\n",
    "sns.countplot(x='home_ownership', data=df, hue='charged_off')\n",
    "\n",
    "plt.subplot(4, 2, 2)\n",
    "sns.countplot(x='verification_status', data=df, hue='charged_off')\n",
    "\n",
    "plt.subplot(4, 2, 3)\n",
    "sns.countplot(x='purpose', data=df, hue='charged_off')\n",
    "\n",
    "plt.subplot(4, 2, 4)\n",
    "g = sns.countplot(x='application_type', data=df, hue='charged_off')\n",
    "g.set_xticklabels(g.get_xticklabels(), rotation=90);"
   ]
  },
  {
   "cell_type": "markdown",
   "metadata": {},
   "source": [
    "Now we notice that the purpose column has only one value of 'car' so we can disregard during feature engineering process."
   ]
  },
  {
   "cell_type": "markdown",
   "metadata": {},
   "source": [
    "Issue_d was marked as categorical type as it contains an object of timestamp with month and year. We can visualise the count of fully paid and default loan by extracting year. Similar to earliest_cr_line column which contain numerical value of year. "
   ]
  },
  {
   "cell_type": "code",
   "execution_count": 53,
   "metadata": {},
   "outputs": [
    {
     "data": {
      "text/plain": [
       "<matplotlib.legend.Legend at 0x7f1e8e127b20>"
      ]
     },
     "execution_count": 53,
     "metadata": {},
     "output_type": "execute_result"
    },
    {
     "data": {
      "image/png": "[encoded data removed]",
      "text/plain": [
       "<Figure size 1080x864 with 2 Axes>"
      ]
     },
     "metadata": {
      "needs_background": "light"
     },
     "output_type": "display_data"
    }
   ],
   "source": [
    "plt.figure(figsize=(15, 12))\n",
    "\n",
    "plt.subplot(2, 2, 1)\n",
    "df[df[\"charged_off\"] == 0].issue_d.str.split('-').str[0].astype(int).value_counts().sort_index().plot(color='blue', label='loan_status = Fully Paid', alpha=0.6)\n",
    "df[df[\"charged_off\"] == 1].issue_d.str.split('-').str[0].astype(int).value_counts().sort_index().plot(color='red', label='loan_status = Default', alpha=0.6)\n",
    "\n",
    "plt.subplot(2, 2, 2)\n",
    "df[df[\"charged_off\"] == 0].earliest_cr_line.value_counts().sort_index().plot(color='blue', label='loan_status = Fully Paid', alpha=0.6)\n",
    "df[df[\"charged_off\"] == 1].earliest_cr_line.value_counts().sort_index().plot(color='red', label='loan_status = Default', alpha=0.6)\n",
    "\n",
    "plt.legend()"
   ]
  },
  {
   "cell_type": "markdown",
   "metadata": {},
   "source": [
    "There is a peak between 2014 and 2016 that for defaulting loan based on issue_d. However, we should not consider this issue_d into our prediction model because it doesn't give any significant value when we use the model to classify new input with latest issue_d."
   ]
  },
  {
   "cell_type": "markdown",
   "metadata": {},
   "source": [
    "Meanwhile, earliest_cr_line should be taken into account as it tell when borrower's earliest reported credit line was opened  "
   ]
  },
  {
   "cell_type": "markdown",
   "metadata": {},
   "source": [
    "Overall, there are two types of features available for this dataset. There are features that related to applicants such as length of employment and feature of loan characteristics, e.g., total amount of loan. "
   ]
  },
  {
   "cell_type": "markdown",
   "metadata": {},
   "source": [
    "# Data Preprocessing"
   ]
  },
  {
   "cell_type": "markdown",
   "metadata": {},
   "source": [
    "## Missing Data handling"
   ]
  },
  {
   "cell_type": "code",
   "execution_count": 54,
   "metadata": {},
   "outputs": [],
   "source": [
    "def show_missing(df):\n",
    "    for column in df.columns:\n",
    "        if df[column].isnull().sum() != 0:\n",
    "            total_missing = df[column].isna().sum()\n",
    "            portion = (total_missing / df.shape[0]) * 100\n",
    "            print(f\"'{column}': number of missing values '{total_missing}' ==> '{portion:.3f}%'\")"
   ]
  },
  {
   "cell_type": "code",
   "execution_count": 55,
   "metadata": {},
   "outputs": [
    {
     "name": "stdout",
     "output_type": "stream",
     "text": [
      "'emp_length': number of missing values '425' ==> '4.760%'\n",
      "'revol_util': number of missing values '14' ==> '0.157%'\n",
      "'mort_acc': number of missing values '1756' ==> '19.666%'\n",
      "'pub_rec_bankruptcies': number of missing values '17' ==> '0.190%'\n"
     ]
    }
   ],
   "source": [
    "show_missing(df)"
   ]
  },
  {
   "cell_type": "markdown",
   "metadata": {},
   "source": [
    "There are 4 columns with missing values."
   ]
  },
  {
   "cell_type": "code",
   "execution_count": 56,
   "metadata": {},
   "outputs": [],
   "source": [
    "# Fill missing emp_length with zero value\n",
    "df['emp_length'].fillna(0, inplace = True)"
   ]
  },
  {
   "cell_type": "markdown",
   "metadata": {},
   "source": [
    "To handle mort_acc, we look at the earlier correlation table which shows a positive correlation value of 0.43 with total_acc. To fill missing value, we will use the mean group by total_acc feature."
   ]
  },
  {
   "cell_type": "code",
   "execution_count": 57,
   "metadata": {},
   "outputs": [],
   "source": [
    "total_acc_avg = df.groupby(by='total_acc').mean().mort_acc"
   ]
  },
  {
   "cell_type": "code",
   "execution_count": 58,
   "metadata": {},
   "outputs": [],
   "source": [
    "def fill_mort_acc(total_acc, mort_acc):\n",
    "    if np.isnan(mort_acc):\n",
    "        return total_acc_avg[total_acc].round()\n",
    "    else:\n",
    "        return mort_acc"
   ]
  },
  {
   "cell_type": "code",
   "execution_count": 59,
   "metadata": {},
   "outputs": [],
   "source": [
    "df['mort_acc'] = df.apply(lambda x: fill_mort_acc(x['total_acc'], x['mort_acc']), axis=1)"
   ]
  },
  {
   "cell_type": "code",
   "execution_count": 60,
   "metadata": {},
   "outputs": [
    {
     "data": {
      "text/plain": [
       "0"
      ]
     },
     "execution_count": 60,
     "metadata": {},
     "output_type": "execute_result"
    }
   ],
   "source": [
    "# Check if there is any missing data\n",
    "df.mort_acc.isnull().sum()"
   ]
  },
  {
   "cell_type": "markdown",
   "metadata": {},
   "source": [
    "revol_util and pub_rec_bankruptcies columns also have missing data. Both columns have missing values which count less than 0.20% of dataset. We can safely remove missing rows from dataset."
   ]
  },
  {
   "cell_type": "code",
   "execution_count": 61,
   "metadata": {},
   "outputs": [
    {
     "name": "stdout",
     "output_type": "stream",
     "text": [
      "'revol_util': number of missing values '14' ==> '0.157%'\n",
      "'pub_rec_bankruptcies': number of missing values '17' ==> '0.190%'\n"
     ]
    }
   ],
   "source": [
    "show_missing(df)"
   ]
  },
  {
   "cell_type": "code",
   "execution_count": 62,
   "metadata": {},
   "outputs": [],
   "source": [
    "df.dropna(inplace=True)"
   ]
  },
  {
   "cell_type": "code",
   "execution_count": 63,
   "metadata": {},
   "outputs": [
    {
     "data": {
      "text/plain": [
       "loan_amnt               0\n",
       "term                    0\n",
       "installment             0\n",
       "emp_length              0\n",
       "home_ownership          0\n",
       "verification_status     0\n",
       "issue_d                 0\n",
       "purpose                 0\n",
       "dti                     0\n",
       "earliest_cr_line        0\n",
       "open_acc                0\n",
       "pub_rec                 0\n",
       "revol_util              0\n",
       "total_acc               0\n",
       "application_type        0\n",
       "mort_acc                0\n",
       "pub_rec_bankruptcies    0\n",
       "log_annual_inc          0\n",
       "fico_score              0\n",
       "log_revol_bal           0\n",
       "charged_off             0\n",
       "dtype: int64"
      ]
     },
     "execution_count": 63,
     "metadata": {},
     "output_type": "execute_result"
    }
   ],
   "source": [
    "# Check if there is any column has missing values\n",
    "df.isnull().sum()"
   ]
  },
  {
   "cell_type": "code",
   "execution_count": 64,
   "metadata": {},
   "outputs": [
    {
     "data": {
      "text/plain": [
       "(8898, 21)"
      ]
     },
     "execution_count": 64,
     "metadata": {},
     "output_type": "execute_result"
    }
   ],
   "source": [
    "df.shape"
   ]
  },
  {
   "cell_type": "markdown",
   "metadata": {},
   "source": [
    "The data is reduced to 8898 from 8929 rows"
   ]
  },
  {
   "cell_type": "markdown",
   "metadata": {},
   "source": [
    "## Categorical data handling"
   ]
  },
  {
   "cell_type": "code",
   "execution_count": 65,
   "metadata": {},
   "outputs": [
    {
     "data": {
      "text/plain": [
       "['home_ownership',\n",
       " 'verification_status',\n",
       " 'issue_d',\n",
       " 'purpose',\n",
       " 'application_type']"
      ]
     },
     "execution_count": 65,
     "metadata": {},
     "output_type": "execute_result"
    }
   ],
   "source": [
    "list(df.describe(include=['O']).columns)"
   ]
  },
  {
   "cell_type": "markdown",
   "metadata": {},
   "source": [
    "Every rows has the same purpose 'car' value so we can safely remove this column from the dataset as it will not affect the default loan prediction."
   ]
  },
  {
   "cell_type": "code",
   "execution_count": 66,
   "metadata": {},
   "outputs": [
    {
     "data": {
      "text/plain": [
       "car    8898\n",
       "Name: purpose, dtype: int64"
      ]
     },
     "execution_count": 66,
     "metadata": {},
     "output_type": "execute_result"
    }
   ],
   "source": [
    "df.purpose.value_counts()"
   ]
  },
  {
   "cell_type": "code",
   "execution_count": 67,
   "metadata": {},
   "outputs": [],
   "source": [
    "df.drop('purpose', axis=1, inplace=True)"
   ]
  },
  {
   "cell_type": "code",
   "execution_count": 68,
   "metadata": {},
   "outputs": [
    {
     "data": {
      "text/plain": [
       "(8898, 20)"
      ]
     },
     "execution_count": 68,
     "metadata": {},
     "output_type": "execute_result"
    }
   ],
   "source": [
    "# number of features remove from 20 to 19 with the same total rows\n",
    "df.shape"
   ]
  },
  {
   "cell_type": "markdown",
   "metadata": {},
   "source": [
    "As explained previously, we should not consider issue date of loan. This column will be dropped. "
   ]
  },
  {
   "cell_type": "code",
   "execution_count": 69,
   "metadata": {},
   "outputs": [
    {
     "data": {
      "text/plain": [
       "(8898, 19)"
      ]
     },
     "execution_count": 69,
     "metadata": {},
     "output_type": "execute_result"
    }
   ],
   "source": [
    "df.drop('issue_d', axis=1, inplace=True)\n",
    "\n",
    "df.shape"
   ]
  },
  {
   "cell_type": "code",
   "execution_count": 70,
   "metadata": {},
   "outputs": [],
   "source": [
    "# Reset Index of dataFrame\n",
    "df.reset_index(drop=True, inplace=True)"
   ]
  },
  {
   "cell_type": "markdown",
   "metadata": {},
   "source": [
    "There are other three categorical features, i.e., home_ownership, verification_status and application_type. There are two techniques can be used to converted text data to numberical value such as LabelEncoder and OneHotEncoder."
   ]
  },
  {
   "cell_type": "code",
   "execution_count": 71,
   "metadata": {},
   "outputs": [],
   "source": [
    "# # LabelEncoder - The matrix gives lower value than OneHotEncoder technique\n",
    "# from sklearn.preprocessing import LabelEncoder\n",
    "# encoder = LabelEncoder()\n",
    "\n",
    "# df['home_ownership'] = encoder.fit_transform(df['home_ownership'])\n",
    "# df['verification_status'] = encoder.fit_transform(df['verification_status'])\n",
    "# df['application_type'] = encoder.fit_transform(df['application_type'])"
   ]
  },
  {
   "cell_type": "code",
   "execution_count": 72,
   "metadata": {},
   "outputs": [
    {
     "data": {
      "text/html": [
       "<div>\n",
       "<style scoped>\n",
       "    .dataframe tbody tr th:only-of-type {\n",
       "        vertical-align: middle;\n",
       "    }\n",
       "\n",
       "    .dataframe tbody tr th {\n",
       "        vertical-align: top;\n",
       "    }\n",
       "\n",
       "    .dataframe thead th {\n",
       "        text-align: right;\n",
       "    }\n",
       "</style>\n",
       "<table border=\"1\" class=\"dataframe\">\n",
       "  <thead>\n",
       "    <tr style=\"text-align: right;\">\n",
       "      <th></th>\n",
       "      <th>loan_amnt</th>\n",
       "      <th>term</th>\n",
       "      <th>installment</th>\n",
       "      <th>emp_length</th>\n",
       "      <th>home_ownership</th>\n",
       "      <th>verification_status</th>\n",
       "      <th>dti</th>\n",
       "      <th>earliest_cr_line</th>\n",
       "      <th>open_acc</th>\n",
       "      <th>pub_rec</th>\n",
       "      <th>...</th>\n",
       "      <th>application_type</th>\n",
       "      <th>mort_acc</th>\n",
       "      <th>pub_rec_bankruptcies</th>\n",
       "      <th>log_annual_inc</th>\n",
       "      <th>fico_score</th>\n",
       "      <th>log_revol_bal</th>\n",
       "      <th>charged_off</th>\n",
       "      <th>verification_status_0</th>\n",
       "      <th>verification_status_1</th>\n",
       "      <th>verification_status_2</th>\n",
       "    </tr>\n",
       "  </thead>\n",
       "  <tbody>\n",
       "    <tr>\n",
       "      <th>0</th>\n",
       "      <td>5675</td>\n",
       "      <td>36</td>\n",
       "      <td>189.56</td>\n",
       "      <td>2.0</td>\n",
       "      <td>RENT</td>\n",
       "      <td>Source Verified</td>\n",
       "      <td>15.55</td>\n",
       "      <td>1992</td>\n",
       "      <td>7</td>\n",
       "      <td>0</td>\n",
       "      <td>...</td>\n",
       "      <td>Individual</td>\n",
       "      <td>0.0</td>\n",
       "      <td>0.0</td>\n",
       "      <td>4.698979</td>\n",
       "      <td>697.0</td>\n",
       "      <td>3.464936</td>\n",
       "      <td>0</td>\n",
       "      <td>0.0</td>\n",
       "      <td>1.0</td>\n",
       "      <td>0.0</td>\n",
       "    </tr>\n",
       "    <tr>\n",
       "      <th>1</th>\n",
       "      <td>7000</td>\n",
       "      <td>36</td>\n",
       "      <td>242.63</td>\n",
       "      <td>1.0</td>\n",
       "      <td>RENT</td>\n",
       "      <td>Source Verified</td>\n",
       "      <td>6.78</td>\n",
       "      <td>2002</td>\n",
       "      <td>3</td>\n",
       "      <td>0</td>\n",
       "      <td>...</td>\n",
       "      <td>Individual</td>\n",
       "      <td>0.0</td>\n",
       "      <td>0.0</td>\n",
       "      <td>4.301052</td>\n",
       "      <td>717.0</td>\n",
       "      <td>3.431364</td>\n",
       "      <td>0</td>\n",
       "      <td>0.0</td>\n",
       "      <td>1.0</td>\n",
       "      <td>0.0</td>\n",
       "    </tr>\n",
       "    <tr>\n",
       "      <th>2</th>\n",
       "      <td>3500</td>\n",
       "      <td>36</td>\n",
       "      <td>116.24</td>\n",
       "      <td>10.0</td>\n",
       "      <td>MORTGAGE</td>\n",
       "      <td>Not Verified</td>\n",
       "      <td>10.65</td>\n",
       "      <td>1997</td>\n",
       "      <td>16</td>\n",
       "      <td>0</td>\n",
       "      <td>...</td>\n",
       "      <td>Individual</td>\n",
       "      <td>2.0</td>\n",
       "      <td>0.0</td>\n",
       "      <td>4.681250</td>\n",
       "      <td>742.0</td>\n",
       "      <td>3.765520</td>\n",
       "      <td>0</td>\n",
       "      <td>1.0</td>\n",
       "      <td>0.0</td>\n",
       "      <td>0.0</td>\n",
       "    </tr>\n",
       "    <tr>\n",
       "      <th>3</th>\n",
       "      <td>10000</td>\n",
       "      <td>36</td>\n",
       "      <td>316.47</td>\n",
       "      <td>10.0</td>\n",
       "      <td>MORTGAGE</td>\n",
       "      <td>Not Verified</td>\n",
       "      <td>21.74</td>\n",
       "      <td>1996</td>\n",
       "      <td>7</td>\n",
       "      <td>0</td>\n",
       "      <td>...</td>\n",
       "      <td>Individual</td>\n",
       "      <td>4.0</td>\n",
       "      <td>0.0</td>\n",
       "      <td>4.875067</td>\n",
       "      <td>707.0</td>\n",
       "      <td>3.424555</td>\n",
       "      <td>0</td>\n",
       "      <td>1.0</td>\n",
       "      <td>0.0</td>\n",
       "      <td>0.0</td>\n",
       "    </tr>\n",
       "    <tr>\n",
       "      <th>4</th>\n",
       "      <td>1500</td>\n",
       "      <td>36</td>\n",
       "      <td>46.31</td>\n",
       "      <td>2.0</td>\n",
       "      <td>OWN</td>\n",
       "      <td>Not Verified</td>\n",
       "      <td>12.17</td>\n",
       "      <td>1997</td>\n",
       "      <td>8</td>\n",
       "      <td>0</td>\n",
       "      <td>...</td>\n",
       "      <td>Individual</td>\n",
       "      <td>2.0</td>\n",
       "      <td>0.0</td>\n",
       "      <td>4.812920</td>\n",
       "      <td>712.0</td>\n",
       "      <td>4.448211</td>\n",
       "      <td>0</td>\n",
       "      <td>1.0</td>\n",
       "      <td>0.0</td>\n",
       "      <td>0.0</td>\n",
       "    </tr>\n",
       "  </tbody>\n",
       "</table>\n",
       "<p>5 rows × 22 columns</p>\n",
       "</div>"
      ],
      "text/plain": [
       "   loan_amnt  term  installment  emp_length home_ownership  \\\n",
       "0       5675    36       189.56         2.0           RENT   \n",
       "1       7000    36       242.63         1.0           RENT   \n",
       "2       3500    36       116.24        10.0       MORTGAGE   \n",
       "3      10000    36       316.47        10.0       MORTGAGE   \n",
       "4       1500    36        46.31         2.0            OWN   \n",
       "\n",
       "  verification_status    dti  earliest_cr_line  open_acc  pub_rec  ...  \\\n",
       "0     Source Verified  15.55              1992         7        0  ...   \n",
       "1     Source Verified   6.78              2002         3        0  ...   \n",
       "2        Not Verified  10.65              1997        16        0  ...   \n",
       "3        Not Verified  21.74              1996         7        0  ...   \n",
       "4        Not Verified  12.17              1997         8        0  ...   \n",
       "\n",
       "   application_type  mort_acc pub_rec_bankruptcies  log_annual_inc  \\\n",
       "0        Individual       0.0                  0.0        4.698979   \n",
       "1        Individual       0.0                  0.0        4.301052   \n",
       "2        Individual       2.0                  0.0        4.681250   \n",
       "3        Individual       4.0                  0.0        4.875067   \n",
       "4        Individual       2.0                  0.0        4.812920   \n",
       "\n",
       "   fico_score  log_revol_bal  charged_off  verification_status_0  \\\n",
       "0       697.0       3.464936            0                    0.0   \n",
       "1       717.0       3.431364            0                    0.0   \n",
       "2       742.0       3.765520            0                    1.0   \n",
       "3       707.0       3.424555            0                    1.0   \n",
       "4       712.0       4.448211            0                    1.0   \n",
       "\n",
       "   verification_status_1  verification_status_2  \n",
       "0                    1.0                    0.0  \n",
       "1                    1.0                    0.0  \n",
       "2                    0.0                    0.0  \n",
       "3                    0.0                    0.0  \n",
       "4                    0.0                    0.0  \n",
       "\n",
       "[5 rows x 22 columns]"
      ]
     },
     "execution_count": 72,
     "metadata": {},
     "output_type": "execute_result"
    }
   ],
   "source": [
    "# OneHotEncoder\n",
    "from sklearn.preprocessing import OneHotEncoder\n",
    "\n",
    "# verification_status\n",
    "enc = OneHotEncoder()\n",
    "enc_df = pd.DataFrame(enc.fit_transform(df[['verification_status']]).toarray())\n",
    "\n",
    "enc_df.columns = ['verification_status_0', 'verification_status_1', 'verification_status_2']\n",
    "enc_df.head()\n",
    "\n",
    "df = df.join(enc_df)\n",
    "df.head()"
   ]
  },
  {
   "cell_type": "code",
   "execution_count": 73,
   "metadata": {},
   "outputs": [
    {
     "data": {
      "text/html": [
       "<div>\n",
       "<style scoped>\n",
       "    .dataframe tbody tr th:only-of-type {\n",
       "        vertical-align: middle;\n",
       "    }\n",
       "\n",
       "    .dataframe tbody tr th {\n",
       "        vertical-align: top;\n",
       "    }\n",
       "\n",
       "    .dataframe thead th {\n",
       "        text-align: right;\n",
       "    }\n",
       "</style>\n",
       "<table border=\"1\" class=\"dataframe\">\n",
       "  <thead>\n",
       "    <tr style=\"text-align: right;\">\n",
       "      <th></th>\n",
       "      <th>loan_amnt</th>\n",
       "      <th>term</th>\n",
       "      <th>installment</th>\n",
       "      <th>emp_length</th>\n",
       "      <th>home_ownership</th>\n",
       "      <th>verification_status</th>\n",
       "      <th>dti</th>\n",
       "      <th>earliest_cr_line</th>\n",
       "      <th>open_acc</th>\n",
       "      <th>pub_rec</th>\n",
       "      <th>...</th>\n",
       "      <th>log_annual_inc</th>\n",
       "      <th>fico_score</th>\n",
       "      <th>log_revol_bal</th>\n",
       "      <th>charged_off</th>\n",
       "      <th>verification_status_0</th>\n",
       "      <th>verification_status_1</th>\n",
       "      <th>verification_status_2</th>\n",
       "      <th>home_ownership_0</th>\n",
       "      <th>home_ownership_1</th>\n",
       "      <th>home_ownership_2</th>\n",
       "    </tr>\n",
       "  </thead>\n",
       "  <tbody>\n",
       "    <tr>\n",
       "      <th>0</th>\n",
       "      <td>5675</td>\n",
       "      <td>36</td>\n",
       "      <td>189.56</td>\n",
       "      <td>2.0</td>\n",
       "      <td>RENT</td>\n",
       "      <td>Source Verified</td>\n",
       "      <td>15.55</td>\n",
       "      <td>1992</td>\n",
       "      <td>7</td>\n",
       "      <td>0</td>\n",
       "      <td>...</td>\n",
       "      <td>4.698979</td>\n",
       "      <td>697.0</td>\n",
       "      <td>3.464936</td>\n",
       "      <td>0</td>\n",
       "      <td>0.0</td>\n",
       "      <td>1.0</td>\n",
       "      <td>0.0</td>\n",
       "      <td>0.0</td>\n",
       "      <td>0.0</td>\n",
       "      <td>1.0</td>\n",
       "    </tr>\n",
       "    <tr>\n",
       "      <th>1</th>\n",
       "      <td>7000</td>\n",
       "      <td>36</td>\n",
       "      <td>242.63</td>\n",
       "      <td>1.0</td>\n",
       "      <td>RENT</td>\n",
       "      <td>Source Verified</td>\n",
       "      <td>6.78</td>\n",
       "      <td>2002</td>\n",
       "      <td>3</td>\n",
       "      <td>0</td>\n",
       "      <td>...</td>\n",
       "      <td>4.301052</td>\n",
       "      <td>717.0</td>\n",
       "      <td>3.431364</td>\n",
       "      <td>0</td>\n",
       "      <td>0.0</td>\n",
       "      <td>1.0</td>\n",
       "      <td>0.0</td>\n",
       "      <td>0.0</td>\n",
       "      <td>0.0</td>\n",
       "      <td>1.0</td>\n",
       "    </tr>\n",
       "    <tr>\n",
       "      <th>2</th>\n",
       "      <td>3500</td>\n",
       "      <td>36</td>\n",
       "      <td>116.24</td>\n",
       "      <td>10.0</td>\n",
       "      <td>MORTGAGE</td>\n",
       "      <td>Not Verified</td>\n",
       "      <td>10.65</td>\n",
       "      <td>1997</td>\n",
       "      <td>16</td>\n",
       "      <td>0</td>\n",
       "      <td>...</td>\n",
       "      <td>4.681250</td>\n",
       "      <td>742.0</td>\n",
       "      <td>3.765520</td>\n",
       "      <td>0</td>\n",
       "      <td>1.0</td>\n",
       "      <td>0.0</td>\n",
       "      <td>0.0</td>\n",
       "      <td>1.0</td>\n",
       "      <td>0.0</td>\n",
       "      <td>0.0</td>\n",
       "    </tr>\n",
       "    <tr>\n",
       "      <th>3</th>\n",
       "      <td>10000</td>\n",
       "      <td>36</td>\n",
       "      <td>316.47</td>\n",
       "      <td>10.0</td>\n",
       "      <td>MORTGAGE</td>\n",
       "      <td>Not Verified</td>\n",
       "      <td>21.74</td>\n",
       "      <td>1996</td>\n",
       "      <td>7</td>\n",
       "      <td>0</td>\n",
       "      <td>...</td>\n",
       "      <td>4.875067</td>\n",
       "      <td>707.0</td>\n",
       "      <td>3.424555</td>\n",
       "      <td>0</td>\n",
       "      <td>1.0</td>\n",
       "      <td>0.0</td>\n",
       "      <td>0.0</td>\n",
       "      <td>1.0</td>\n",
       "      <td>0.0</td>\n",
       "      <td>0.0</td>\n",
       "    </tr>\n",
       "    <tr>\n",
       "      <th>4</th>\n",
       "      <td>1500</td>\n",
       "      <td>36</td>\n",
       "      <td>46.31</td>\n",
       "      <td>2.0</td>\n",
       "      <td>OWN</td>\n",
       "      <td>Not Verified</td>\n",
       "      <td>12.17</td>\n",
       "      <td>1997</td>\n",
       "      <td>8</td>\n",
       "      <td>0</td>\n",
       "      <td>...</td>\n",
       "      <td>4.812920</td>\n",
       "      <td>712.0</td>\n",
       "      <td>4.448211</td>\n",
       "      <td>0</td>\n",
       "      <td>1.0</td>\n",
       "      <td>0.0</td>\n",
       "      <td>0.0</td>\n",
       "      <td>0.0</td>\n",
       "      <td>1.0</td>\n",
       "      <td>0.0</td>\n",
       "    </tr>\n",
       "  </tbody>\n",
       "</table>\n",
       "<p>5 rows × 25 columns</p>\n",
       "</div>"
      ],
      "text/plain": [
       "   loan_amnt  term  installment  emp_length home_ownership  \\\n",
       "0       5675    36       189.56         2.0           RENT   \n",
       "1       7000    36       242.63         1.0           RENT   \n",
       "2       3500    36       116.24        10.0       MORTGAGE   \n",
       "3      10000    36       316.47        10.0       MORTGAGE   \n",
       "4       1500    36        46.31         2.0            OWN   \n",
       "\n",
       "  verification_status    dti  earliest_cr_line  open_acc  pub_rec  ...  \\\n",
       "0     Source Verified  15.55              1992         7        0  ...   \n",
       "1     Source Verified   6.78              2002         3        0  ...   \n",
       "2        Not Verified  10.65              1997        16        0  ...   \n",
       "3        Not Verified  21.74              1996         7        0  ...   \n",
       "4        Not Verified  12.17              1997         8        0  ...   \n",
       "\n",
       "   log_annual_inc  fico_score log_revol_bal  charged_off  \\\n",
       "0        4.698979       697.0      3.464936            0   \n",
       "1        4.301052       717.0      3.431364            0   \n",
       "2        4.681250       742.0      3.765520            0   \n",
       "3        4.875067       707.0      3.424555            0   \n",
       "4        4.812920       712.0      4.448211            0   \n",
       "\n",
       "   verification_status_0  verification_status_1  verification_status_2  \\\n",
       "0                    0.0                    1.0                    0.0   \n",
       "1                    0.0                    1.0                    0.0   \n",
       "2                    1.0                    0.0                    0.0   \n",
       "3                    1.0                    0.0                    0.0   \n",
       "4                    1.0                    0.0                    0.0   \n",
       "\n",
       "   home_ownership_0  home_ownership_1  home_ownership_2  \n",
       "0               0.0               0.0               1.0  \n",
       "1               0.0               0.0               1.0  \n",
       "2               1.0               0.0               0.0  \n",
       "3               1.0               0.0               0.0  \n",
       "4               0.0               1.0               0.0  \n",
       "\n",
       "[5 rows x 25 columns]"
      ]
     },
     "execution_count": 73,
     "metadata": {},
     "output_type": "execute_result"
    }
   ],
   "source": [
    "enc = OneHotEncoder()\n",
    "enc_df = pd.DataFrame(enc.fit_transform(df[['home_ownership']]).toarray())\n",
    "\n",
    "# home_ownership\n",
    "enc_df.columns = ['home_ownership_0', 'home_ownership_1', 'home_ownership_2']\n",
    "enc_df.head()\n",
    "\n",
    "df = df.join(enc_df)\n",
    "df.head()"
   ]
  },
  {
   "cell_type": "code",
   "execution_count": 74,
   "metadata": {},
   "outputs": [
    {
     "data": {
      "text/html": [
       "<div>\n",
       "<style scoped>\n",
       "    .dataframe tbody tr th:only-of-type {\n",
       "        vertical-align: middle;\n",
       "    }\n",
       "\n",
       "    .dataframe tbody tr th {\n",
       "        vertical-align: top;\n",
       "    }\n",
       "\n",
       "    .dataframe thead th {\n",
       "        text-align: right;\n",
       "    }\n",
       "</style>\n",
       "<table border=\"1\" class=\"dataframe\">\n",
       "  <thead>\n",
       "    <tr style=\"text-align: right;\">\n",
       "      <th></th>\n",
       "      <th>loan_amnt</th>\n",
       "      <th>term</th>\n",
       "      <th>installment</th>\n",
       "      <th>emp_length</th>\n",
       "      <th>home_ownership</th>\n",
       "      <th>verification_status</th>\n",
       "      <th>dti</th>\n",
       "      <th>earliest_cr_line</th>\n",
       "      <th>open_acc</th>\n",
       "      <th>pub_rec</th>\n",
       "      <th>...</th>\n",
       "      <th>log_revol_bal</th>\n",
       "      <th>charged_off</th>\n",
       "      <th>verification_status_0</th>\n",
       "      <th>verification_status_1</th>\n",
       "      <th>verification_status_2</th>\n",
       "      <th>home_ownership_0</th>\n",
       "      <th>home_ownership_1</th>\n",
       "      <th>home_ownership_2</th>\n",
       "      <th>application_type_0</th>\n",
       "      <th>application_type_1</th>\n",
       "    </tr>\n",
       "  </thead>\n",
       "  <tbody>\n",
       "    <tr>\n",
       "      <th>0</th>\n",
       "      <td>5675</td>\n",
       "      <td>36</td>\n",
       "      <td>189.56</td>\n",
       "      <td>2.0</td>\n",
       "      <td>RENT</td>\n",
       "      <td>Source Verified</td>\n",
       "      <td>15.55</td>\n",
       "      <td>1992</td>\n",
       "      <td>7</td>\n",
       "      <td>0</td>\n",
       "      <td>...</td>\n",
       "      <td>3.464936</td>\n",
       "      <td>0</td>\n",
       "      <td>0.0</td>\n",
       "      <td>1.0</td>\n",
       "      <td>0.0</td>\n",
       "      <td>0.0</td>\n",
       "      <td>0.0</td>\n",
       "      <td>1.0</td>\n",
       "      <td>1.0</td>\n",
       "      <td>0.0</td>\n",
       "    </tr>\n",
       "    <tr>\n",
       "      <th>1</th>\n",
       "      <td>7000</td>\n",
       "      <td>36</td>\n",
       "      <td>242.63</td>\n",
       "      <td>1.0</td>\n",
       "      <td>RENT</td>\n",
       "      <td>Source Verified</td>\n",
       "      <td>6.78</td>\n",
       "      <td>2002</td>\n",
       "      <td>3</td>\n",
       "      <td>0</td>\n",
       "      <td>...</td>\n",
       "      <td>3.431364</td>\n",
       "      <td>0</td>\n",
       "      <td>0.0</td>\n",
       "      <td>1.0</td>\n",
       "      <td>0.0</td>\n",
       "      <td>0.0</td>\n",
       "      <td>0.0</td>\n",
       "      <td>1.0</td>\n",
       "      <td>1.0</td>\n",
       "      <td>0.0</td>\n",
       "    </tr>\n",
       "    <tr>\n",
       "      <th>2</th>\n",
       "      <td>3500</td>\n",
       "      <td>36</td>\n",
       "      <td>116.24</td>\n",
       "      <td>10.0</td>\n",
       "      <td>MORTGAGE</td>\n",
       "      <td>Not Verified</td>\n",
       "      <td>10.65</td>\n",
       "      <td>1997</td>\n",
       "      <td>16</td>\n",
       "      <td>0</td>\n",
       "      <td>...</td>\n",
       "      <td>3.765520</td>\n",
       "      <td>0</td>\n",
       "      <td>1.0</td>\n",
       "      <td>0.0</td>\n",
       "      <td>0.0</td>\n",
       "      <td>1.0</td>\n",
       "      <td>0.0</td>\n",
       "      <td>0.0</td>\n",
       "      <td>1.0</td>\n",
       "      <td>0.0</td>\n",
       "    </tr>\n",
       "    <tr>\n",
       "      <th>3</th>\n",
       "      <td>10000</td>\n",
       "      <td>36</td>\n",
       "      <td>316.47</td>\n",
       "      <td>10.0</td>\n",
       "      <td>MORTGAGE</td>\n",
       "      <td>Not Verified</td>\n",
       "      <td>21.74</td>\n",
       "      <td>1996</td>\n",
       "      <td>7</td>\n",
       "      <td>0</td>\n",
       "      <td>...</td>\n",
       "      <td>3.424555</td>\n",
       "      <td>0</td>\n",
       "      <td>1.0</td>\n",
       "      <td>0.0</td>\n",
       "      <td>0.0</td>\n",
       "      <td>1.0</td>\n",
       "      <td>0.0</td>\n",
       "      <td>0.0</td>\n",
       "      <td>1.0</td>\n",
       "      <td>0.0</td>\n",
       "    </tr>\n",
       "    <tr>\n",
       "      <th>4</th>\n",
       "      <td>1500</td>\n",
       "      <td>36</td>\n",
       "      <td>46.31</td>\n",
       "      <td>2.0</td>\n",
       "      <td>OWN</td>\n",
       "      <td>Not Verified</td>\n",
       "      <td>12.17</td>\n",
       "      <td>1997</td>\n",
       "      <td>8</td>\n",
       "      <td>0</td>\n",
       "      <td>...</td>\n",
       "      <td>4.448211</td>\n",
       "      <td>0</td>\n",
       "      <td>1.0</td>\n",
       "      <td>0.0</td>\n",
       "      <td>0.0</td>\n",
       "      <td>0.0</td>\n",
       "      <td>1.0</td>\n",
       "      <td>0.0</td>\n",
       "      <td>1.0</td>\n",
       "      <td>0.0</td>\n",
       "    </tr>\n",
       "  </tbody>\n",
       "</table>\n",
       "<p>5 rows × 27 columns</p>\n",
       "</div>"
      ],
      "text/plain": [
       "   loan_amnt  term  installment  emp_length home_ownership  \\\n",
       "0       5675    36       189.56         2.0           RENT   \n",
       "1       7000    36       242.63         1.0           RENT   \n",
       "2       3500    36       116.24        10.0       MORTGAGE   \n",
       "3      10000    36       316.47        10.0       MORTGAGE   \n",
       "4       1500    36        46.31         2.0            OWN   \n",
       "\n",
       "  verification_status    dti  earliest_cr_line  open_acc  pub_rec  ...  \\\n",
       "0     Source Verified  15.55              1992         7        0  ...   \n",
       "1     Source Verified   6.78              2002         3        0  ...   \n",
       "2        Not Verified  10.65              1997        16        0  ...   \n",
       "3        Not Verified  21.74              1996         7        0  ...   \n",
       "4        Not Verified  12.17              1997         8        0  ...   \n",
       "\n",
       "   log_revol_bal  charged_off verification_status_0  verification_status_1  \\\n",
       "0       3.464936            0                   0.0                    1.0   \n",
       "1       3.431364            0                   0.0                    1.0   \n",
       "2       3.765520            0                   1.0                    0.0   \n",
       "3       3.424555            0                   1.0                    0.0   \n",
       "4       4.448211            0                   1.0                    0.0   \n",
       "\n",
       "   verification_status_2  home_ownership_0  home_ownership_1  \\\n",
       "0                    0.0               0.0               0.0   \n",
       "1                    0.0               0.0               0.0   \n",
       "2                    0.0               1.0               0.0   \n",
       "3                    0.0               1.0               0.0   \n",
       "4                    0.0               0.0               1.0   \n",
       "\n",
       "   home_ownership_2  application_type_0  application_type_1  \n",
       "0               1.0                 1.0                 0.0  \n",
       "1               1.0                 1.0                 0.0  \n",
       "2               0.0                 1.0                 0.0  \n",
       "3               0.0                 1.0                 0.0  \n",
       "4               0.0                 1.0                 0.0  \n",
       "\n",
       "[5 rows x 27 columns]"
      ]
     },
     "execution_count": 74,
     "metadata": {},
     "output_type": "execute_result"
    }
   ],
   "source": [
    "enc = OneHotEncoder ()\n",
    "enc_df = pd.DataFrame(enc.fit_transform(df[['application_type']]).toarray())\n",
    "\n",
    "#application_type\n",
    "enc_df.columns = ['application_type_0', 'application_type_1']\n",
    "enc_df.head()\n",
    "\n",
    "df = df.join(enc_df)\n",
    "df.head()"
   ]
  },
  {
   "cell_type": "code",
   "execution_count": 75,
   "metadata": {},
   "outputs": [],
   "source": [
    "# Drop the original categorical columns\n",
    "categorical_columns = list(df.describe(include=['O']).columns) \n",
    "df.drop(categorical_columns, axis=1, inplace=True)"
   ]
  },
  {
   "cell_type": "code",
   "execution_count": 76,
   "metadata": {},
   "outputs": [],
   "source": [
    "# Reset Index of dataFrame\n",
    "df.reset_index(drop=True, inplace=True)"
   ]
  },
  {
   "cell_type": "code",
   "execution_count": 77,
   "metadata": {},
   "outputs": [
    {
     "data": {
      "text/html": [
       "<div>\n",
       "<style scoped>\n",
       "    .dataframe tbody tr th:only-of-type {\n",
       "        vertical-align: middle;\n",
       "    }\n",
       "\n",
       "    .dataframe tbody tr th {\n",
       "        vertical-align: top;\n",
       "    }\n",
       "\n",
       "    .dataframe thead th {\n",
       "        text-align: right;\n",
       "    }\n",
       "</style>\n",
       "<table border=\"1\" class=\"dataframe\">\n",
       "  <thead>\n",
       "    <tr style=\"text-align: right;\">\n",
       "      <th></th>\n",
       "      <th>loan_amnt</th>\n",
       "      <th>term</th>\n",
       "      <th>installment</th>\n",
       "      <th>emp_length</th>\n",
       "      <th>dti</th>\n",
       "      <th>earliest_cr_line</th>\n",
       "      <th>open_acc</th>\n",
       "      <th>pub_rec</th>\n",
       "      <th>revol_util</th>\n",
       "      <th>total_acc</th>\n",
       "      <th>...</th>\n",
       "      <th>log_revol_bal</th>\n",
       "      <th>charged_off</th>\n",
       "      <th>verification_status_0</th>\n",
       "      <th>verification_status_1</th>\n",
       "      <th>verification_status_2</th>\n",
       "      <th>home_ownership_0</th>\n",
       "      <th>home_ownership_1</th>\n",
       "      <th>home_ownership_2</th>\n",
       "      <th>application_type_0</th>\n",
       "      <th>application_type_1</th>\n",
       "    </tr>\n",
       "  </thead>\n",
       "  <tbody>\n",
       "    <tr>\n",
       "      <th>0</th>\n",
       "      <td>5675</td>\n",
       "      <td>36</td>\n",
       "      <td>189.56</td>\n",
       "      <td>2.0</td>\n",
       "      <td>15.55</td>\n",
       "      <td>1992</td>\n",
       "      <td>7</td>\n",
       "      <td>0</td>\n",
       "      <td>15.0</td>\n",
       "      <td>15</td>\n",
       "      <td>...</td>\n",
       "      <td>3.464936</td>\n",
       "      <td>0</td>\n",
       "      <td>0.0</td>\n",
       "      <td>1.0</td>\n",
       "      <td>0.0</td>\n",
       "      <td>0.0</td>\n",
       "      <td>0.0</td>\n",
       "      <td>1.0</td>\n",
       "      <td>1.0</td>\n",
       "      <td>0.0</td>\n",
       "    </tr>\n",
       "    <tr>\n",
       "      <th>1</th>\n",
       "      <td>7000</td>\n",
       "      <td>36</td>\n",
       "      <td>242.63</td>\n",
       "      <td>1.0</td>\n",
       "      <td>6.78</td>\n",
       "      <td>2002</td>\n",
       "      <td>3</td>\n",
       "      <td>0</td>\n",
       "      <td>69.2</td>\n",
       "      <td>5</td>\n",
       "      <td>...</td>\n",
       "      <td>3.431364</td>\n",
       "      <td>0</td>\n",
       "      <td>0.0</td>\n",
       "      <td>1.0</td>\n",
       "      <td>0.0</td>\n",
       "      <td>0.0</td>\n",
       "      <td>0.0</td>\n",
       "      <td>1.0</td>\n",
       "      <td>1.0</td>\n",
       "      <td>0.0</td>\n",
       "    </tr>\n",
       "    <tr>\n",
       "      <th>2</th>\n",
       "      <td>3500</td>\n",
       "      <td>36</td>\n",
       "      <td>116.24</td>\n",
       "      <td>10.0</td>\n",
       "      <td>10.65</td>\n",
       "      <td>1997</td>\n",
       "      <td>16</td>\n",
       "      <td>0</td>\n",
       "      <td>12.6</td>\n",
       "      <td>35</td>\n",
       "      <td>...</td>\n",
       "      <td>3.765520</td>\n",
       "      <td>0</td>\n",
       "      <td>1.0</td>\n",
       "      <td>0.0</td>\n",
       "      <td>0.0</td>\n",
       "      <td>1.0</td>\n",
       "      <td>0.0</td>\n",
       "      <td>0.0</td>\n",
       "      <td>1.0</td>\n",
       "      <td>0.0</td>\n",
       "    </tr>\n",
       "    <tr>\n",
       "      <th>3</th>\n",
       "      <td>10000</td>\n",
       "      <td>36</td>\n",
       "      <td>316.47</td>\n",
       "      <td>10.0</td>\n",
       "      <td>21.74</td>\n",
       "      <td>1996</td>\n",
       "      <td>7</td>\n",
       "      <td>0</td>\n",
       "      <td>23.7</td>\n",
       "      <td>22</td>\n",
       "      <td>...</td>\n",
       "      <td>3.424555</td>\n",
       "      <td>0</td>\n",
       "      <td>1.0</td>\n",
       "      <td>0.0</td>\n",
       "      <td>0.0</td>\n",
       "      <td>1.0</td>\n",
       "      <td>0.0</td>\n",
       "      <td>0.0</td>\n",
       "      <td>1.0</td>\n",
       "      <td>0.0</td>\n",
       "    </tr>\n",
       "    <tr>\n",
       "      <th>4</th>\n",
       "      <td>1500</td>\n",
       "      <td>36</td>\n",
       "      <td>46.31</td>\n",
       "      <td>2.0</td>\n",
       "      <td>12.17</td>\n",
       "      <td>1997</td>\n",
       "      <td>8</td>\n",
       "      <td>0</td>\n",
       "      <td>46.5</td>\n",
       "      <td>13</td>\n",
       "      <td>...</td>\n",
       "      <td>4.448211</td>\n",
       "      <td>0</td>\n",
       "      <td>1.0</td>\n",
       "      <td>0.0</td>\n",
       "      <td>0.0</td>\n",
       "      <td>0.0</td>\n",
       "      <td>1.0</td>\n",
       "      <td>0.0</td>\n",
       "      <td>1.0</td>\n",
       "      <td>0.0</td>\n",
       "    </tr>\n",
       "  </tbody>\n",
       "</table>\n",
       "<p>5 rows × 24 columns</p>\n",
       "</div>"
      ],
      "text/plain": [
       "   loan_amnt  term  installment  emp_length    dti  earliest_cr_line  \\\n",
       "0       5675    36       189.56         2.0  15.55              1992   \n",
       "1       7000    36       242.63         1.0   6.78              2002   \n",
       "2       3500    36       116.24        10.0  10.65              1997   \n",
       "3      10000    36       316.47        10.0  21.74              1996   \n",
       "4       1500    36        46.31         2.0  12.17              1997   \n",
       "\n",
       "   open_acc  pub_rec  revol_util  total_acc  ...  log_revol_bal  charged_off  \\\n",
       "0         7        0        15.0         15  ...       3.464936            0   \n",
       "1         3        0        69.2          5  ...       3.431364            0   \n",
       "2        16        0        12.6         35  ...       3.765520            0   \n",
       "3         7        0        23.7         22  ...       3.424555            0   \n",
       "4         8        0        46.5         13  ...       4.448211            0   \n",
       "\n",
       "   verification_status_0  verification_status_1  verification_status_2  \\\n",
       "0                    0.0                    1.0                    0.0   \n",
       "1                    0.0                    1.0                    0.0   \n",
       "2                    1.0                    0.0                    0.0   \n",
       "3                    1.0                    0.0                    0.0   \n",
       "4                    1.0                    0.0                    0.0   \n",
       "\n",
       "   home_ownership_0  home_ownership_1  home_ownership_2  application_type_0  \\\n",
       "0               0.0               0.0               1.0                 1.0   \n",
       "1               0.0               0.0               1.0                 1.0   \n",
       "2               1.0               0.0               0.0                 1.0   \n",
       "3               1.0               0.0               0.0                 1.0   \n",
       "4               0.0               1.0               0.0                 1.0   \n",
       "\n",
       "   application_type_1  \n",
       "0                 0.0  \n",
       "1                 0.0  \n",
       "2                 0.0  \n",
       "3                 0.0  \n",
       "4                 0.0  \n",
       "\n",
       "[5 rows x 24 columns]"
      ]
     },
     "execution_count": 77,
     "metadata": {},
     "output_type": "execute_result"
    }
   ],
   "source": [
    "df.head()"
   ]
  },
  {
   "cell_type": "code",
   "execution_count": 78,
   "metadata": {},
   "outputs": [
    {
     "data": {
      "text/plain": [
       "(8898, 24)"
      ]
     },
     "execution_count": 78,
     "metadata": {},
     "output_type": "execute_result"
    }
   ],
   "source": [
    "df.shape"
   ]
  },
  {
   "cell_type": "markdown",
   "metadata": {},
   "source": [
    "## Duplicate Data"
   ]
  },
  {
   "cell_type": "code",
   "execution_count": 79,
   "metadata": {},
   "outputs": [
    {
     "name": "stdout",
     "output_type": "stream",
     "text": [
      "Data shape: (8898, 24)\n",
      "Data shape: (8898, 24)\n"
     ]
    }
   ],
   "source": [
    "print(f\"Data shape: {df.shape}\")\n",
    "\n",
    "# Remove duplicate Features\n",
    "df = df.T.drop_duplicates()\n",
    "df = df.T\n",
    "\n",
    "# Remove Duplicate Rows\n",
    "df.drop_duplicates(inplace=True)\n",
    "\n",
    "print(f\"Data shape: {df.shape}\")"
   ]
  },
  {
   "cell_type": "markdown",
   "metadata": {},
   "source": [
    "There is no duplicate datat points"
   ]
  },
  {
   "cell_type": "markdown",
   "metadata": {},
   "source": [
    "# Unbalanced Dataset With Random Forest"
   ]
  },
  {
   "cell_type": "markdown",
   "metadata": {},
   "source": [
    "Now we want to apply simple random forest model to see the performance of defaulting classification on unbalanced dataset."
   ]
  },
  {
   "cell_type": "code",
   "execution_count": 48,
   "metadata": {},
   "outputs": [
    {
     "name": "stdout",
     "output_type": "stream",
     "text": [
      "Non-Defaulting 0.8522139806698135\n",
      "Defaulting 0.14778601933018656\n"
     ]
    }
   ],
   "source": [
    "non_default_prop = df.charged_off.value_counts()[0] / df.shape[0]\n",
    "default_prop = df.charged_off.value_counts()[1] / df.shape[0]\n",
    "\n",
    "print(f\"Non-Defaulting {non_default_prop}\")\n",
    "print(f\"Defaulting {default_prop}\")"
   ]
  },
  {
   "cell_type": "code",
   "execution_count": 49,
   "metadata": {},
   "outputs": [
    {
     "name": "stdout",
     "output_type": "stream",
     "text": [
      "(8008, 23)\n",
      "(890, 23)\n",
      "(8008,)\n",
      "(890,)\n"
     ]
    }
   ],
   "source": [
    "X = df.drop('charged_off', axis=1)\n",
    "y = df.charged_off\n",
    "\n",
    "#Train 90% and Test 10% of dataset\n",
    "X_train, X_test, y_train, y_test = train_test_split(X, y, test_size=0.1, random_state=0, shuffle=True)\n",
    "\n",
    "print(X_train.shape)\n",
    "print(X_test.shape)\n",
    "print(y_train.shape)\n",
    "print(y_test.shape)"
   ]
  },
  {
   "cell_type": "code",
   "execution_count": 50,
   "metadata": {},
   "outputs": [],
   "source": [
    "# Normalise the data\n",
    "scaler = MinMaxScaler()\n",
    "X_train = scaler.fit_transform(X_train)\n",
    "X_test = scaler.transform(X_test)\n",
    "\n",
    "X_train = np.array(X_train).astype(np.float32)\n",
    "X_test = np.array(X_test).astype(np.float32)\n",
    "y_train = np.array(y_train).astype(np.float32)\n",
    "y_test = np.array(y_test).astype(np.float32)"
   ]
  },
  {
   "cell_type": "code",
   "execution_count": 51,
   "metadata": {},
   "outputs": [],
   "source": [
    "model = RandomForestClassifier()\n",
    "model.fit(X_train, y_train)\n",
    "\n",
    "y_train_pred = model.predict(X_train)\n",
    "y_pred = model.predict(X_test)"
   ]
  },
  {
   "cell_type": "code",
   "execution_count": 52,
   "metadata": {},
   "outputs": [],
   "source": [
    "def print_score(true, pred, train=True):\n",
    "    if train:\n",
    "        clf_report = pd.DataFrame(classification_report(true, pred, output_dict=True))\n",
    "        print(\"Train Result:\\n================================================\")\n",
    "        print(f\"Classification Report:\\n{clf_report}\")\n",
    "        print(\"_______________________________________________\")\n",
    "        print(f\"Confusion Matrix: \\n {confusion_matrix(true, pred)}\\n\")\n",
    "        print(\"_______________________________________________\")\n",
    "        print(f\"AUC: \\n {roc_auc_score(true, pred)}\\n\")\n",
    "        print(f\"Accuracy: \\n {accuracy_score(true, pred)}\\n\")\n",
    "        \n",
    "    elif train==False:\n",
    "        clf_report = pd.DataFrame(classification_report(true, pred, output_dict=True))\n",
    "        print(\"Test Result:\\n================================================\")        \n",
    "        print(f\"Classification Report:\\n{clf_report}\")\n",
    "        print(\"_______________________________________________\")\n",
    "        print(f\"Confusion Matrix: \\n {confusion_matrix(true, pred)}\\n\")\n",
    "        print(\"_______________________________________________\")\n",
    "        print(f\"AUC: \\n {roc_auc_score(true, pred)}\\n\")\n",
    "        print(f\"Accuracy: \\n {accuracy_score(true, pred)}\\n\")"
   ]
  },
  {
   "cell_type": "code",
   "execution_count": 53,
   "metadata": {},
   "outputs": [
    {
     "name": "stdout",
     "output_type": "stream",
     "text": [
      "Train Result:\n",
      "================================================\n",
      "Classification Report:\n",
      "                   0.0          1.0  accuracy    macro avg  weighted avg\n",
      "precision     0.999853     1.000000  0.999875     0.999927      0.999875\n",
      "recall        1.000000     0.999167  0.999875     0.999583      0.999875\n",
      "f1-score      0.999927     0.999583  0.999875     0.999755      0.999875\n",
      "support    6808.000000  1200.000000  0.999875  8008.000000   8008.000000\n",
      "_______________________________________________\n",
      "Confusion Matrix: \n",
      " [[6808    0]\n",
      " [   1 1199]]\n",
      "\n",
      "_______________________________________________\n",
      "AUC: \n",
      " 0.9995833333333333\n",
      "\n",
      "Accuracy: \n",
      " 0.9998751248751249\n",
      "\n",
      "Test Result:\n",
      "================================================\n",
      "Classification Report:\n",
      "                  0.0    1.0  accuracy   macro avg  weighted avg\n",
      "precision    0.870641    0.0  0.869663    0.435321      0.758143\n",
      "recall       0.998710    0.0  0.869663    0.499355      0.869663\n",
      "f1-score     0.930288    0.0  0.869663    0.465144      0.810083\n",
      "support    775.000000  115.0  0.869663  890.000000    890.000000\n",
      "_______________________________________________\n",
      "Confusion Matrix: \n",
      " [[774   1]\n",
      " [115   0]]\n",
      "\n",
      "_______________________________________________\n",
      "AUC: \n",
      " 0.4993548387096774\n",
      "\n",
      "Accuracy: \n",
      " 0.8696629213483146\n",
      "\n"
     ]
    }
   ],
   "source": [
    "print_score(y_train, y_train_pred, train=True)\n",
    "print_score(y_test, y_pred, train=False)"
   ]
  },
  {
   "cell_type": "markdown",
   "metadata": {},
   "source": [
    "# Balanced Dataset"
   ]
  },
  {
   "cell_type": "markdown",
   "metadata": {},
   "source": [
    "The above result shows that the model underperform on unbalanced dataset as expected. So we need to balance training dataset before feeding to classification model. There are various technique can be used. One is the oversampling techniques, using Boyle's code (2019). URL: https://towardsdatascience.com/methods-for-dealing-with-imbalanced-data-5b761be45a18 . There are other techniques such as unsampling and generating synthetic samples but they don't give better  performance than oversampling technique."
   ]
  },
  {
   "cell_type": "code",
   "execution_count": 126,
   "metadata": {},
   "outputs": [],
   "source": [
    "X = df.drop('charged_off', axis=1)\n",
    "y = df.charged_off\n",
    "\n",
    "X_train, X_test, y_train, y_test = train_test_split(X, y, test_size=0.1, random_state=0, shuffle=True)"
   ]
  },
  {
   "cell_type": "code",
   "execution_count": 127,
   "metadata": {},
   "outputs": [
    {
     "data": {
      "text/plain": [
       "0.0    6808\n",
       "1.0    1200\n",
       "Name: charged_off, dtype: int64"
      ]
     },
     "execution_count": 127,
     "metadata": {},
     "output_type": "execute_result"
    }
   ],
   "source": [
    "y_train.value_counts()"
   ]
  },
  {
   "cell_type": "code",
   "execution_count": 128,
   "metadata": {},
   "outputs": [],
   "source": [
    "# from imblearn.over_sampling import SMOTE\n",
    "\n",
    "# sm = SMOTE(random_state=0, sampling_strategy=1.0)\n",
    "# X_train, y_train = sm.fit_sample(X_train, y_train)\n",
    "# y_train.value_counts()"
   ]
  },
  {
   "cell_type": "code",
   "execution_count": 129,
   "metadata": {},
   "outputs": [
    {
     "name": "stdout",
     "output_type": "stream",
     "text": [
      "1.0    6808\n",
      "0.0    6808\n",
      "Name: charged_off, dtype: int64\n"
     ]
    }
   ],
   "source": [
    "# Combine training dataset with target variable 'charged_off' from y_train\n",
    "train = pd.concat([X_train, y_train], axis=1)\n",
    "\n",
    "non_default = train[train.charged_off==0]\n",
    "default = train[train.charged_off==1]\n",
    "\n",
    "# upsample minority to match the number of majority class (non_default)\n",
    "default_upsampled = resample(default,\n",
    "                          replace=True, \n",
    "                          n_samples=len(non_default),\n",
    "                          random_state=0) \n",
    "\n",
    "# combine non_default and upsampled default\n",
    "upsampled = pd.concat([non_default, default_upsampled])\n",
    "\n",
    "print(upsampled.charged_off.value_counts())\n",
    "\n",
    "# separate to X and y of training dataset\n",
    "X_train = upsampled.drop('charged_off', axis=1)\n",
    "y_train = upsampled.charged_off"
   ]
  },
  {
   "cell_type": "code",
   "execution_count": 130,
   "metadata": {},
   "outputs": [],
   "source": [
    "# Normalise data\n",
    "scaler = MinMaxScaler()\n",
    "X_train = scaler.fit_transform(X_train)\n",
    "X_test = scaler.transform(X_test)\n",
    "\n",
    "X_train = np.array(X_train).astype(np.float32)\n",
    "X_test = np.array(X_test).astype(np.float32)\n",
    "y_train = np.array(y_train).astype(np.float32)\n",
    "y_test = np.array(y_test).astype(np.float32)"
   ]
  },
  {
   "cell_type": "code",
   "execution_count": 57,
   "metadata": {},
   "outputs": [
    {
     "name": "stdout",
     "output_type": "stream",
     "text": [
      "Train Result:\n",
      "================================================\n",
      "Classification Report:\n",
      "              0.0     1.0  accuracy  macro avg  weighted avg\n",
      "precision     1.0     1.0       1.0        1.0           1.0\n",
      "recall        1.0     1.0       1.0        1.0           1.0\n",
      "f1-score      1.0     1.0       1.0        1.0           1.0\n",
      "support    6808.0  6808.0       1.0    13616.0       13616.0\n",
      "_______________________________________________\n",
      "Confusion Matrix: \n",
      " [[6808    0]\n",
      " [   0 6808]]\n",
      "\n",
      "_______________________________________________\n",
      "AUC: \n",
      " 1.0\n",
      "\n",
      "Accuracy: \n",
      " 1.0\n",
      "\n",
      "Test Result:\n",
      "================================================\n",
      "Classification Report:\n",
      "                  0.0         1.0  accuracy   macro avg  weighted avg\n",
      "precision    0.881200    0.521739   0.87191    0.701469      0.834752\n",
      "recall       0.985806    0.104348   0.87191    0.545077      0.871910\n",
      "f1-score     0.930572    0.173913   0.87191    0.552243      0.832802\n",
      "support    775.000000  115.000000   0.87191  890.000000    890.000000\n",
      "_______________________________________________\n",
      "Confusion Matrix: \n",
      " [[764  11]\n",
      " [103  12]]\n",
      "\n",
      "_______________________________________________\n",
      "AUC: \n",
      " 0.5450771388499299\n",
      "\n",
      "Accuracy: \n",
      " 0.8719101123595505\n",
      "\n"
     ]
    }
   ],
   "source": [
    "## Without grid search\n",
    "model = RandomForestClassifier()\n",
    "model.fit(X_train, y_train)\n",
    "\n",
    "y_train_pred = model.predict(X_train)\n",
    "y_pred = model.predict(X_test)\n",
    "\n",
    "print_score(y_train, y_train_pred, train=True)\n",
    "print_score(y_test, y_pred, train=False)"
   ]
  },
  {
   "cell_type": "markdown",
   "metadata": {},
   "source": [
    "# Logistic Regression"
   ]
  },
  {
   "cell_type": "code",
   "execution_count": 58,
   "metadata": {},
   "outputs": [
    {
     "name": "stdout",
     "output_type": "stream",
     "text": [
      "Best Score: 0.6713522481494363\n",
      "Best Hyperparameters: {'C': 2.494810169511268, 'penalty': 'l1', 'solver': 'liblinear'}\n"
     ]
    }
   ],
   "source": [
    "model = LogisticRegression()\n",
    "\n",
    "# define evaluation\n",
    "cv = RepeatedStratifiedKFold(n_splits=10, n_repeats=3, random_state=1)\n",
    "# define search space\n",
    "space = dict()\n",
    "space['solver'] = ['newton-cg', 'lbfgs', 'liblinear']\n",
    "space['penalty'] = ['none', 'l1', 'l2', 'elasticnet']\n",
    "space['C'] = loguniform(1e-5, 100)\n",
    "\n",
    "search = RandomizedSearchCV(model, space, n_iter=1000, scoring='f1', n_jobs=-1, cv=cv, random_state=1)\n",
    "result = search.fit(X_train, y_train)\n",
    "\n",
    "# summarize result\n",
    "print('Best Score: %s' % result.best_score_)\n",
    "print('Best Hyperparameters: %s' % result.best_params_)"
   ]
  },
  {
   "cell_type": "code",
   "execution_count": 59,
   "metadata": {},
   "outputs": [],
   "source": [
    "best_estimator = result.best_estimator_\n",
    "best_C = result.best_params_['C']\n",
    "best_penalty = result.best_params_['penalty']\n",
    "best_solver = result.best_params_['solver']"
   ]
  },
  {
   "cell_type": "code",
   "execution_count": 60,
   "metadata": {},
   "outputs": [],
   "source": [
    "logreg = LogisticRegression(C = best_C, penalty = best_penalty, solver = best_solver)\n",
    "logreg.fit(X_train, y_train)\n",
    "\n",
    "y_train_pred = logreg.predict(X_train)\n",
    "y_pred = logreg.predict(X_test)"
   ]
  },
  {
   "cell_type": "code",
   "execution_count": 61,
   "metadata": {},
   "outputs": [
    {
     "name": "stdout",
     "output_type": "stream",
     "text": [
      "Train Result:\n",
      "================================================\n",
      "Classification Report:\n",
      "                   0.0          1.0  accuracy     macro avg  weighted avg\n",
      "precision     0.673295     0.660073  0.666422      0.666684      0.666684\n",
      "recall        0.646592     0.686251  0.666422      0.666422      0.666422\n",
      "f1-score      0.659673     0.672908  0.666422      0.666291      0.666291\n",
      "support    6808.000000  6808.000000  0.666422  13616.000000  13616.000000\n",
      "_______________________________________________\n",
      "Confusion Matrix: \n",
      " [[4402 2406]\n",
      " [2136 4672]]\n",
      "\n",
      "_______________________________________________\n",
      "AUC: \n",
      " 0.6664218566392479\n",
      "\n",
      "Accuracy: \n",
      " 0.6664218566392479\n",
      "\n",
      "Test Result:\n",
      "================================================\n",
      "Classification Report:\n",
      "                  0.0         1.0  accuracy   macro avg  weighted avg\n",
      "precision    0.930712    0.219101  0.646067    0.574906      0.838762\n",
      "recall       0.641290    0.678261  0.646067    0.659776      0.646067\n",
      "f1-score     0.759358    0.331210  0.646067    0.545284      0.704036\n",
      "support    775.000000  115.000000  0.646067  890.000000    890.000000\n",
      "_______________________________________________\n",
      "Confusion Matrix: \n",
      " [[497 278]\n",
      " [ 37  78]]\n",
      "\n",
      "_______________________________________________\n",
      "AUC: \n",
      " 0.6597755960729312\n",
      "\n",
      "Accuracy: \n",
      " 0.6460674157303371\n",
      "\n"
     ]
    }
   ],
   "source": [
    "print_score(y_train, y_train_pred, train=True)\n",
    "print_score(y_test, y_pred, train=False)"
   ]
  },
  {
   "cell_type": "code",
   "execution_count": 62,
   "metadata": {},
   "outputs": [
    {
     "name": "stdout",
     "output_type": "stream",
     "text": [
      "Train Result:\n",
      "================================================\n",
      "Classification Report:\n",
      "                   0.0          1.0  accuracy     macro avg  weighted avg\n",
      "precision     0.673295     0.660073  0.666422      0.666684      0.666684\n",
      "recall        0.646592     0.686251  0.666422      0.666422      0.666422\n",
      "f1-score      0.659673     0.672908  0.666422      0.666291      0.666291\n",
      "support    6808.000000  6808.000000  0.666422  13616.000000  13616.000000\n",
      "_______________________________________________\n",
      "Confusion Matrix: \n",
      " [[4402 2406]\n",
      " [2136 4672]]\n",
      "\n",
      "_______________________________________________\n",
      "AUC: \n",
      " 0.6664218566392479\n",
      "\n",
      "Accuracy: \n",
      " 0.6664218566392479\n",
      "\n",
      "Test Result:\n",
      "================================================\n",
      "Classification Report:\n",
      "                  0.0         1.0  accuracy   macro avg  weighted avg\n",
      "precision    0.939732    0.199095   0.57191    0.569414      0.844032\n",
      "recall       0.543226    0.765217   0.57191    0.654222      0.571910\n",
      "f1-score     0.688471    0.315978   0.57191    0.502225      0.640340\n",
      "support    775.000000  115.000000   0.57191  890.000000    890.000000\n",
      "_______________________________________________\n",
      "Confusion Matrix: \n",
      " [[421 354]\n",
      " [ 27  88]]\n",
      "\n",
      "_______________________________________________\n",
      "AUC: \n",
      " 0.6542215988779804\n",
      "\n",
      "Accuracy: \n",
      " 0.5719101123595506\n",
      "\n"
     ]
    }
   ],
   "source": [
    "# change of threshold from 0.5 to another threshold\n",
    "threshold = 0.45\n",
    "\n",
    "logreg = LogisticRegression(C = best_C, penalty = best_penalty, solver = best_solver)\n",
    "logreg.fit(X_train, y_train)\n",
    "predicted_proba = logreg.predict_proba(X_test)\n",
    "predicted = (predicted_proba [:,1] >= threshold).astype('int')\n",
    "\n",
    "print_score(y_train, y_train_pred, train=True)\n",
    "print_score(y_test, predicted, train=False)"
   ]
  },
  {
   "cell_type": "markdown",
   "metadata": {},
   "source": [
    "# Decision Tree"
   ]
  },
  {
   "cell_type": "code",
   "execution_count": 63,
   "metadata": {},
   "outputs": [
    {
     "name": "stderr",
     "output_type": "stream",
     "text": [
      "/home/null/anaconda3/lib/python3.8/site-packages/sklearn/model_selection/_search.py:278: UserWarning: The total space of parameters 648 is smaller than n_iter=1000. Running 648 iterations. For exhaustive searches, use GridSearchCV.\n",
      "  warnings.warn(\n"
     ]
    },
    {
     "name": "stdout",
     "output_type": "stream",
     "text": [
      "Best Score: 0.7522727567965203\n",
      "Best Hyperparameters: {'min_samples_split': 3, 'min_samples_leaf': 1, 'max_depth': 9, 'criterion': 'gini'}\n"
     ]
    }
   ],
   "source": [
    "model = DecisionTreeClassifier()\n",
    "\n",
    "cv = RepeatedStratifiedKFold(n_splits=10, n_repeats=3, random_state=1)\n",
    "space = dict({\n",
    "    \"criterion\": ['gini', 'entropy'],\n",
    "    \"max_depth\": range(1, 10),\n",
    "    \"min_samples_split\": range(1, 10),\n",
    "    \"min_samples_leaf\": range(1, 5)\n",
    "})\n",
    "\n",
    "search = RandomizedSearchCV(model, space, n_iter=1000, scoring='f1', n_jobs=-1, cv=cv, random_state=1)\n",
    "result = search.fit(X_train, y_train)\n",
    "\n",
    "print('Best Score: %s' % result.best_score_)\n",
    "print('Best Hyperparameters: %s' % result.best_params_)"
   ]
  },
  {
   "cell_type": "code",
   "execution_count": 64,
   "metadata": {},
   "outputs": [],
   "source": [
    "best_estimator = result.best_estimator_\n",
    "best_min_samples_split = result.best_params_['min_samples_split']\n",
    "best_min_samples_leaf = result.best_params_['min_samples_leaf']\n",
    "best_max_depth = result.best_params_['max_depth']\n",
    "best_criterion = result.best_params_['criterion']"
   ]
  },
  {
   "cell_type": "code",
   "execution_count": 65,
   "metadata": {},
   "outputs": [],
   "source": [
    "decision_tree = DecisionTreeClassifier(criterion=best_criterion, max_depth = best_max_depth, min_samples_leaf= best_min_samples_leaf, min_samples_split= best_min_samples_split)\n",
    "decision_tree.fit(X_train, y_train)\n",
    "\n",
    "y_train_pred = decision_tree.predict(X_train)\n",
    "y_pred = decision_tree.predict(X_test)"
   ]
  },
  {
   "cell_type": "code",
   "execution_count": 66,
   "metadata": {},
   "outputs": [
    {
     "name": "stdout",
     "output_type": "stream",
     "text": [
      "Train Result:\n",
      "================================================\n",
      "Classification Report:\n",
      "                   0.0          1.0  accuracy     macro avg  weighted avg\n",
      "precision     0.800551     0.749194  0.772474      0.774872      0.774872\n",
      "recall        0.725764     0.819183  0.772474      0.772474      0.772474\n",
      "f1-score      0.761325     0.782627  0.772474      0.771976      0.771976\n",
      "support    6808.000000  6808.000000  0.772474  13616.000000  13616.000000\n",
      "_______________________________________________\n",
      "Confusion Matrix: \n",
      " [[4941 1867]\n",
      " [1231 5577]]\n",
      "\n",
      "_______________________________________________\n",
      "AUC: \n",
      " 0.7724735605170387\n",
      "\n",
      "Accuracy: \n",
      " 0.7724735605170387\n",
      "\n",
      "Test Result:\n",
      "================================================\n",
      "Classification Report:\n",
      "                  0.0         1.0  accuracy   macro avg  weighted avg\n",
      "precision    0.911032    0.198171  0.648315    0.554601      0.818921\n",
      "recall       0.660645    0.565217  0.648315    0.612931      0.648315\n",
      "f1-score     0.765894    0.293454  0.648315    0.529674      0.704848\n",
      "support    775.000000  115.000000  0.648315  890.000000    890.000000\n",
      "_______________________________________________\n",
      "Confusion Matrix: \n",
      " [[512 263]\n",
      " [ 50  65]]\n",
      "\n",
      "_______________________________________________\n",
      "AUC: \n",
      " 0.6129312762973351\n",
      "\n",
      "Accuracy: \n",
      " 0.648314606741573\n",
      "\n"
     ]
    }
   ],
   "source": [
    "print_score(y_train, y_train_pred, train=True)\n",
    "print_score(y_test, y_pred, train=False)"
   ]
  },
  {
   "cell_type": "markdown",
   "metadata": {},
   "source": [
    "# Random Forest"
   ]
  },
  {
   "cell_type": "code",
   "execution_count": 67,
   "metadata": {},
   "outputs": [
    {
     "name": "stdout",
     "output_type": "stream",
     "text": [
      "Best Score: 0.8082261975968469\n",
      "Best Hyperparameters: {'max_depth': 8, 'max_features': 0.5, 'n_estimators': 1000}\n"
     ]
    }
   ],
   "source": [
    "model = RandomForestClassifier()\n",
    "\n",
    "n_estimators = [100, 500, 1000]\n",
    "max_depth = [3, 5, 8]\n",
    "max_features = [\"sqrt\", 0.5]\n",
    "space = dict(\n",
    "    n_estimators = n_estimators,\n",
    "    max_depth = max_depth,  \n",
    "    max_features = max_features\n",
    ")\n",
    "\n",
    "cv = RepeatedStratifiedKFold(n_splits=10, n_repeats=3, random_state=1)\n",
    "search = GridSearchCV(model, space, scoring='f1', n_jobs=-1, cv=cv)\n",
    "result = search.fit(X_train, y_train)\n",
    "\n",
    "print('Best Score: %s' % result.best_score_)\n",
    "print('Best Hyperparameters: %s' % result.best_params_)"
   ]
  },
  {
   "cell_type": "code",
   "execution_count": 68,
   "metadata": {},
   "outputs": [],
   "source": [
    "best_estimator = result.best_estimator_\n",
    "best_n_estimators = result.best_params_['n_estimators']\n",
    "best_max_depth = result.best_params_['max_depth']\n",
    "best_max_features = result.best_params_['max_features']"
   ]
  },
  {
   "cell_type": "code",
   "execution_count": 69,
   "metadata": {},
   "outputs": [],
   "source": [
    "random_forest = RandomForestClassifier(\n",
    "    n_estimators = best_n_estimators,\n",
    "    class_weight='balanced_subsample',\n",
    "    max_depth = best_max_depth,\n",
    "    max_features = best_max_features\n",
    ")\n",
    "random_forest.fit(X_train, y_train)\n",
    "\n",
    "y_train_pred = random_forest.predict(X_train)\n",
    "y_pred = random_forest.predict(X_test)"
   ]
  },
  {
   "cell_type": "code",
   "execution_count": 70,
   "metadata": {},
   "outputs": [
    {
     "name": "stdout",
     "output_type": "stream",
     "text": [
      "Train Result:\n",
      "================================================\n",
      "Classification Report:\n",
      "                   0.0          1.0  accuracy     macro avg  weighted avg\n",
      "precision     0.873106     0.806339  0.836442      0.839723      0.839723\n",
      "recall        0.787309     0.885576  0.836442      0.836442      0.836442\n",
      "f1-score      0.827991     0.844102  0.836442      0.836047      0.836047\n",
      "support    6808.000000  6808.000000  0.836442  13616.000000  13616.000000\n",
      "_______________________________________________\n",
      "Confusion Matrix: \n",
      " [[5360 1448]\n",
      " [ 779 6029]]\n",
      "\n",
      "_______________________________________________\n",
      "AUC: \n",
      " 0.8364424206815512\n",
      "\n",
      "Accuracy: \n",
      " 0.8364424206815512\n",
      "\n",
      "Test Result:\n",
      "================================================\n",
      "Classification Report:\n",
      "                  0.0         1.0  accuracy   macro avg  weighted avg\n",
      "precision    0.914100    0.227106  0.703371    0.570603      0.825332\n",
      "recall       0.727742    0.539130  0.703371    0.633436      0.703371\n",
      "f1-score     0.810345    0.319588  0.703371    0.564966      0.746932\n",
      "support    775.000000  115.000000  0.703371  890.000000    890.000000\n",
      "_______________________________________________\n",
      "Confusion Matrix: \n",
      " [[564 211]\n",
      " [ 53  62]]\n",
      "\n",
      "_______________________________________________\n",
      "AUC: \n",
      " 0.63343618513324\n",
      "\n",
      "Accuracy: \n",
      " 0.7033707865168539\n",
      "\n"
     ]
    }
   ],
   "source": [
    "print_score(y_train, y_train_pred, train=True)\n",
    "print_score(y_test, y_pred, train=False)"
   ]
  },
  {
   "cell_type": "markdown",
   "metadata": {},
   "source": [
    "# SVM"
   ]
  },
  {
   "cell_type": "code",
   "execution_count": 71,
   "metadata": {},
   "outputs": [
    {
     "name": "stdout",
     "output_type": "stream",
     "text": [
      "Best Score: 0.7365965898935435\n",
      "Best Hyperparameters: {'C': 50, 'gamma': 'scale', 'kernel': 'rbf'}\n"
     ]
    }
   ],
   "source": [
    "model = svm.SVC()\n",
    "\n",
    "kernel = ['poly', 'rbf', 'sigmoid']\n",
    "C = [50, 10, 1.0, 0.1, 0.01]\n",
    "gamma = ['scale']\n",
    "space = dict(kernel=kernel,C=C,gamma=gamma)\n",
    "\n",
    "cv = RepeatedStratifiedKFold(n_splits=10, n_repeats=3, random_state=1)\n",
    "\n",
    "search = GridSearchCV(model, space, scoring='f1', n_jobs=-1, cv=cv)\n",
    "result = search.fit(X_train, y_train)\n",
    "\n",
    "print('Best Score: %s' % result.best_score_)\n",
    "print('Best Hyperparameters: %s' % result.best_params_)"
   ]
  },
  {
   "cell_type": "code",
   "execution_count": 72,
   "metadata": {},
   "outputs": [],
   "source": [
    "best_estimator = result.best_estimator_\n",
    "best_C = result.best_params_['C']\n",
    "best_gamma = result.best_params_['gamma']\n",
    "best_kernel = result.best_params_['kernel']"
   ]
  },
  {
   "cell_type": "code",
   "execution_count": 102,
   "metadata": {},
   "outputs": [],
   "source": [
    "clf = svm.SVC(C = best_C, gamma = best_gamma, kernel = best_kernel, probability=True)\n",
    "clf.fit(X_train, y_train)\n",
    "\n",
    "y_train_pred = clf.predict(X_train)\n",
    "y_pred = clf.predict(X_test)"
   ]
  },
  {
   "cell_type": "code",
   "execution_count": 103,
   "metadata": {},
   "outputs": [
    {
     "name": "stdout",
     "output_type": "stream",
     "text": [
      "Train Result:\n",
      "================================================\n",
      "Classification Report:\n",
      "                   0.0          1.0  accuracy     macro avg  weighted avg\n",
      "precision     0.780124     0.741151   0.75918      0.760637      0.760637\n",
      "recall        0.721798     0.796563   0.75918      0.759180      0.759180\n",
      "f1-score      0.749828     0.767858   0.75918      0.758843      0.758843\n",
      "support    6808.000000  6808.000000   0.75918  13616.000000  13616.000000\n",
      "_______________________________________________\n",
      "Confusion Matrix: \n",
      " [[4914 1894]\n",
      " [1385 5423]]\n",
      "\n",
      "_______________________________________________\n",
      "AUC: \n",
      " 0.7591803760282021\n",
      "\n",
      "Accuracy: \n",
      " 0.7591803760282021\n",
      "\n",
      "Test Result:\n",
      "================================================\n",
      "Classification Report:\n",
      "                  0.0         1.0  accuracy   macro avg  weighted avg\n",
      "precision    0.927119    0.240000  0.695506    0.583559      0.838334\n",
      "recall       0.705806    0.626087  0.695506    0.665947      0.695506\n",
      "f1-score     0.801465    0.346988  0.695506    0.574227      0.742741\n",
      "support    775.000000  115.000000  0.695506  890.000000    890.000000\n",
      "_______________________________________________\n",
      "Confusion Matrix: \n",
      " [[547 228]\n",
      " [ 43  72]]\n",
      "\n",
      "_______________________________________________\n",
      "AUC: \n",
      " 0.6659467040673211\n",
      "\n",
      "Accuracy: \n",
      " 0.6955056179775281\n",
      "\n"
     ]
    }
   ],
   "source": [
    "print_score(y_train, y_train_pred, train=True)\n",
    "print_score(y_test, y_pred, train=False)"
   ]
  },
  {
   "cell_type": "code",
   "execution_count": null,
   "metadata": {},
   "outputs": [],
   "source": [
    "# def plot_auc_roc(y_test, y_pred):\n",
    "#     roc_auc = roc_auc_score(y_test, y_pred)\n",
    "#     fpr, tpr, thresholds = roc_curve(y_test, clf.predict_proba(X_test)[:,1])\n",
    "#     plt.figure()\n",
    "#     plt.plot(fpr, tpr, label='SVM(area = %0.2f)' % roc_auc)\n",
    "#     plt.plot([0, 1], [0, 1],'r--')\n",
    "#     plt.xlim([0.0, 1.0])\n",
    "#     plt.ylim([0.0, 1.05])\n",
    "#     plt.xlabel('False Positive Rate')\n",
    "#     plt.ylabel('True Positive Rate')\n",
    "#     plt.title('Receiver operating characteristic')\n",
    "#     plt.legend(loc=\"lower right\")\n",
    "#     plt.savefig('Log_ROC')\n",
    "#     plt.show()\n",
    "\n",
    "# plot_auc_roc(y_test, y_pred)"
   ]
  },
  {
   "cell_type": "code",
   "execution_count": 112,
   "metadata": {},
   "outputs": [
    {
     "data": {
      "text/plain": [
       "<Figure size 1440x720 with 0 Axes>"
      ]
     },
     "metadata": {},
     "output_type": "display_data"
    },
    {
     "data": {
      "image/png": "[encoded data removed]",
      "text/plain": [
       "<Figure size 432x288 with 1 Axes>"
      ]
     },
     "metadata": {
      "needs_background": "light"
     },
     "output_type": "display_data"
    }
   ],
   "source": [
    "# Plot AUC of all models - SVM, Logistics Regression, \n",
    "plt.figure(figsize=(20, 10))\n",
    "\n",
    "# SVM\n",
    "# {'C': 50, 'gamma': 'scale', 'kernel': 'rbf'}\n",
    "model = svm.SVC(C = 50, gamma = 'scale', kernel = 'rbf', probability=True)\n",
    "model.fit(X_train, y_train)\n",
    "y_pred = model.predict(X_test)\n",
    "\n",
    "roc_auc = roc_auc_score(y_test, y_pred)\n",
    "fpr, tpr, thresholds = roc_curve(y_test, model.predict_proba(X_test)[:,1])\n",
    "plt.figure()\n",
    "plt.plot(fpr, tpr, label='SVM(area = %0.2f)' % roc_auc, color='b')\n",
    "\n",
    "\n",
    "# Logistics Regression\n",
    "# {'C': 2.494810169511268, 'penalty': 'l1', 'solver': 'liblinear'}\n",
    "logreg = LogisticRegression(C = 2.494810169511268, penalty = 'l1', solver = 'liblinear')\n",
    "logreg.fit(X_train, y_train)\n",
    "y_pred = logreg.predict(X_test)\n",
    "\n",
    "roc_auc = roc_auc_score(y_test, y_pred)\n",
    "fpr, tpr, thresholds = roc_curve(y_test, logreg.predict_proba(X_test)[:,1])\n",
    "plt.plot(fpr, tpr, label='LR(area = %0.2f)' % roc_auc, color='y')\n",
    "\n",
    "\n",
    "# Random Forest\n",
    "# {'max_depth': 8, 'max_features': 0.5, 'n_estimators': 1000}\n",
    "random_forest = RandomForestClassifier(\n",
    "    n_estimators = 1000,\n",
    "    class_weight='balanced_subsample',\n",
    "    max_depth = 8,\n",
    "    max_features = 0.5\n",
    ")\n",
    "random_forest.fit(X_train, y_train)\n",
    "y_pred = random_forest.predict(X_test)\n",
    "\n",
    "roc_auc = roc_auc_score(y_test, y_pred)\n",
    "fpr, tpr, thresholds = roc_curve(y_test, random_forest.predict_proba(X_test)[:,1])\n",
    "plt.plot(fpr, tpr, label='Random Forest(area = %0.2f)' % roc_auc, color='g')\n",
    "\n",
    "\n",
    "# Decision Tree\n",
    "# {'min_samples_split': 3, 'min_samples_leaf': 1, 'max_depth': 9, 'criterion': 'gini'}\n",
    "decision_tree = DecisionTreeClassifier(criterion='gini', max_depth = 9, min_samples_leaf= 1, min_samples_split= 3)\n",
    "decision_tree.fit(X_train, y_train)\n",
    "y_pred = decision_tree.predict(X_test)\n",
    "\n",
    "roc_auc = roc_auc_score(y_test, y_pred)\n",
    "fpr, tpr, thresholds = roc_curve(y_test, decision_tree.predict_proba(X_test)[:,1])\n",
    "plt.plot(fpr, tpr, label='Decision Tree(area = %0.2f)' % roc_auc, color='c')\n",
    "\n",
    "\n",
    "plt.plot([0, 1], [0, 1],'r--')\n",
    "plt.xlim([0.0, 1.0])\n",
    "plt.ylim([0.0, 1.05])\n",
    "plt.xlabel('False Positive Rate')\n",
    "plt.ylabel('True Positive Rate')\n",
    "plt.title('Receiver operating characteristic')\n",
    "plt.legend(loc=\"lower right\")\n",
    "plt.savefig('Log_ROC')\n",
    "plt.show()"
   ]
  },
  {
   "cell_type": "markdown",
   "metadata": {},
   "source": [
    "# Feature Importance"
   ]
  },
  {
   "cell_type": "markdown",
   "metadata": {},
   "source": [
    "Finding feature importance of Logistic Regression and Random Forest models. URL: https://machinelearningmastery.com/calculate-feature-importance-with-python/\n",
    "\n",
    "Feature importance of SVM with linear kernel. URL: https://stackoverflow.com/questions/41592661/determining-the-most-contributing-features-for-svm-classifier-in-sklearn"
   ]
  },
  {
   "cell_type": "code",
   "execution_count": 131,
   "metadata": {
    "scrolled": true
   },
   "outputs": [
    {
     "name": "stdout",
     "output_type": "stream",
     "text": [
      "Feature: 0, Score: -12.07233\n",
      "Feature: 1, Score: 27.44237\n",
      "Feature: 2, Score: 93.96223\n",
      "Feature: 3, Score: -6.80131\n",
      "Feature: 4, Score: 62.82376\n",
      "Feature: 5, Score: -1.57863\n",
      "Feature: 6, Score: 100.00000\n",
      "Feature: 7, Score: 39.10170\n",
      "Feature: 8, Score: 30.41046\n",
      "Feature: 9, Score: -42.04612\n",
      "Feature: 10, Score: -37.75751\n",
      "Feature: 11, Score: -40.80970\n",
      "Feature: 12, Score: -135.28086\n",
      "Feature: 13, Score: -65.73351\n",
      "Feature: 14, Score: -6.84151\n",
      "Feature: 15, Score: -5.43771\n",
      "Feature: 16, Score: 2.74548\n",
      "Feature: 17, Score: 3.94824\n",
      "Feature: 18, Score: -4.80746\n",
      "Feature: 19, Score: 0.09139\n",
      "Feature: 20, Score: 5.97209\n",
      "Feature: 21, Score: 26.30865\n",
      "Feature: 22, Score: -25.05263\n"
     ]
    },
    {
     "name": "stderr",
     "output_type": "stream",
     "text": [
      "/home/null/anaconda3/lib/python3.8/site-packages/sklearn/linear_model/_logistic.py:762: ConvergenceWarning: lbfgs failed to converge (status=1):\n",
      "STOP: TOTAL NO. of ITERATIONS REACHED LIMIT.\n",
      "\n",
      "Increase the number of iterations (max_iter) or scale the data as shown in:\n",
      "    https://scikit-learn.org/stable/modules/preprocessing.html\n",
      "Please also refer to the documentation for alternative solver options:\n",
      "    https://scikit-learn.org/stable/modules/linear_model.html#logistic-regression\n",
      "  n_iter_i = _check_optimize_result(\n"
     ]
    }
   ],
   "source": [
    "model = LogisticRegression()\n",
    "model.fit(X_train, y_train)\n",
    "importance = model.coef_[0]\n",
    "relative_impotance = []\n",
    "#relative importance\n",
    "for i,v in enumerate(importance):\n",
    "    score = 100.0 * (v / max(importance))\n",
    "    relative_impotance.append(score)\n",
    "    print('Feature: %0d, Score: %.5f' % (i,score))"
   ]
  },
  {
   "cell_type": "code",
   "execution_count": 132,
   "metadata": {},
   "outputs": [
    {
     "data": {
      "image/png": "[encoded data removed]",
      "text/plain": [
       "<Figure size 432x288 with 1 Axes>"
      ]
     },
     "metadata": {
      "needs_background": "light"
     },
     "output_type": "display_data"
    }
   ],
   "source": [
    "plt.bar([x for x in range(len(relative_impotance))], relative_impotance)\n",
    "plt.ylabel('Relative Importance')\n",
    "plt.show()"
   ]
  },
  {
   "cell_type": "code",
   "execution_count": 133,
   "metadata": {},
   "outputs": [],
   "source": [
    "importance_dict = {X.columns[i]: relative_impotance[i] for i in range(len(relative_impotance))} \n",
    "sorted_importance = pd.DataFrame(sorted(importance_dict.items(), key=lambda kv: kv[1], reverse=True)[:15])\n",
    "sorted_importance.columns = ['feature_name', 'relative_importance']"
   ]
  },
  {
   "cell_type": "code",
   "execution_count": 134,
   "metadata": {},
   "outputs": [
    {
     "data": {
      "text/plain": [
       "<Figure size 2160x2160 with 0 Axes>"
      ]
     },
     "metadata": {},
     "output_type": "display_data"
    },
    {
     "data": {
      "image/png": "[encoded data removed]",
      "text/plain": [
       "<Figure size 432x288 with 1 Axes>"
      ]
     },
     "metadata": {
      "needs_background": "light"
     },
     "output_type": "display_data"
    }
   ],
   "source": [
    "plt.figure(figsize=(30, 30))\n",
    "sorted_importance.sort_values('relative_importance', inplace=True)\n",
    "sorted_importance.plot(kind='barh',y='relative_importance',x='feature_name')\n",
    "plt.ylabel('Feature Name')\n",
    "plt.xlabel('Relative Importance')\n",
    "plt.show()"
   ]
  },
  {
   "cell_type": "code",
   "execution_count": 135,
   "metadata": {},
   "outputs": [
    {
     "name": "stdout",
     "output_type": "stream",
     "text": [
      "Feature: 0, Score: 80.67820\n",
      "Feature: 1, Score: 16.98770\n",
      "Feature: 2, Score: 95.32586\n",
      "Feature: 3, Score: 48.47613\n",
      "Feature: 4, Score: 96.46883\n",
      "Feature: 5, Score: 71.88795\n",
      "Feature: 6, Score: 61.42658\n",
      "Feature: 7, Score: 11.44560\n",
      "Feature: 8, Score: 100.00000\n",
      "Feature: 9, Score: 70.58444\n",
      "Feature: 10, Score: 36.71334\n",
      "Feature: 11, Score: 9.03957\n",
      "Feature: 12, Score: 92.09302\n",
      "Feature: 13, Score: 93.39397\n",
      "Feature: 14, Score: 86.98966\n",
      "Feature: 15, Score: 15.20913\n",
      "Feature: 16, Score: 9.78676\n",
      "Feature: 17, Score: 9.58936\n",
      "Feature: 18, Score: 11.47760\n",
      "Feature: 19, Score: 7.25100\n",
      "Feature: 20, Score: 11.49765\n",
      "Feature: 21, Score: 0.21691\n",
      "Feature: 22, Score: 0.18785\n"
     ]
    },
    {
     "data": {
      "image/png": "[encoded data removed]",
      "text/plain": [
       "<Figure size 432x288 with 1 Axes>"
      ]
     },
     "metadata": {
      "needs_background": "light"
     },
     "output_type": "display_data"
    }
   ],
   "source": [
    "model = RandomForestClassifier()\n",
    "\n",
    "model.fit(X_train, y_train)\n",
    "\n",
    "importance = model.feature_importances_\n",
    "relative_impotance = []\n",
    "#relative importance\n",
    "for i,v in enumerate(importance):\n",
    "    score = 100.0 * (v / max(importance))\n",
    "    relative_impotance.append(score)\n",
    "    print('Feature: %0d, Score: %.5f' % (i,score))\n",
    "\n",
    "plt.bar([x for x in range(len(importance))], relative_impotance)\n",
    "plt.ylabel('Relative Importance')\n",
    "plt.show()"
   ]
  },
  {
   "cell_type": "code",
   "execution_count": 136,
   "metadata": {},
   "outputs": [],
   "source": [
    "importance_dict = {X.columns[i]: relative_impotance[i] for i in range(len(relative_impotance))} \n",
    "sorted_importance = pd.DataFrame(sorted(importance_dict.items(), key=lambda kv: kv[1], reverse=True)[:15])\n",
    "sorted_importance.columns = ['feature_name', 'relative_importance']"
   ]
  },
  {
   "cell_type": "code",
   "execution_count": 137,
   "metadata": {},
   "outputs": [
    {
     "data": {
      "text/html": [
       "<div>\n",
       "<style scoped>\n",
       "    .dataframe tbody tr th:only-of-type {\n",
       "        vertical-align: middle;\n",
       "    }\n",
       "\n",
       "    .dataframe tbody tr th {\n",
       "        vertical-align: top;\n",
       "    }\n",
       "\n",
       "    .dataframe thead th {\n",
       "        text-align: right;\n",
       "    }\n",
       "</style>\n",
       "<table border=\"1\" class=\"dataframe\">\n",
       "  <thead>\n",
       "    <tr style=\"text-align: right;\">\n",
       "      <th></th>\n",
       "      <th>feature_name</th>\n",
       "      <th>relative_importance</th>\n",
       "    </tr>\n",
       "  </thead>\n",
       "  <tbody>\n",
       "    <tr>\n",
       "      <th>0</th>\n",
       "      <td>revol_util</td>\n",
       "      <td>100.000000</td>\n",
       "    </tr>\n",
       "    <tr>\n",
       "      <th>1</th>\n",
       "      <td>dti</td>\n",
       "      <td>96.468827</td>\n",
       "    </tr>\n",
       "    <tr>\n",
       "      <th>2</th>\n",
       "      <td>installment</td>\n",
       "      <td>95.325860</td>\n",
       "    </tr>\n",
       "    <tr>\n",
       "      <th>3</th>\n",
       "      <td>fico_score</td>\n",
       "      <td>93.393975</td>\n",
       "    </tr>\n",
       "    <tr>\n",
       "      <th>4</th>\n",
       "      <td>log_annual_inc</td>\n",
       "      <td>92.093023</td>\n",
       "    </tr>\n",
       "    <tr>\n",
       "      <th>5</th>\n",
       "      <td>log_revol_bal</td>\n",
       "      <td>86.989656</td>\n",
       "    </tr>\n",
       "    <tr>\n",
       "      <th>6</th>\n",
       "      <td>loan_amnt</td>\n",
       "      <td>80.678203</td>\n",
       "    </tr>\n",
       "    <tr>\n",
       "      <th>7</th>\n",
       "      <td>earliest_cr_line</td>\n",
       "      <td>71.887949</td>\n",
       "    </tr>\n",
       "    <tr>\n",
       "      <th>8</th>\n",
       "      <td>total_acc</td>\n",
       "      <td>70.584439</td>\n",
       "    </tr>\n",
       "    <tr>\n",
       "      <th>9</th>\n",
       "      <td>open_acc</td>\n",
       "      <td>61.426580</td>\n",
       "    </tr>\n",
       "    <tr>\n",
       "      <th>10</th>\n",
       "      <td>emp_length</td>\n",
       "      <td>48.476134</td>\n",
       "    </tr>\n",
       "    <tr>\n",
       "      <th>11</th>\n",
       "      <td>mort_acc</td>\n",
       "      <td>36.713342</td>\n",
       "    </tr>\n",
       "    <tr>\n",
       "      <th>12</th>\n",
       "      <td>term</td>\n",
       "      <td>16.987704</td>\n",
       "    </tr>\n",
       "    <tr>\n",
       "      <th>13</th>\n",
       "      <td>verification_status_0</td>\n",
       "      <td>15.209130</td>\n",
       "    </tr>\n",
       "    <tr>\n",
       "      <th>14</th>\n",
       "      <td>home_ownership_2</td>\n",
       "      <td>11.497648</td>\n",
       "    </tr>\n",
       "  </tbody>\n",
       "</table>\n",
       "</div>"
      ],
      "text/plain": [
       "             feature_name  relative_importance\n",
       "0              revol_util           100.000000\n",
       "1                     dti            96.468827\n",
       "2             installment            95.325860\n",
       "3              fico_score            93.393975\n",
       "4          log_annual_inc            92.093023\n",
       "5           log_revol_bal            86.989656\n",
       "6               loan_amnt            80.678203\n",
       "7        earliest_cr_line            71.887949\n",
       "8               total_acc            70.584439\n",
       "9                open_acc            61.426580\n",
       "10             emp_length            48.476134\n",
       "11               mort_acc            36.713342\n",
       "12                   term            16.987704\n",
       "13  verification_status_0            15.209130\n",
       "14       home_ownership_2            11.497648"
      ]
     },
     "execution_count": 137,
     "metadata": {},
     "output_type": "execute_result"
    }
   ],
   "source": [
    "sorted_importance.head(20)"
   ]
  },
  {
   "cell_type": "code",
   "execution_count": 138,
   "metadata": {},
   "outputs": [
    {
     "data": {
      "text/plain": [
       "<Figure size 2160x2160 with 0 Axes>"
      ]
     },
     "metadata": {},
     "output_type": "display_data"
    },
    {
     "data": {
      "image/png": "[encoded data removed]",
      "text/plain": [
       "<Figure size 432x288 with 1 Axes>"
      ]
     },
     "metadata": {
      "needs_background": "light"
     },
     "output_type": "display_data"
    }
   ],
   "source": [
    "plt.figure(figsize=(30, 30))\n",
    "sorted_importance.sort_values('relative_importance', inplace=True)\n",
    "sorted_importance.plot(kind='barh',y='relative_importance',x='feature_name')\n",
    "plt.ylabel('Feature Name')\n",
    "plt.xlabel('Relative Importance')\n",
    "plt.show()"
   ]
  },
  {
   "cell_type": "markdown",
   "metadata": {},
   "source": [
    "The feature importance only support SVM with kernel 'linear'. The result is disregarded and not going to be included in the report."
   ]
  },
  {
   "cell_type": "code",
   "execution_count": 100,
   "metadata": {},
   "outputs": [],
   "source": [
    "model = svm.SVC(kernel='linear')\n",
    "model.fit(X, y)\n",
    "\n",
    "importance = model.coef_"
   ]
  },
  {
   "cell_type": "code",
   "execution_count": 101,
   "metadata": {},
   "outputs": [
    {
     "name": "stdout",
     "output_type": "stream",
     "text": [
      "Feature: 0, Score: -0.29076\n",
      "Feature: 1, Score: 44.98127\n",
      "Feature: 2, Score: 2.86562\n",
      "Feature: 3, Score: -12.65656\n",
      "Feature: 4, Score: 29.33670\n",
      "Feature: 5, Score: 5.80141\n",
      "Feature: 6, Score: 42.70154\n",
      "Feature: 7, Score: 85.46249\n",
      "Feature: 8, Score: 2.17562\n",
      "Feature: 9, Score: -20.40426\n",
      "Feature: 10, Score: -33.64560\n",
      "Feature: 11, Score: -130.85934\n",
      "Feature: 12, Score: -312.23832\n",
      "Feature: 13, Score: -12.68659\n",
      "Feature: 14, Score: -23.99497\n",
      "Feature: 15, Score: -120.88270\n",
      "Feature: 16, Score: 100.00000\n",
      "Feature: 17, Score: 20.88270\n",
      "Feature: 18, Score: -153.32637\n",
      "Feature: 19, Score: 61.87346\n",
      "Feature: 20, Score: 91.45290\n",
      "Feature: 21, Score: 77.02130\n",
      "Feature: 22, Score: -77.02130\n"
     ]
    },
    {
     "data": {
      "image/png": "[encoded data removed]",
      "text/plain": [
       "<Figure size 432x288 with 1 Axes>"
      ]
     },
     "metadata": {
      "needs_background": "light"
     },
     "output_type": "display_data"
    }
   ],
   "source": [
    "importance = importance[0]\n",
    "relative_impotance = []\n",
    "#relative importance\n",
    "for i,v in enumerate(importance):\n",
    "    score = 100.0 * (v / max(importance))\n",
    "    relative_impotance.append(score)\n",
    "    print('Feature: %0d, Score: %.5f' % (i,score))\n",
    "\n",
    "plt.bar([x for x in range(len(importance))], relative_impotance)\n",
    "plt.ylabel('Relative Importance')\n",
    "plt.show()"
   ]
  },
  {
   "cell_type": "code",
   "execution_count": 102,
   "metadata": {},
   "outputs": [],
   "source": [
    "importance_dict = {X.columns[i]: relative_impotance[i] for i in range(len(relative_impotance))} \n",
    "sorted_importance = pd.DataFrame(sorted(importance_dict.items(), key=lambda kv: kv[1], reverse=True)[:15])\n",
    "sorted_importance.columns = ['feature_name', 'relative_importance']"
   ]
  },
  {
   "cell_type": "code",
   "execution_count": 125,
   "metadata": {},
   "outputs": [
    {
     "data": {
      "text/html": [
       "<div>\n",
       "<style scoped>\n",
       "    .dataframe tbody tr th:only-of-type {\n",
       "        vertical-align: middle;\n",
       "    }\n",
       "\n",
       "    .dataframe tbody tr th {\n",
       "        vertical-align: top;\n",
       "    }\n",
       "\n",
       "    .dataframe thead th {\n",
       "        text-align: right;\n",
       "    }\n",
       "</style>\n",
       "<table border=\"1\" class=\"dataframe\">\n",
       "  <thead>\n",
       "    <tr style=\"text-align: right;\">\n",
       "      <th></th>\n",
       "      <th>feature_name</th>\n",
       "      <th>relative_importance</th>\n",
       "    </tr>\n",
       "  </thead>\n",
       "  <tbody>\n",
       "    <tr>\n",
       "      <th>14</th>\n",
       "      <td>verification_status_1</td>\n",
       "      <td>11.325664</td>\n",
       "    </tr>\n",
       "    <tr>\n",
       "      <th>13</th>\n",
       "      <td>pub_rec</td>\n",
       "      <td>14.099389</td>\n",
       "    </tr>\n",
       "    <tr>\n",
       "      <th>12</th>\n",
       "      <td>term</td>\n",
       "      <td>16.232339</td>\n",
       "    </tr>\n",
       "    <tr>\n",
       "      <th>11</th>\n",
       "      <td>mort_acc</td>\n",
       "      <td>31.692647</td>\n",
       "    </tr>\n",
       "    <tr>\n",
       "      <th>10</th>\n",
       "      <td>emp_length</td>\n",
       "      <td>48.474377</td>\n",
       "    </tr>\n",
       "    <tr>\n",
       "      <th>9</th>\n",
       "      <td>open_acc</td>\n",
       "      <td>65.257092</td>\n",
       "    </tr>\n",
       "    <tr>\n",
       "      <th>8</th>\n",
       "      <td>earliest_cr_line</td>\n",
       "      <td>70.534829</td>\n",
       "    </tr>\n",
       "    <tr>\n",
       "      <th>7</th>\n",
       "      <td>total_acc</td>\n",
       "      <td>72.491128</td>\n",
       "    </tr>\n",
       "    <tr>\n",
       "      <th>6</th>\n",
       "      <td>fico_score</td>\n",
       "      <td>79.067749</td>\n",
       "    </tr>\n",
       "    <tr>\n",
       "      <th>5</th>\n",
       "      <td>loan_amnt</td>\n",
       "      <td>80.613371</td>\n",
       "    </tr>\n",
       "    <tr>\n",
       "      <th>4</th>\n",
       "      <td>log_revol_bal</td>\n",
       "      <td>92.659787</td>\n",
       "    </tr>\n",
       "    <tr>\n",
       "      <th>3</th>\n",
       "      <td>log_annual_inc</td>\n",
       "      <td>93.449804</td>\n",
       "    </tr>\n",
       "    <tr>\n",
       "      <th>2</th>\n",
       "      <td>installment</td>\n",
       "      <td>96.823384</td>\n",
       "    </tr>\n",
       "    <tr>\n",
       "      <th>1</th>\n",
       "      <td>revol_util</td>\n",
       "      <td>97.856255</td>\n",
       "    </tr>\n",
       "    <tr>\n",
       "      <th>0</th>\n",
       "      <td>dti</td>\n",
       "      <td>100.000000</td>\n",
       "    </tr>\n",
       "  </tbody>\n",
       "</table>\n",
       "</div>"
      ],
      "text/plain": [
       "             feature_name  relative_importance\n",
       "14  verification_status_1            11.325664\n",
       "13                pub_rec            14.099389\n",
       "12                   term            16.232339\n",
       "11               mort_acc            31.692647\n",
       "10             emp_length            48.474377\n",
       "9                open_acc            65.257092\n",
       "8        earliest_cr_line            70.534829\n",
       "7               total_acc            72.491128\n",
       "6              fico_score            79.067749\n",
       "5               loan_amnt            80.613371\n",
       "4           log_revol_bal            92.659787\n",
       "3          log_annual_inc            93.449804\n",
       "2             installment            96.823384\n",
       "1              revol_util            97.856255\n",
       "0                     dti           100.000000"
      ]
     },
     "execution_count": 125,
     "metadata": {},
     "output_type": "execute_result"
    }
   ],
   "source": [
    "sorted_importance"
   ]
  },
  {
   "cell_type": "code",
   "execution_count": 103,
   "metadata": {},
   "outputs": [
    {
     "data": {
      "text/plain": [
       "<Figure size 2160x2160 with 0 Axes>"
      ]
     },
     "metadata": {},
     "output_type": "display_data"
    },
    {
     "data": {
      "image/png": "[encoded data removed]",
      "text/plain": [
       "<Figure size 432x288 with 1 Axes>"
      ]
     },
     "metadata": {
      "needs_background": "light"
     },
     "output_type": "display_data"
    }
   ],
   "source": [
    "plt.figure(figsize=(30, 30))\n",
    "sorted_importance.sort_values('relative_importance', inplace=True)\n",
    "sorted_importance.plot(kind='barh',y='relative_importance',x='feature_name')\n",
    "plt.ylabel('Feature Name')\n",
    "plt.xlabel('Relative Importance')\n",
    "plt.show()"
   ]
  },
  {
   "cell_type": "markdown",
   "metadata": {},
   "source": [
    "# Feature Selection"
   ]
  },
  {
   "cell_type": "code",
   "execution_count": 82,
   "metadata": {},
   "outputs": [],
   "source": [
    "# select 3 features of dti, term, and open_acc\n",
    "X_new = X[['dti', 'term', 'open_acc']]"
   ]
  },
  {
   "cell_type": "code",
   "execution_count": 83,
   "metadata": {},
   "outputs": [
    {
     "name": "stdout",
     "output_type": "stream",
     "text": [
      "1.0    6808\n",
      "0.0    6808\n",
      "Name: charged_off, dtype: int64\n"
     ]
    }
   ],
   "source": [
    "X_train, X_test, y_train, y_test = train_test_split(X_new, y, test_size=0.1, random_state=0, shuffle=True)\n",
    "\n",
    "# Combine training dataset with target variable 'charged_off' from y_train\n",
    "train = pd.concat([X_train, y_train], axis=1)\n",
    "\n",
    "non_default = train[train.charged_off==0]\n",
    "default = train[train.charged_off==1]\n",
    "\n",
    "# upsample minority to match the number of majority class (non_default)\n",
    "default_upsampled = resample(default,\n",
    "                          replace=True, \n",
    "                          n_samples=len(non_default),\n",
    "                          random_state=0) \n",
    "\n",
    "# combine non_default and upsampled default\n",
    "upsampled = pd.concat([non_default, default_upsampled])\n",
    "\n",
    "print(upsampled.charged_off.value_counts())\n",
    "\n",
    "# separate to X and y of training dataset\n",
    "X_train = upsampled.drop('charged_off', axis=1)\n",
    "y_train = upsampled.charged_off\n",
    "\n",
    "# Normalise data\n",
    "scaler = MinMaxScaler()\n",
    "X_train = scaler.fit_transform(X_train)\n",
    "X_test = scaler.transform(X_test)\n",
    "\n",
    "X_train = np.array(X_train).astype(np.float32)\n",
    "X_test = np.array(X_test).astype(np.float32)\n",
    "y_train = np.array(y_train).astype(np.float32)\n",
    "y_test = np.array(y_test).astype(np.float32)"
   ]
  },
  {
   "cell_type": "code",
   "execution_count": 84,
   "metadata": {},
   "outputs": [
    {
     "name": "stdout",
     "output_type": "stream",
     "text": [
      "Best Score: 0.5388957249865954\n",
      "Best Hyperparameters: {'C': 10, 'gamma': 'scale', 'kernel': 'rbf'}\n"
     ]
    }
   ],
   "source": [
    "model = svm.SVC()\n",
    "\n",
    "kernel = ['poly', 'rbf', 'sigmoid']\n",
    "C = [50, 10, 1.0, 0.1, 0.01]\n",
    "gamma = ['scale']\n",
    "space = dict(kernel=kernel,C=C,gamma=gamma)\n",
    "\n",
    "cv = RepeatedStratifiedKFold(n_splits=10, n_repeats=3, random_state=1)\n",
    "\n",
    "search = GridSearchCV(model, space, scoring='f1', n_jobs=-1, cv=cv)\n",
    "result = search.fit(X_train, y_train)\n",
    "\n",
    "print('Best Score: %s' % result.best_score_)\n",
    "print('Best Hyperparameters: %s' % result.best_params_)"
   ]
  },
  {
   "cell_type": "code",
   "execution_count": 85,
   "metadata": {},
   "outputs": [],
   "source": [
    "best_estimator = result.best_estimator_\n",
    "best_C = result.best_params_['C']\n",
    "best_gamma = result.best_params_['gamma']\n",
    "best_kernel = result.best_params_['kernel']"
   ]
  },
  {
   "cell_type": "code",
   "execution_count": 86,
   "metadata": {},
   "outputs": [],
   "source": [
    "clf = svm.SVC(C = best_C, gamma = best_gamma, kernel = best_kernel, probability=True)\n",
    "clf.fit(X_train, y_train)\n",
    "\n",
    "y_train_pred = clf.predict(X_train)\n",
    "y_pred = clf.predict(X_test)"
   ]
  },
  {
   "cell_type": "code",
   "execution_count": 87,
   "metadata": {},
   "outputs": [
    {
     "name": "stdout",
     "output_type": "stream",
     "text": [
      "Train Result:\n",
      "================================================\n",
      "Classification Report:\n",
      "                   0.0          1.0  accuracy     macro avg  weighted avg\n",
      "precision     0.568917     0.602225   0.58233      0.585571      0.585571\n",
      "recall        0.679642     0.485018   0.58233      0.582330      0.582330\n",
      "f1-score      0.619370     0.537304   0.58233      0.578337      0.578337\n",
      "support    6808.000000  6808.000000   0.58233  13616.000000  13616.000000\n",
      "_______________________________________________\n",
      "Confusion Matrix: \n",
      " [[4627 2181]\n",
      " [3506 3302]]\n",
      "\n",
      "_______________________________________________\n",
      "AUC: \n",
      " 0.5823296122209165\n",
      "\n",
      "Accuracy: \n",
      " 0.5823296122209166\n",
      "\n",
      "Test Result:\n",
      "================================================\n",
      "Classification Report:\n",
      "                  0.0         1.0  accuracy   macro avg  weighted avg\n",
      "precision    0.898799    0.182410  0.651685    0.540605      0.806232\n",
      "recall       0.676129    0.486957  0.651685    0.581543      0.651685\n",
      "f1-score     0.771723    0.265403  0.651685    0.518563      0.706300\n",
      "support    775.000000  115.000000  0.651685  890.000000    890.000000\n",
      "_______________________________________________\n",
      "Confusion Matrix: \n",
      " [[524 251]\n",
      " [ 59  56]]\n",
      "\n",
      "_______________________________________________\n",
      "AUC: \n",
      " 0.5815427769985975\n",
      "\n",
      "Accuracy: \n",
      " 0.651685393258427\n",
      "\n"
     ]
    }
   ],
   "source": [
    "print_score(y_train, y_train_pred, train=True)\n",
    "print_score(y_test, y_pred, train=False)"
   ]
  },
  {
   "cell_type": "markdown",
   "metadata": {},
   "source": [
    "No improvement of performance after feature selection"
   ]
  },
  {
   "cell_type": "code",
   "execution_count": 88,
   "metadata": {},
   "outputs": [
    {
     "name": "stdout",
     "output_type": "stream",
     "text": [
      "Best Score: 0.6698238316813235\n",
      "Best Hyperparameters: {'C': 2.041296542554642e-05, 'penalty': 'l2', 'solver': 'liblinear'}\n"
     ]
    }
   ],
   "source": [
    "model = LogisticRegression()\n",
    "\n",
    "# define evaluation\n",
    "cv = RepeatedStratifiedKFold(n_splits=10, n_repeats=3, random_state=1)\n",
    "# define search space\n",
    "space = dict()\n",
    "space['solver'] = ['newton-cg', 'lbfgs', 'liblinear']\n",
    "space['penalty'] = ['none', 'l1', 'l2', 'elasticnet']\n",
    "space['C'] = loguniform(1e-5, 100)\n",
    "\n",
    "search = RandomizedSearchCV(model, space, n_iter=1000, scoring='f1', n_jobs=-1, cv=cv, random_state=1)\n",
    "result = search.fit(X_train, y_train)\n",
    "\n",
    "# summarize result\n",
    "print('Best Score: %s' % result.best_score_)\n",
    "print('Best Hyperparameters: %s' % result.best_params_)"
   ]
  },
  {
   "cell_type": "code",
   "execution_count": 89,
   "metadata": {},
   "outputs": [],
   "source": [
    "best_estimator = result.best_estimator_\n",
    "best_C = result.best_params_['C']\n",
    "best_penalty = result.best_params_['penalty']\n",
    "best_solver = result.best_params_['solver']"
   ]
  },
  {
   "cell_type": "code",
   "execution_count": 90,
   "metadata": {},
   "outputs": [],
   "source": [
    "logreg = LogisticRegression(C = best_C, penalty = best_penalty, solver = best_solver)\n",
    "logreg.fit(X_train, y_train)\n",
    "\n",
    "y_train_pred = logreg.predict(X_train)\n",
    "y_pred = logreg.predict(X_test)"
   ]
  },
  {
   "cell_type": "code",
   "execution_count": 91,
   "metadata": {},
   "outputs": [
    {
     "name": "stdout",
     "output_type": "stream",
     "text": [
      "Train Result:\n",
      "================================================\n",
      "Classification Report:\n",
      "                   0.0          1.0  accuracy     macro avg  weighted avg\n",
      "precision     0.685495     0.521835  0.539072      0.603665      0.603665\n",
      "recall        0.144389     0.933754  0.539072      0.539072      0.539072\n",
      "f1-score      0.238534     0.669510  0.539072      0.454022      0.454022\n",
      "support    6808.000000  6808.000000  0.539072  13616.000000  13616.000000\n",
      "_______________________________________________\n",
      "Confusion Matrix: \n",
      " [[ 983 5825]\n",
      " [ 451 6357]]\n",
      "\n",
      "_______________________________________________\n",
      "AUC: \n",
      " 0.5390716803760283\n",
      "\n",
      "Accuracy: \n",
      " 0.5390716803760282\n",
      "\n",
      "Test Result:\n",
      "================================================\n",
      "Classification Report:\n",
      "                  0.0         1.0  accuracy   macro avg  weighted avg\n",
      "precision    0.949640    0.143808  0.269663    0.546724      0.845516\n",
      "recall       0.170323    0.939130  0.269663    0.554727      0.269663\n",
      "f1-score     0.288840    0.249423  0.269663    0.269131      0.283747\n",
      "support    775.000000  115.000000  0.269663  890.000000    890.000000\n",
      "_______________________________________________\n",
      "Confusion Matrix: \n",
      " [[132 643]\n",
      " [  7 108]]\n",
      "\n",
      "_______________________________________________\n",
      "AUC: \n",
      " 0.554726507713885\n",
      "\n",
      "Accuracy: \n",
      " 0.2696629213483146\n",
      "\n"
     ]
    }
   ],
   "source": [
    "print_score(y_train, y_train_pred, train=True)\n",
    "print_score(y_test, y_pred, train=False)"
   ]
  },
  {
   "cell_type": "markdown",
   "metadata": {},
   "source": [
    "No improvement of performance after feature selection"
   ]
  },
  {
   "cell_type": "code",
   "execution_count": 92,
   "metadata": {},
   "outputs": [],
   "source": [
    "# select 11 for random forest\n",
    "X_new = X[['dti', 'revol_util', 'installment', 'log_annual_inc', 'log_revol_bal', 'loan_amnt', 'fico_score', 'total_acc', 'earliest_cr_line', 'open_acc', 'emp_length']]"
   ]
  },
  {
   "cell_type": "code",
   "execution_count": 93,
   "metadata": {},
   "outputs": [
    {
     "name": "stdout",
     "output_type": "stream",
     "text": [
      "1.0    6808\n",
      "0.0    6808\n",
      "Name: charged_off, dtype: int64\n"
     ]
    }
   ],
   "source": [
    "X_train, X_test, y_train, y_test = train_test_split(X_new, y, test_size=0.1, random_state=0, shuffle=True)\n",
    "\n",
    "# Combine training dataset with target variable 'charged_off' from y_train\n",
    "train = pd.concat([X_train, y_train], axis=1)\n",
    "\n",
    "non_default = train[train.charged_off==0]\n",
    "default = train[train.charged_off==1]\n",
    "\n",
    "# upsample minority to match the number of majority class (non_default)\n",
    "default_upsampled = resample(default,\n",
    "                          replace=True, \n",
    "                          n_samples=len(non_default),\n",
    "                          random_state=0) \n",
    "\n",
    "# combine non_default and upsampled default\n",
    "upsampled = pd.concat([non_default, default_upsampled])\n",
    "\n",
    "print(upsampled.charged_off.value_counts())\n",
    "\n",
    "# separate to X and y of training dataset\n",
    "X_train = upsampled.drop('charged_off', axis=1)\n",
    "y_train = upsampled.charged_off\n",
    "\n",
    "# Normalise data\n",
    "scaler = MinMaxScaler()\n",
    "X_train = scaler.fit_transform(X_train)\n",
    "X_test = scaler.transform(X_test)\n",
    "\n",
    "X_train = np.array(X_train).astype(np.float32)\n",
    "X_test = np.array(X_test).astype(np.float32)\n",
    "y_train = np.array(y_train).astype(np.float32)\n",
    "y_test = np.array(y_test).astype(np.float32)"
   ]
  },
  {
   "cell_type": "code",
   "execution_count": 94,
   "metadata": {},
   "outputs": [
    {
     "name": "stdout",
     "output_type": "stream",
     "text": [
      "Best Score: 0.7946395405760964\n",
      "Best Hyperparameters: {'max_depth': 8, 'max_features': 0.5, 'n_estimators': 100}\n"
     ]
    }
   ],
   "source": [
    "model = RandomForestClassifier()\n",
    "\n",
    "n_estimators = [100, 500, 1000]\n",
    "max_depth = [3, 5, 8]\n",
    "max_features = [\"sqrt\", 0.5]\n",
    "space = dict(\n",
    "    n_estimators = n_estimators,\n",
    "    max_depth = max_depth,  \n",
    "    max_features = max_features\n",
    ")\n",
    "\n",
    "cv = RepeatedStratifiedKFold(n_splits=10, n_repeats=3, random_state=1)\n",
    "search = GridSearchCV(model, space, scoring='f1', n_jobs=-1, cv=cv)\n",
    "result = search.fit(X_train, y_train)\n",
    "\n",
    "print('Best Score: %s' % result.best_score_)\n",
    "print('Best Hyperparameters: %s' % result.best_params_)"
   ]
  },
  {
   "cell_type": "code",
   "execution_count": 95,
   "metadata": {},
   "outputs": [],
   "source": [
    "best_estimator = result.best_estimator_\n",
    "best_n_estimators = result.best_params_['n_estimators']\n",
    "best_max_depth = result.best_params_['max_depth']\n",
    "best_max_features = result.best_params_['max_features']"
   ]
  },
  {
   "cell_type": "code",
   "execution_count": 96,
   "metadata": {},
   "outputs": [],
   "source": [
    "random_forest = RandomForestClassifier(\n",
    "    n_estimators = best_n_estimators,\n",
    "    class_weight='balanced',\n",
    "    max_depth = best_max_depth,\n",
    "    max_features = best_max_features\n",
    ")\n",
    "random_forest.fit(X_train, y_train)\n",
    "\n",
    "y_train_pred = random_forest.predict(X_train)\n",
    "y_pred = random_forest.predict(X_test)"
   ]
  },
  {
   "cell_type": "code",
   "execution_count": 97,
   "metadata": {},
   "outputs": [
    {
     "name": "stdout",
     "output_type": "stream",
     "text": [
      "Train Result:\n",
      "================================================\n",
      "Classification Report:\n",
      "                   0.0          1.0  accuracy     macro avg  weighted avg\n",
      "precision     0.854962     0.793002  0.821019      0.823982      0.823982\n",
      "recall        0.773208     0.868831  0.821019      0.821019      0.821019\n",
      "f1-score      0.812032     0.829186  0.821019      0.820609      0.820609\n",
      "support    6808.000000  6808.000000  0.821019  13616.000000  13616.000000\n",
      "_______________________________________________\n",
      "Confusion Matrix: \n",
      " [[5264 1544]\n",
      " [ 893 5915]]\n",
      "\n",
      "_______________________________________________\n",
      "AUC: \n",
      " 0.8210193889541716\n",
      "\n",
      "Accuracy: \n",
      " 0.8210193889541716\n",
      "\n",
      "Test Result:\n",
      "================================================\n",
      "Classification Report:\n",
      "                  0.0         1.0  accuracy   macro avg  weighted avg\n",
      "precision    0.917329    0.241379  0.719101    0.579354      0.829987\n",
      "recall       0.744516    0.547826  0.719101    0.646171      0.719101\n",
      "f1-score     0.821937    0.335106  0.719101    0.578522      0.759032\n",
      "support    775.000000  115.000000  0.719101  890.000000    890.000000\n",
      "_______________________________________________\n",
      "Confusion Matrix: \n",
      " [[577 198]\n",
      " [ 52  63]]\n",
      "\n",
      "_______________________________________________\n",
      "AUC: \n",
      " 0.6461711079943898\n",
      "\n",
      "Accuracy: \n",
      " 0.7191011235955056\n",
      "\n"
     ]
    }
   ],
   "source": [
    "print_score(y_train, y_train_pred, train=True)\n",
    "print_score(y_test, y_pred, train=False)"
   ]
  },
  {
   "cell_type": "markdown",
   "metadata": {},
   "source": [
    "No improvement of performance after feature selection"
   ]
  },
  {
   "cell_type": "code",
   "execution_count": null,
   "metadata": {},
   "outputs": [],
   "source": []
  }
 ],
 "metadata": {
  "kernelspec": {
   "display_name": "Python 3",
   "language": "python",
   "name": "python3"
  },
  "language_info": {
   "codemirror_mode": {
    "name": "ipython",
    "version": 3
   },
   "file_extension": ".py",
   "mimetype": "text/x-python",
   "name": "python",
   "nbconvert_exporter": "python",
   "pygments_lexer": "ipython3",
   "version": "3.8.5"
  }
 },
 "nbformat": 4,
 "nbformat_minor": 5
}
